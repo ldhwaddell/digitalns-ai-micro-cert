{
 "cells": [
  {
   "cell_type": "code",
   "execution_count": 2,
   "id": "2c83f065-5386-46aa-9984-3efc35356602",
   "metadata": {},
   "outputs": [],
   "source": [
    "# This is all the code and exercise solutions for chapters 1 to 6 of Python Basics"
   ]
  },
  {
   "cell_type": "code",
   "execution_count": 3,
   "id": "70a1ac36-d240-4f17-bd0d-0bfb1cd29f9f",
   "metadata": {},
   "outputs": [],
   "source": [
    "# First part is about using markdowns and codes"
   ]
  },
  {
   "cell_type": "raw",
   "id": "fdf37699-c683-4126-86f1-f02a0d2d8ebe",
   "metadata": {},
   "source": [
    "This is a test notebook"
   ]
  },
  {
   "cell_type": "markdown",
   "id": "455b0e7f-0431-4fea-a86c-7cbbef424629",
   "metadata": {},
   "source": [
    "* first topic\n",
    "* second topic\n",
    "* third topic"
   ]
  },
  {
   "cell_type": "markdown",
   "id": "d32472f8-c3b9-43a6-bcfc-aadb833e0ce2",
   "metadata": {},
   "source": [
    "# this is a header\n",
    "this is a normal text"
   ]
  },
  {
   "cell_type": "markdown",
   "id": "00074ad0-08f9-4c61-9440-0e7c45a34de8",
   "metadata": {},
   "source": [
    "$ x = \\int $"
   ]
  },
  {
   "cell_type": "markdown",
   "id": "4d84482d-3173-4733-93c9-861bc68c137c",
   "metadata": {},
   "source": [
    "* first\n",
    "* second\n",
    "    * first sub topic\n",
    "    * second sub topic\n",
    "* third"
   ]
  },
  {
   "cell_type": "code",
   "execution_count": 1,
   "id": "b046d909-dbf6-466d-b80d-4ef616e32666",
   "metadata": {},
   "outputs": [
    {
     "data": {
      "text/plain": [
       "7"
      ]
     },
     "execution_count": 1,
     "metadata": {},
     "output_type": "execute_result"
    }
   ],
   "source": [
    "# using Python as a calculator \n",
    "5+2"
   ]
  },
  {
   "cell_type": "code",
   "execution_count": 5,
   "id": "020ae28b-88ce-47cc-acab-291650f0785d",
   "metadata": {},
   "outputs": [],
   "source": [
    "# this is a commment for defininig a variable\n",
    "age = 36"
   ]
  },
  {
   "cell_type": "code",
   "execution_count": 7,
   "id": "0aa397f9-e624-4a5c-86d1-72a28de2367e",
   "metadata": {},
   "outputs": [
    {
     "name": "stdout",
     "output_type": "stream",
     "text": [
      "36\n"
     ]
    }
   ],
   "source": [
    "# we can use print() to print something on the screen\n",
    "print(age)"
   ]
  },
  {
   "cell_type": "code",
   "execution_count": 3,
   "id": "37cd69e0-62be-48c8-8bc8-521fb8dc94a3",
   "metadata": {},
   "outputs": [],
   "source": [
    "# another variable definition, using letters instead of numbers\n",
    "my_name = 'yashar'"
   ]
  },
  {
   "cell_type": "code",
   "execution_count": 10,
   "id": "775f7878-8049-4405-a175-a877e75e1a36",
   "metadata": {},
   "outputs": [
    {
     "name": "stdout",
     "output_type": "stream",
     "text": [
      "yashar\n"
     ]
    }
   ],
   "source": [
    "print (my_name)"
   ]
  },
  {
   "cell_type": "code",
   "execution_count": 11,
   "id": "97a580e0-1c53-44c6-b2c0-a6aad64035ae",
   "metadata": {},
   "outputs": [
    {
     "name": "stdout",
     "output_type": "stream",
     "text": [
      "My first name is yashar and my age is 36\n"
     ]
    }
   ],
   "source": [
    "# lets combine two variables and some statements\n",
    "print ('My first name is',my_name,'and my age is', age)"
   ]
  },
  {
   "cell_type": "code",
   "execution_count": 13,
   "id": "39d2bc96-7ce9-4149-ba89-ebf5d95eea4c",
   "metadata": {},
   "outputs": [
    {
     "name": "stdout",
     "output_type": "stream",
     "text": [
      "monfared\n"
     ]
    }
   ],
   "source": [
    "last_name = 'monfared'\n",
    "print (last_name)"
   ]
  },
  {
   "cell_type": "code",
   "execution_count": 14,
   "id": "e24c8fc6-cd72-4957-af24-88381e1e5b8d",
   "metadata": {},
   "outputs": [],
   "source": [
    "# we want to use variables in calculations\n",
    "my_future_age_in10years = age + 10"
   ]
  },
  {
   "cell_type": "code",
   "execution_count": 15,
   "id": "a8e3b9b6-1ad4-4fef-846f-161f39fc8028",
   "metadata": {},
   "outputs": [
    {
     "name": "stdout",
     "output_type": "stream",
     "text": [
      "46\n"
     ]
    }
   ],
   "source": [
    "print (my_future_age_in10years)"
   ]
  },
  {
   "cell_type": "code",
   "execution_count": 4,
   "id": "4702ab7e-e4a7-4814-b458-9ef93a029b80",
   "metadata": {},
   "outputs": [
    {
     "name": "stdout",
     "output_type": "stream",
     "text": [
      "My height in feet is: 5.8070868\n"
     ]
    }
   ],
   "source": [
    "# Exercise 4.1 solution\n",
    "# my height in meters\n",
    "height_meters = 1.77\n",
    "\n",
    "# 1 meter = 3.28084 feet\n",
    "Conversion_constant = 3.28084\n",
    "\n",
    "# convert my height from meters to feet\n",
    "height_feet = height_meters * Conversion_constant\n",
    "\n",
    "print ('My height in feet is:',height_feet)"
   ]
  },
  {
   "cell_type": "code",
   "execution_count": 17,
   "id": "5cc2c642-6706-42a9-a478-1e0aadb44d58",
   "metadata": {},
   "outputs": [
    {
     "name": "stdout",
     "output_type": "stream",
     "text": [
      "my first name is john and my last name is reyes\n"
     ]
    }
   ],
   "source": [
    "first_name, last_name = 'john','reyes'\n",
    "print('my first name is',first_name,'and my last name is',last_name)"
   ]
  },
  {
   "cell_type": "code",
   "execution_count": 18,
   "id": "dcd3dcd6-8170-47cb-8b20-eb75f5560b53",
   "metadata": {},
   "outputs": [
    {
     "name": "stdout",
     "output_type": "stream",
     "text": [
      "<class 'int'>\n"
     ]
    }
   ],
   "source": [
    "# we use type() to find out the type of values in Python\n",
    "print (type(14))"
   ]
  },
  {
   "cell_type": "code",
   "execution_count": 19,
   "id": "11405f3e-1826-4441-9799-9aa771ecdcc2",
   "metadata": {},
   "outputs": [
    {
     "name": "stdout",
     "output_type": "stream",
     "text": [
      "<class 'float'>\n"
     ]
    }
   ],
   "source": [
    "print(type(3.14))"
   ]
  },
  {
   "cell_type": "code",
   "execution_count": 20,
   "id": "f3185f54-772b-4435-8db0-cba6ff3cc858",
   "metadata": {},
   "outputs": [
    {
     "name": "stdout",
     "output_type": "stream",
     "text": [
      "<class 'str'>\n"
     ]
    }
   ],
   "source": [
    "print(type(first_name))"
   ]
  },
  {
   "cell_type": "code",
   "execution_count": 21,
   "id": "edab7d84-d1b1-451e-9a1e-294f22ff89b8",
   "metadata": {},
   "outputs": [
    {
     "name": "stdout",
     "output_type": "stream",
     "text": [
      "Variable                  Type             Data/Info\n",
      "----------------------------------------------------\n",
      "AGE                       int              39\n",
      "Age                       int              25\n",
      "Conversion_constant       float            3.28084\n",
      "NamespaceMagics           MetaHasTraits    <class 'IPython.core.magi<...>mespace.NamespaceMagics'>\n",
      "age                       int              36\n",
      "first_name                str              john\n",
      "get_ipython               function         <function get_ipython at 0x0000028CB46E1800>\n",
      "height_feet               float            5.8070868\n",
      "height_meters             float            1.77\n",
      "json                      module           <module 'json' from 'C:\\\\<...>\\Lib\\\\json\\\\__init__.py'>\n",
      "last_name                 str              reyes\n",
      "my_future_age_in10years   int              46\n",
      "my_name                   str              yashar\n",
      "sys                       module           <module 'sys' (built-in)>\n"
     ]
    }
   ],
   "source": [
    "%whos"
   ]
  },
  {
   "cell_type": "code",
   "execution_count": 5,
   "id": "8b4395c8-3237-4ed6-bfa3-47b346a2b0dd",
   "metadata": {},
   "outputs": [
    {
     "name": "stdout",
     "output_type": "stream",
     "text": [
      "<class 'float'>\n"
     ]
    }
   ],
   "source": [
    "# solution to the exercise 5.1\n",
    "first_number = 3\n",
    "second_number = 3.1\n",
    "\n",
    "#calculate the sum\n",
    "sum = first_number + second_number\n",
    "\n",
    "print(type(sum))"
   ]
  },
  {
   "cell_type": "code",
   "execution_count": 23,
   "id": "bfd3cbdc-378e-46a0-a9e5-c33693b3d917",
   "metadata": {},
   "outputs": [
    {
     "name": "stdin",
     "output_type": "stream",
     "text": [
      "enter your age: 35\n"
     ]
    }
   ],
   "source": [
    "# we can use input() to take values from users\n",
    "user_age = input('enter your age:')"
   ]
  },
  {
   "cell_type": "code",
   "execution_count": 26,
   "id": "84e9eaaa-59a4-49f9-979d-d8b6eeb271c3",
   "metadata": {},
   "outputs": [
    {
     "name": "stdout",
     "output_type": "stream",
     "text": [
      "<class 'int'>\n"
     ]
    }
   ],
   "source": [
    "# we can user int() or float() to convert variable types\n",
    "# we can use int() to convert a string to an integer\n",
    "# we can float() to convert a string to a flot\n",
    "user_age_integer = int(user_age)\n",
    "print (type(user_age_integer))"
   ]
  },
  {
   "cell_type": "code",
   "execution_count": 24,
   "id": "e13b9658-0177-4fd5-ae2d-ec340c41e041",
   "metadata": {},
   "outputs": [
    {
     "name": "stdout",
     "output_type": "stream",
     "text": [
      "35\n"
     ]
    }
   ],
   "source": [
    "print(user_age)"
   ]
  },
  {
   "cell_type": "code",
   "execution_count": 25,
   "id": "78bcb2e8-d05f-404f-b0b7-565391098d49",
   "metadata": {},
   "outputs": [
    {
     "name": "stdout",
     "output_type": "stream",
     "text": [
      "<class 'str'>\n"
     ]
    }
   ],
   "source": [
    "print(type(user_age))"
   ]
  },
  {
   "cell_type": "code",
   "execution_count": 6,
   "id": "a69c9da1-001e-49f6-866e-6c201c3782e3",
   "metadata": {},
   "outputs": [
    {
     "name": "stdin",
     "output_type": "stream",
     "text": [
      "Enter your first integer: 1\n",
      "Enter your second integer: 2\n"
     ]
    },
    {
     "name": "stdout",
     "output_type": "stream",
     "text": [
      "The sum is equal to 3\n"
     ]
    }
   ],
   "source": [
    "# exercise solution 6.2\n",
    "# ask users to enter two numbers and convert them into integers at the same time\n",
    "first_number = int(input(\"Enter your first integer:\"))\n",
    "second_number = int(input(\"Enter your second integer:\"))\n",
    "# we calculate the sum\n",
    "sum = first_number + second_number\n",
    "print('The sum is equal to',sum)"
   ]
  },
  {
   "cell_type": "code",
   "execution_count": 8,
   "id": "dd15e9aa-ed83-47f2-a287-d146d8a19a3d",
   "metadata": {},
   "outputs": [
    {
     "name": "stdin",
     "output_type": "stream",
     "text": [
      "enter your first name: yashar\n",
      "enter your last name: monfared\n",
      "enter your age: 36\n"
     ]
    },
    {
     "name": "stdout",
     "output_type": "stream",
     "text": [
      "your name is yashar monfared and you are 36 years old\n"
     ]
    }
   ],
   "source": [
    "# exercise solution 6.1\n",
    "# ask users for three different inputs\n",
    "first_name = input('enter your first name:')\n",
    "last_name = input('enter your last name:')\n",
    "age = input ('enter your age:')\n",
    "\n",
    "#print the user's info\n",
    "print('your name is',first_name,last_name,'and you are',age,'years old')"
   ]
  },
  {
   "cell_type": "code",
   "execution_count": 10,
   "id": "4c176ad5-8d7a-401c-9153-0e6bffd04546",
   "metadata": {},
   "outputs": [
    {
     "name": "stdin",
     "output_type": "stream",
     "text": [
      "Enter your height in meters: 1.75\n"
     ]
    },
    {
     "name": "stdout",
     "output_type": "stream",
     "text": [
      "My height in feet is: 5.74147\n"
     ]
    }
   ],
   "source": [
    "# exercise solution 6.3\n",
    "#my height in meters\n",
    "height_meters = float(input(\"Enter your height in meters:\"))\n",
    "\n",
    "# 1 meter = 3.28084 feet\n",
    "Conversion_constant = 3.28084\n",
    "\n",
    "# convert my height from meters to feet\n",
    "height_feet = height_meters * Conversion_constant\n",
    "\n",
    "print ('My height in feet is:',height_feet)"
   ]
  },
  {
   "cell_type": "code",
   "execution_count": 11,
   "id": "ed91190f-c2c6-4305-8e91-52ca71cf77bf",
   "metadata": {},
   "outputs": [
    {
     "name": "stdout",
     "output_type": "stream",
     "text": [
      "hello yashar my age is 36\n"
     ]
    }
   ],
   "source": [
    "# First way of using print() function\n",
    "name = 'yashar'\n",
    "age = 36\n",
    "print ('hello',name,'my age is', age)"
   ]
  },
  {
   "cell_type": "code",
   "execution_count": 12,
   "id": "6fbb688f-4fac-4932-8d62-be9ddc17366a",
   "metadata": {},
   "outputs": [
    {
     "data": {
      "text/plain": [
       "'hello,yashar,my age is,36'"
      ]
     },
     "execution_count": 12,
     "metadata": {},
     "output_type": "execute_result"
    }
   ],
   "source": [
    "# using f strings instead of print()\n",
    "f\"hello,{name},my age is,{age}\""
   ]
  },
  {
   "cell_type": "code",
   "execution_count": null,
   "id": "9000a9c0-31eb-4a13-a536-61dcdfc3d065",
   "metadata": {},
   "outputs": [],
   "source": []
  }
 ],
 "metadata": {
  "kernelspec": {
   "display_name": "Python 3 (ipykernel)",
   "language": "python",
   "name": "python3"
  },
  "language_info": {
   "codemirror_mode": {
    "name": "ipython",
    "version": 3
   },
   "file_extension": ".py",
   "mimetype": "text/x-python",
   "name": "python",
   "nbconvert_exporter": "python",
   "pygments_lexer": "ipython3",
   "version": "3.11.7"
  }
 },
 "nbformat": 4,
 "nbformat_minor": 5
}
