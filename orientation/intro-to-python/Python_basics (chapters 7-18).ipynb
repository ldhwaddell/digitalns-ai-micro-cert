{
 "cells": [
  {
   "cell_type": "code",
   "execution_count": 81,
   "id": "0b97bd5e-4037-49ea-83a7-a1912f9fbabc",
   "metadata": {},
   "outputs": [],
   "source": [
    "# This is all the codes and exercise solutions for chapters 7 to 18 of Python Basics"
   ]
  },
  {
   "cell_type": "code",
   "execution_count": 2,
   "id": "1d2b2972-6a67-4ce2-a95d-5c5870211b07",
   "metadata": {},
   "outputs": [
    {
     "name": "stdout",
     "output_type": "stream",
     "text": [
      "first line\n",
      "\n",
      "second line\n",
      "ciewnc\n"
     ]
    }
   ],
   "source": [
    "print('first line')\n",
    "print()\n",
    "print('second line')"
   ]
  },
  {
   "cell_type": "code",
   "execution_count": 3,
   "id": "94997cea-d56f-4edd-b772-efd7b35ad2e0",
   "metadata": {},
   "outputs": [
    {
     "name": "stdout",
     "output_type": "stream",
     "text": [
      "This is a test string\n",
      "None\n"
     ]
    }
   ],
   "source": [
    "# None is the special value when the function does not have anything to report\n",
    "Report_string = 'This is a test string'\n",
    "print_string = print(Report_string)\n",
    "print(print_string)"
   ]
  },
  {
   "cell_type": "code",
   "execution_count": 4,
   "id": "97b018fc-0ecb-4f33-8712-8927bbda84d1",
   "metadata": {},
   "outputs": [
    {
     "name": "stdout",
     "output_type": "stream",
     "text": [
      "8.25\n",
      "<class 'float'>\n"
     ]
    }
   ],
   "source": [
    "# how different variable types work in python math\n",
    "first_number = 4\n",
    "second_number = 4.25\n",
    "sum = first_number+second_number\n",
    "print(sum)\n",
    "print(type(sum))"
   ]
  },
  {
   "cell_type": "code",
   "execution_count": 5,
   "id": "b3a91875-6cdf-423e-9128-ce3932141e19",
   "metadata": {},
   "outputs": [
    {
     "name": "stdout",
     "output_type": "stream",
     "text": [
      "9.5\n"
     ]
    }
   ],
   "source": [
    "# variable conversion in math in Python\n",
    "number = 4\n",
    "string = '5.5'\n",
    "sum = number+float(string)\n",
    "print(sum)"
   ]
  },
  {
   "cell_type": "code",
   "execution_count": 6,
   "id": "1740e1a7-01dc-4164-9cdd-ce357d6b4733",
   "metadata": {},
   "outputs": [
    {
     "name": "stdout",
     "output_type": "stream",
     "text": [
      "44YearsYashar\n"
     ]
    }
   ],
   "source": [
    "# adding strings and integers in python\n",
    "number = 44\n",
    "string1 = 'Years'\n",
    "string2 = 'Yashar'\n",
    "sum=str(number)+string1+string2\n",
    "print(sum)"
   ]
  },
  {
   "cell_type": "code",
   "execution_count": 7,
   "id": "3a91b57f-6a44-4778-a46e-5e8d5a59c97a",
   "metadata": {},
   "outputs": [],
   "source": [
    "#exercise 8.1 \n",
    "first = 2.0\n",
    "second = \"2\"\n",
    "third = \"2.1\""
   ]
  },
  {
   "cell_type": "code",
   "execution_count": 3,
   "id": "3a812c71-f03b-41cb-8d56-6d4ae82bc4dd",
   "metadata": {},
   "outputs": [
    {
     "name": "stdout",
     "output_type": "stream",
     "text": [
      "4.0\n"
     ]
    }
   ],
   "source": [
    "#solution to exercise 8.1 \n",
    "print(first+float(second))"
   ]
  },
  {
   "cell_type": "code",
   "execution_count": 11,
   "id": "176640b6-7f8e-4ca2-8d90-b1f2b35bf80f",
   "metadata": {},
   "outputs": [
    {
     "name": "stdout",
     "output_type": "stream",
     "text": [
      "4.1\n"
     ]
    }
   ],
   "source": [
    "print(float(second)+float(third))"
   ]
  },
  {
   "cell_type": "code",
   "execution_count": 12,
   "id": "e71bb250-7090-46f5-9ea3-2319ff1826b4",
   "metadata": {},
   "outputs": [
    {
     "ename": "ValueError",
     "evalue": "invalid literal for int() with base 10: '2.1'",
     "output_type": "error",
     "traceback": [
      "\u001b[1;31m---------------------------------------------------------------------------\u001b[0m",
      "\u001b[1;31mValueError\u001b[0m                                Traceback (most recent call last)",
      "Cell \u001b[1;32mIn[12], line 1\u001b[0m\n\u001b[1;32m----> 1\u001b[0m \u001b[38;5;28mprint\u001b[39m(first\u001b[38;5;241m+\u001b[39m\u001b[38;5;28;43mint\u001b[39;49m\u001b[43m(\u001b[49m\u001b[43mthird\u001b[49m\u001b[43m)\u001b[49m)\n",
      "\u001b[1;31mValueError\u001b[0m: invalid literal for int() with base 10: '2.1'"
     ]
    }
   ],
   "source": [
    "print(first+int(third))"
   ]
  },
  {
   "cell_type": "code",
   "execution_count": 13,
   "id": "62d9c640-4292-4358-b19d-27a3c86175c8",
   "metadata": {},
   "outputs": [
    {
     "name": "stdout",
     "output_type": "stream",
     "text": [
      "4.0\n"
     ]
    }
   ],
   "source": [
    "print(first+int(float(third)))"
   ]
  },
  {
   "cell_type": "code",
   "execution_count": 14,
   "id": "37cbd6b9-5382-46f0-817d-9b07ddf1bcb7",
   "metadata": {},
   "outputs": [
    {
     "name": "stdout",
     "output_type": "stream",
     "text": [
      "4\n"
     ]
    }
   ],
   "source": [
    "print(int(first)+int(float(third)))"
   ]
  },
  {
   "cell_type": "code",
   "execution_count": 15,
   "id": "ce3e7e95-8fe4-4096-8170-7da27b7a9b88",
   "metadata": {},
   "outputs": [
    {
     "ename": "TypeError",
     "evalue": "can't multiply sequence by non-int of type 'float'",
     "output_type": "error",
     "traceback": [
      "\u001b[1;31m---------------------------------------------------------------------------\u001b[0m",
      "\u001b[1;31mTypeError\u001b[0m                                 Traceback (most recent call last)",
      "Cell \u001b[1;32mIn[15], line 1\u001b[0m\n\u001b[1;32m----> 1\u001b[0m \u001b[38;5;28mprint\u001b[39m(\u001b[38;5;241;43m2.0\u001b[39;49m\u001b[38;5;241;43m*\u001b[39;49m\u001b[43msecond\u001b[49m)\n",
      "\u001b[1;31mTypeError\u001b[0m: can't multiply sequence by non-int of type 'float'"
     ]
    }
   ],
   "source": [
    "print(2.0*second)"
   ]
  },
  {
   "cell_type": "code",
   "execution_count": 8,
   "id": "5f2f0ffe-4990-488b-839c-e061b3258fc6",
   "metadata": {},
   "outputs": [
    {
     "name": "stdin",
     "output_type": "stream",
     "text": [
      "Enter their birth year: 1987\n"
     ]
    },
    {
     "name": "stdout",
     "output_type": "stream",
     "text": [
      "your age is: 37\n"
     ]
    }
   ],
   "source": [
    "#solution to exercise 8.2\n",
    "#current year\n",
    "current_year = 2024\n",
    "\n",
    "#ask the user about their birth year\n",
    "birth_year = int(input(\"Enter their birth year:\"))\n",
    "\n",
    "#calculate the age\n",
    "age = current_year - birth_year\n",
    "print(\"your age is:\", age)"
   ]
  },
  {
   "cell_type": "code",
   "execution_count": 9,
   "id": "c08501a8-1ceb-4c69-89a9-ac1c0f87b567",
   "metadata": {},
   "outputs": [
    {
     "name": "stdout",
     "output_type": "stream",
     "text": [
      "Help on built-in function round in module builtins:\n",
      "\n",
      "round(number, ndigits=None)\n",
      "    Round a number to a given precision in decimal digits.\n",
      "    \n",
      "    The return value is an integer if ndigits is omitted or None.  Otherwise\n",
      "    the return value has the same type as the number.  ndigits may be negative.\n",
      "\n"
     ]
    }
   ],
   "source": [
    "#using help in python \n",
    "help(round)"
   ]
  },
  {
   "cell_type": "code",
   "execution_count": 10,
   "id": "74156508-8b88-422a-8a49-986a9deb30dc",
   "metadata": {},
   "outputs": [
    {
     "data": {
      "text/plain": [
       "\u001b[1;31mSignature:\u001b[0m \u001b[0mround\u001b[0m\u001b[1;33m(\u001b[0m\u001b[0mnumber\u001b[0m\u001b[1;33m,\u001b[0m \u001b[0mndigits\u001b[0m\u001b[1;33m=\u001b[0m\u001b[1;32mNone\u001b[0m\u001b[1;33m)\u001b[0m\u001b[1;33m\u001b[0m\u001b[1;33m\u001b[0m\u001b[0m\n",
       "\u001b[1;31mDocstring:\u001b[0m\n",
       "Round a number to a given precision in decimal digits.\n",
       "\n",
       "The return value is an integer if ndigits is omitted or None.  Otherwise\n",
       "the return value has the same type as the number.  ndigits may be negative.\n",
       "\u001b[1;31mType:\u001b[0m      builtin_function_or_method"
      ]
     },
     "metadata": {},
     "output_type": "display_data"
    }
   ],
   "source": [
    "#alternative way of using help in python \n",
    "round?"
   ]
  },
  {
   "cell_type": "code",
   "execution_count": 19,
   "id": "09edbedc-42f8-4914-be6a-15541e2211e7",
   "metadata": {},
   "outputs": [
    {
     "name": "stdout",
     "output_type": "stream",
     "text": [
      "1\n"
     ]
    }
   ],
   "source": [
    "# min function\n",
    "print(min(1,2,3))"
   ]
  },
  {
   "cell_type": "code",
   "execution_count": 20,
   "id": "447c56aa-5408-4273-a1e3-f69589f2ab5c",
   "metadata": {},
   "outputs": [
    {
     "name": "stdout",
     "output_type": "stream",
     "text": [
      "3\n"
     ]
    }
   ],
   "source": [
    "# max function\n",
    "print(max(1,2,3))"
   ]
  },
  {
   "cell_type": "code",
   "execution_count": 21,
   "id": "6ea266bc-c556-4cc3-a82b-d7e7eeeca686",
   "metadata": {},
   "outputs": [
    {
     "name": "stdout",
     "output_type": "stream",
     "text": [
      "A\n"
     ]
    }
   ],
   "source": [
    "# min/max with strings\n",
    "print(min('a','A'))"
   ]
  },
  {
   "cell_type": "code",
   "execution_count": 22,
   "id": "fd3cd335-a66b-4065-8189-b3d6833733f0",
   "metadata": {},
   "outputs": [
    {
     "name": "stdout",
     "output_type": "stream",
     "text": [
      "C\n"
     ]
    }
   ],
   "source": [
    "print(min('C','a'))"
   ]
  },
  {
   "cell_type": "code",
   "execution_count": 23,
   "id": "cf478480-1fa5-448e-ac1f-88a21dd2fb96",
   "metadata": {},
   "outputs": [
    {
     "ename": "TypeError",
     "evalue": "'>' not supported between instances of 'str' and 'int'",
     "output_type": "error",
     "traceback": [
      "\u001b[1;31m---------------------------------------------------------------------------\u001b[0m",
      "\u001b[1;31mTypeError\u001b[0m                                 Traceback (most recent call last)",
      "Cell \u001b[1;32mIn[23], line 2\u001b[0m\n\u001b[0;32m      1\u001b[0m \u001b[38;5;66;03m# min/max between an integer and a string\u001b[39;00m\n\u001b[1;32m----> 2\u001b[0m \u001b[38;5;28mprint\u001b[39m(\u001b[38;5;28;43mmax\u001b[39;49m\u001b[43m(\u001b[49m\u001b[38;5;241;43m1\u001b[39;49m\u001b[43m,\u001b[49m\u001b[38;5;124;43m'\u001b[39;49m\u001b[38;5;124;43ma\u001b[39;49m\u001b[38;5;124;43m'\u001b[39;49m\u001b[43m)\u001b[49m)\n",
      "\u001b[1;31mTypeError\u001b[0m: '>' not supported between instances of 'str' and 'int'"
     ]
    }
   ],
   "source": [
    "# min/max between an integer and a string\n",
    "print(max(1,'a'))"
   ]
  },
  {
   "cell_type": "code",
   "execution_count": 24,
   "id": "df928912-fc97-49cb-9ffc-333a2f465833",
   "metadata": {},
   "outputs": [
    {
     "data": {
      "text/plain": [
       "\u001b[1;31mSignature:\u001b[0m \u001b[0mround\u001b[0m\u001b[1;33m(\u001b[0m\u001b[0mnumber\u001b[0m\u001b[1;33m,\u001b[0m \u001b[0mndigits\u001b[0m\u001b[1;33m=\u001b[0m\u001b[1;32mNone\u001b[0m\u001b[1;33m)\u001b[0m\u001b[1;33m\u001b[0m\u001b[1;33m\u001b[0m\u001b[0m\n",
       "\u001b[1;31mDocstring:\u001b[0m\n",
       "Round a number to a given precision in decimal digits.\n",
       "\n",
       "The return value is an integer if ndigits is omitted or None.  Otherwise\n",
       "the return value has the same type as the number.  ndigits may be negative.\n",
       "\u001b[1;31mType:\u001b[0m      builtin_function_or_method"
      ]
     },
     "metadata": {},
     "output_type": "display_data"
    }
   ],
   "source": [
    "round?"
   ]
  },
  {
   "cell_type": "code",
   "execution_count": 25,
   "id": "d0b2fd96-7a4d-4881-b822-34ce5fe6cc04",
   "metadata": {},
   "outputs": [
    {
     "name": "stdout",
     "output_type": "stream",
     "text": [
      "3\n"
     ]
    }
   ],
   "source": [
    "#round example\n",
    "print(round(2.78))"
   ]
  },
  {
   "cell_type": "code",
   "execution_count": 26,
   "id": "dad98064-2ed8-410a-aa5f-1f7f8ec1b274",
   "metadata": {},
   "outputs": [
    {
     "name": "stdout",
     "output_type": "stream",
     "text": [
      "2.8\n"
     ]
    }
   ],
   "source": [
    "print(round(2.78, ndigits=1))"
   ]
  },
  {
   "cell_type": "code",
   "execution_count": 11,
   "id": "6d8f1ea5-4968-4778-97a3-723708c53a90",
   "metadata": {},
   "outputs": [
    {
     "name": "stdout",
     "output_type": "stream",
     "text": [
      "3.14\n"
     ]
    }
   ],
   "source": [
    "#solution to exercise 8.3\n",
    "#define pi constant\n",
    "Pi = 3.1415926\n",
    "\n",
    "#round() built-in function\n",
    "round_pi = round(Pi, 2)\n",
    "print(round_pi)"
   ]
  },
  {
   "cell_type": "code",
   "execution_count": 12,
   "id": "4a1687d3-77a4-418c-b9c1-0caf5437e6b8",
   "metadata": {},
   "outputs": [
    {
     "name": "stdout",
     "output_type": "stream",
     "text": [
      "Help on built-in function abs in module builtins:\n",
      "\n",
      "abs(x, /)\n",
      "    Return the absolute value of the argument.\n",
      "\n"
     ]
    }
   ],
   "source": [
    "# using help to understand a function\n",
    "help(abs)"
   ]
  },
  {
   "cell_type": "code",
   "execution_count": 31,
   "id": "a5aa2957-9c7b-4100-8a83-3098fd9937b5",
   "metadata": {},
   "outputs": [
    {
     "data": {
      "text/plain": [
       "5"
      ]
     },
     "execution_count": 31,
     "metadata": {},
     "output_type": "execute_result"
    }
   ],
   "source": [
    "abs(-5)"
   ]
  },
  {
   "cell_type": "code",
   "execution_count": 32,
   "id": "bc912c06-ae73-4bf5-aea3-9440c65fc575",
   "metadata": {},
   "outputs": [
    {
     "name": "stdout",
     "output_type": "stream",
     "text": [
      "output\n"
     ]
    }
   ],
   "source": [
    "# this is comment\n",
    "print ('output') # this is also a comment"
   ]
  },
  {
   "cell_type": "code",
   "execution_count": 35,
   "id": "749cf8bb-ea2d-4d97-b573-70f37fc7d820",
   "metadata": {},
   "outputs": [
    {
     "ename": "SyntaxError",
     "evalue": "Missing parentheses in call to 'print'. Did you mean print(...)? (3876666243.py, line 3)",
     "output_type": "error",
     "traceback": [
      "\u001b[1;36m  Cell \u001b[1;32mIn[35], line 3\u001b[1;36m\u001b[0m\n\u001b[1;33m    print 'this is a sentence'\u001b[0m\n\u001b[1;37m    ^\u001b[0m\n\u001b[1;31mSyntaxError\u001b[0m\u001b[1;31m:\u001b[0m Missing parentheses in call to 'print'. Did you mean print(...)?\n"
     ]
    }
   ],
   "source": [
    "# error types in python\n",
    "# syntax error\n",
    "print 'this is a sentence'"
   ]
  },
  {
   "cell_type": "code",
   "execution_count": 36,
   "id": "72d40379-0f34-4e08-a9c1-9e8c7fd54e35",
   "metadata": {},
   "outputs": [
    {
     "ename": "NameError",
     "evalue": "name 'sentence' is not defined",
     "output_type": "error",
     "traceback": [
      "\u001b[1;31m---------------------------------------------------------------------------\u001b[0m",
      "\u001b[1;31mNameError\u001b[0m                                 Traceback (most recent call last)",
      "Cell \u001b[1;32mIn[36], line 2\u001b[0m\n\u001b[0;32m      1\u001b[0m \u001b[38;5;66;03m# more errors\u001b[39;00m\n\u001b[1;32m----> 2\u001b[0m \u001b[38;5;28mprint\u001b[39m(\u001b[43msentence\u001b[49m)\n",
      "\u001b[1;31mNameError\u001b[0m: name 'sentence' is not defined"
     ]
    }
   ],
   "source": [
    "# more errors\n",
    "print(sentence)"
   ]
  },
  {
   "cell_type": "code",
   "execution_count": 14,
   "id": "87294e28-54ff-4ce7-9dec-a6f8759e8915",
   "metadata": {},
   "outputs": [
    {
     "name": "stdout",
     "output_type": "stream",
     "text": [
      "47\n"
     ]
    }
   ],
   "source": [
    "#solution to exercise 11.1\n",
    "my_ages = 53\n",
    "remaining = 100 - my_ages\n",
    "print(remaining)"
   ]
  },
  {
   "cell_type": "code",
   "execution_count": 15,
   "id": "926bf908-aa3a-4ba6-946e-8ca446a6b09b",
   "metadata": {},
   "outputs": [
    {
     "name": "stdout",
     "output_type": "stream",
     "text": [
      "temperatures are: [18, 19, 20, 17.5, 22]\n"
     ]
    }
   ],
   "source": [
    "# lists in python, defining a list\n",
    "temperatures = [18, 19, 20, 17.5, 22]\n",
    "print ('temperatures are:', temperatures)"
   ]
  },
  {
   "cell_type": "code",
   "execution_count": 40,
   "id": "5edb9241-812a-47f1-8342-a46b5c92837f",
   "metadata": {},
   "outputs": [
    {
     "data": {
      "text/plain": [
       "list"
      ]
     },
     "execution_count": 40,
     "metadata": {},
     "output_type": "execute_result"
    }
   ],
   "source": [
    "type (temperatures)"
   ]
  },
  {
   "cell_type": "code",
   "execution_count": 41,
   "id": "8ac52358-b535-44cc-86ac-0508a912942f",
   "metadata": {},
   "outputs": [
    {
     "name": "stdout",
     "output_type": "stream",
     "text": [
      "[18, 19, 20, 17.5, 22]\n"
     ]
    }
   ],
   "source": [
    "# alternate way to create lists\n",
    "temperatures = list((18,19,20,17.5,22))\n",
    "print(temperatures)"
   ]
  },
  {
   "cell_type": "code",
   "execution_count": 42,
   "id": "fd66e701-d13a-4ef7-b55d-b36dab44536f",
   "metadata": {},
   "outputs": [],
   "source": [
    "# empty list\n",
    "empty_list = []"
   ]
  },
  {
   "cell_type": "code",
   "execution_count": 43,
   "id": "e82b035e-3ca9-45b3-9644-0ff6b1975364",
   "metadata": {},
   "outputs": [],
   "source": [
    "empty_list2 = list(())"
   ]
  },
  {
   "cell_type": "code",
   "execution_count": 44,
   "id": "c6c114a1-be78-46ce-a16b-112bb057c1c4",
   "metadata": {},
   "outputs": [
    {
     "name": "stdout",
     "output_type": "stream",
     "text": [
      "[]\n"
     ]
    }
   ],
   "source": [
    "print(empty_list2)"
   ]
  },
  {
   "cell_type": "code",
   "execution_count": 45,
   "id": "b3bf2bbd-c23c-43b0-bed1-8a8f983e4c65",
   "metadata": {},
   "outputs": [
    {
     "name": "stdout",
     "output_type": "stream",
     "text": [
      "length of the list is equal to: 5\n"
     ]
    }
   ],
   "source": [
    "# len() to find the length of a list, or how many values are in a list\n",
    "temperature = [18,19,20,17.5,22] # this is a list\n",
    "print('length of the list is equal to:', len(temperature))"
   ]
  },
  {
   "cell_type": "code",
   "execution_count": 46,
   "id": "b0e79e7f-4f80-43e2-ac42-a6e0fdf3fa34",
   "metadata": {},
   "outputs": [
    {
     "name": "stdout",
     "output_type": "stream",
     "text": [
      "item 0 in temperature: 18\n"
     ]
    }
   ],
   "source": [
    "print('item 0 in temperature:', temperature[0])"
   ]
  },
  {
   "cell_type": "code",
   "execution_count": 47,
   "id": "68431fc6-59b4-4004-8b3d-67c564d00f34",
   "metadata": {},
   "outputs": [
    {
     "name": "stdout",
     "output_type": "stream",
     "text": [
      "item 1 in temeperature: 19\n"
     ]
    }
   ],
   "source": [
    "print('item 1 in temeperature:', temperature[1])"
   ]
  },
  {
   "cell_type": "code",
   "execution_count": 48,
   "id": "e4529b90-6a5d-43ce-ad1a-47ddf2006bdf",
   "metadata": {},
   "outputs": [
    {
     "name": "stdout",
     "output_type": "stream",
     "text": [
      "the last item in tempeerature: 22\n"
     ]
    }
   ],
   "source": [
    "print('the last item in tempeerature:',temperature[-1])"
   ]
  },
  {
   "cell_type": "code",
   "execution_count": 49,
   "id": "fab26f0e-c339-4500-810a-d531c7d37878",
   "metadata": {},
   "outputs": [],
   "source": [
    "# different data types in list\n",
    "list_example = ['abc',23,True, 2.4,'male']"
   ]
  },
  {
   "cell_type": "code",
   "execution_count": 50,
   "id": "f8c61684-0716-4440-8bf6-16023f52fcf5",
   "metadata": {},
   "outputs": [
    {
     "name": "stdout",
     "output_type": "stream",
     "text": [
      "temperature is now: [14.8, 19, 20, 17.5, 22]\n"
     ]
    }
   ],
   "source": [
    "temperature[0] = 14.8\n",
    "print('temperature is now:', temperature)"
   ]
  },
  {
   "cell_type": "code",
   "execution_count": 56,
   "id": "96436d57-df62-4607-9e1a-8327594bf391",
   "metadata": {},
   "outputs": [
    {
     "name": "stdout",
     "output_type": "stream",
     "text": [
      "['d', 'e', 'f']\n"
     ]
    }
   ],
   "source": [
    "#slicing\n",
    "list_alphabets = ['a','b','c','d','e','f','g']\n",
    "print(list_alphabets[3:-1])"
   ]
  },
  {
   "cell_type": "code",
   "execution_count": 57,
   "id": "69016ab7-f053-4e9c-b378-536f134fbf30",
   "metadata": {},
   "outputs": [],
   "source": [
    "temperature = [18,19,20,17.5,22]"
   ]
  },
  {
   "cell_type": "code",
   "execution_count": 58,
   "id": "643b19d2-fd13-4def-858e-bf0855d28d85",
   "metadata": {},
   "outputs": [],
   "source": [
    "temperature=[18,19,20,17.5,22,26]"
   ]
  },
  {
   "cell_type": "code",
   "execution_count": 59,
   "id": "1588f5be-40be-447f-8753-985e1c42c21c",
   "metadata": {},
   "outputs": [
    {
     "name": "stdout",
     "output_type": "stream",
     "text": [
      "prime was initially: [2, 3, 5]\n",
      "prime has become: [2, 3, 5, 7]\n"
     ]
    }
   ],
   "source": [
    "#how to add a new item to a list using append method\n",
    "primes = [2, 3, 5]\n",
    "print('prime was initially:', primes)\n",
    "primes.append(7)\n",
    "print('prime has become:', primes)"
   ]
  },
  {
   "cell_type": "code",
   "execution_count": 60,
   "id": "da6f3c3d-4c8b-4fd7-8fe7-b8bd306bd210",
   "metadata": {},
   "outputs": [
    {
     "name": "stdout",
     "output_type": "stream",
     "text": [
      "primes is currently: [2, 3, 5, 7]\n",
      "primes has become: [2, 3, 5, 7, 11, 13, 17, 19]\n"
     ]
    }
   ],
   "source": [
    "# extend as a method of lists\n",
    "teen_primes = [11, 13, 17, 19]\n",
    "middle_aged_primes = [37, 41, 43, 47]\n",
    "print('primes is currently:', primes)\n",
    "primes.extend(teen_primes)\n",
    "print('primes has become:',primes)"
   ]
  },
  {
   "cell_type": "code",
   "execution_count": 61,
   "id": "386d38fa-b6e8-48dc-97a4-801d2f93d06e",
   "metadata": {},
   "outputs": [
    {
     "name": "stdout",
     "output_type": "stream",
     "text": [
      "primes has finally become: [2, 3, 5, 7, 11, 13, 17, 19, [37, 41, 43, 47]]\n"
     ]
    }
   ],
   "source": [
    "primes.append(middle_aged_primes)\n",
    "print('primes has finally become:', primes)"
   ]
  },
  {
   "cell_type": "code",
   "execution_count": 64,
   "id": "96811252-1566-4ffb-a52a-a0b12972bfad",
   "metadata": {},
   "outputs": [
    {
     "name": "stdout",
     "output_type": "stream",
     "text": [
      "2\n"
     ]
    }
   ],
   "source": [
    "# count() method\n",
    "fruits = ['apple','cherry','banana','cherry']\n",
    "number_of_cherries = fruits.count('cherry')\n",
    "print(number_of_cherries)"
   ]
  },
  {
   "cell_type": "code",
   "execution_count": 16,
   "id": "d35aaf55-e399-4fcb-8dd4-aa9bf182b364",
   "metadata": {},
   "outputs": [
    {
     "name": "stdout",
     "output_type": "stream",
     "text": [
      "The count is equal to: 2\n"
     ]
    }
   ],
   "source": [
    "# exercise solution 12.2\n",
    "list_num = [1, 4, 2, 9, 7, 8, 9, 3, 1]\n",
    "\n",
    "#count method to count \n",
    "count_of_9 = list_num.count(9)\n",
    "print('The count is equal to:', count_of_9)"
   ]
  },
  {
   "cell_type": "code",
   "execution_count": 66,
   "id": "4a43edca-20aa-42c1-a701-4d320e335fdd",
   "metadata": {},
   "outputs": [
    {
     "name": "stdout",
     "output_type": "stream",
     "text": [
      "['banana', 'cherry', 'apple']\n"
     ]
    }
   ],
   "source": [
    "# reverse() method\n",
    "fruits = ['apple','cherry','banana']\n",
    "fruits.reverse()\n",
    "print(fruits)"
   ]
  },
  {
   "cell_type": "code",
   "execution_count": 67,
   "id": "03c27a70-229d-4103-86ad-1c706368cf38",
   "metadata": {},
   "outputs": [
    {
     "name": "stdout",
     "output_type": "stream",
     "text": [
      "['Volvo', 'Ford', 'BMW']\n"
     ]
    }
   ],
   "source": [
    "# sort() method\n",
    "cars = ['Ford','BMW','Volvo']\n",
    "cars.sort(reverse=True)\n",
    "print(cars)"
   ]
  },
  {
   "cell_type": "code",
   "execution_count": 17,
   "id": "b93a84ca-fad4-46d8-8750-a8a46890b772",
   "metadata": {},
   "outputs": [
    {
     "name": "stdout",
     "output_type": "stream",
     "text": [
      "Sorted in ascending order: [2, 3, 5, 7, 11]\n",
      "Sorted in descending order: [11, 7, 5, 3, 2]\n"
     ]
    }
   ],
   "source": [
    "#solution to exercise 12.3\n",
    "prime_numbers = [11,3,7,5,2]\n",
    "\n",
    "#sort in ascending order\n",
    "prime_numbers.sort()\n",
    "print('Sorted in ascending order:',prime_numbers)\n",
    "\n",
    "#sort in descending ordeer\n",
    "prime_numbers.sort(reverse=True)\n",
    "print('Sorted in descending order:', prime_numbers)"
   ]
  },
  {
   "cell_type": "code",
   "execution_count": 18,
   "id": "b9bb7808-1061-4de3-8b4f-27c81b80aad8",
   "metadata": {},
   "outputs": [
    {
     "name": "stdout",
     "output_type": "stream",
     "text": [
      "sorted based on the length: ['wxyz', 'abc', 'gh', 'a']\n"
     ]
    }
   ],
   "source": [
    "#exercise solution 12.4\n",
    "text = ['abc','wxyz','gh','a']\n",
    "\n",
    "#sort based on their length\n",
    "text.sort(reverse=True,key=len)\n",
    "print('sorted based on the length:',text)"
   ]
  },
  {
   "cell_type": "code",
   "execution_count": 71,
   "id": "e1b4f44e-0659-4759-9182-8319e03a7036",
   "metadata": {},
   "outputs": [
    {
     "name": "stdout",
     "output_type": "stream",
     "text": [
      "[]\n"
     ]
    }
   ],
   "source": [
    "#clear() method\n",
    "cars = ['Ford','BMW','Volvo']\n",
    "cars.clear()\n",
    "print(cars)"
   ]
  },
  {
   "cell_type": "code",
   "execution_count": 72,
   "id": "74d7ab4c-cc5a-42ed-906c-27177f85acc2",
   "metadata": {},
   "outputs": [
    {
     "name": "stdout",
     "output_type": "stream",
     "text": [
      "['apple', 'cherry']\n"
     ]
    }
   ],
   "source": [
    "#pop method\n",
    "fruits = ['apple','banana','cherry']\n",
    "fruits.pop(1)\n",
    "print(fruits)"
   ]
  },
  {
   "cell_type": "code",
   "execution_count": 73,
   "id": "6d1b175e-416d-4c70-aed7-c97ffa7845a0",
   "metadata": {},
   "outputs": [
    {
     "name": "stdout",
     "output_type": "stream",
     "text": [
      "primes was originally equal to: [2, 3, 5, 7, 9]\n",
      "primes after using del function: [2, 3, 5, 7]\n"
     ]
    }
   ],
   "source": [
    "#alternate way to remove an item from a list using del function\n",
    "primes = [2,3,5,7,9]\n",
    "print('primes was originally equal to:',primes)\n",
    "del primes[4]\n",
    "print('primes after using del function:',primes)"
   ]
  },
  {
   "cell_type": "code",
   "execution_count": 74,
   "id": "e4f905cd-d156-42f8-a3ce-62f7790c5468",
   "metadata": {},
   "outputs": [
    {
     "name": "stdout",
     "output_type": "stream",
     "text": [
      "index 0 in element is: c\n"
     ]
    }
   ],
   "source": [
    "#strings\n",
    "element = 'carbon'\n",
    "print('index 0 in element is:', element[0])"
   ]
  },
  {
   "cell_type": "code",
   "execution_count": 75,
   "id": "9ad67202-2740-43ac-88f7-286c47a7fe60",
   "metadata": {},
   "outputs": [
    {
     "name": "stdout",
     "output_type": "stream",
     "text": [
      "index 3 in element is: b\n"
     ]
    }
   ],
   "source": [
    "print('index 3 in element is:', element[3])"
   ]
  },
  {
   "cell_type": "code",
   "execution_count": 76,
   "id": "c52260e2-6bca-4994-b1c9-2bb380eeead9",
   "metadata": {},
   "outputs": [
    {
     "ename": "TypeError",
     "evalue": "'str' object does not support item assignment",
     "output_type": "error",
     "traceback": [
      "\u001b[1;31m---------------------------------------------------------------------------\u001b[0m",
      "\u001b[1;31mTypeError\u001b[0m                                 Traceback (most recent call last)",
      "Cell \u001b[1;32mIn[76], line 1\u001b[0m\n\u001b[1;32m----> 1\u001b[0m \u001b[43melement\u001b[49m\u001b[43m[\u001b[49m\u001b[38;5;241;43m0\u001b[39;49m\u001b[43m]\u001b[49m \u001b[38;5;241m=\u001b[39m \u001b[38;5;124m'\u001b[39m\u001b[38;5;124mC\u001b[39m\u001b[38;5;124m'\u001b[39m\n",
      "\u001b[1;31mTypeError\u001b[0m: 'str' object does not support item assignment"
     ]
    }
   ],
   "source": [
    "element[0] = 'C'"
   ]
  },
  {
   "cell_type": "code",
   "execution_count": 77,
   "id": "3a87a513-a634-49fb-bf78-5fa3cea4c8d5",
   "metadata": {},
   "outputs": [
    {
     "ename": "IndexError",
     "evalue": "string index out of range",
     "output_type": "error",
     "traceback": [
      "\u001b[1;31m---------------------------------------------------------------------------\u001b[0m",
      "\u001b[1;31mIndexError\u001b[0m                                Traceback (most recent call last)",
      "Cell \u001b[1;32mIn[77], line 1\u001b[0m\n\u001b[1;32m----> 1\u001b[0m \u001b[38;5;28mprint\u001b[39m(\u001b[38;5;124m'\u001b[39m\u001b[38;5;124m99th element of element:\u001b[39m\u001b[38;5;124m'\u001b[39m, \u001b[43melement\u001b[49m\u001b[43m[\u001b[49m\u001b[38;5;241;43m99\u001b[39;49m\u001b[43m]\u001b[49m)\n",
      "\u001b[1;31mIndexError\u001b[0m: string index out of range"
     ]
    }
   ],
   "source": [
    "print('99th element of element:', element[99])"
   ]
  },
  {
   "cell_type": "code",
   "execution_count": 78,
   "id": "473d2cfd-4f5e-4ad1-bfac-8562c9ebe67a",
   "metadata": {},
   "outputs": [
    {
     "name": "stdout",
     "output_type": "stream",
     "text": [
      "sod\n"
     ]
    }
   ],
   "source": [
    "atom_name = 'sodium'\n",
    "print(atom_name[0:3])"
   ]
  },
  {
   "cell_type": "code",
   "execution_count": 19,
   "id": "1751af9e-de0d-4e8c-8796-74a8b75efebb",
   "metadata": {},
   "outputs": [
    {
     "name": "stdout",
     "output_type": "stream",
     "text": [
      "atom_name[1:3] is: xy\n"
     ]
    }
   ],
   "source": [
    "#solution to exercise 12.6\n",
    "atom_name = 'oxygen'\n",
    "print('atom_name[1:3] is:', atom_name[1:3])"
   ]
  },
  {
   "cell_type": "code",
   "execution_count": 20,
   "id": "1346e087-1184-4ea6-a5eb-4e4f987b42f0",
   "metadata": {},
   "outputs": [
    {
     "name": "stdout",
     "output_type": "stream",
     "text": [
      "io\n"
     ]
    }
   ],
   "source": [
    "#solution to exercise 12.7\n",
    "star_name = \"Alpha Orionis\"\n",
    "print(star_name[-5:-3])"
   ]
  },
  {
   "cell_type": "code",
   "execution_count": 81,
   "id": "96a9ef15-dfb3-4e9e-8e25-a806579129f6",
   "metadata": {},
   "outputs": [
    {
     "name": "stdout",
     "output_type": "stream",
     "text": [
      "Alpha Orionis\n"
     ]
    }
   ],
   "source": [
    "print(star_name[0:20])"
   ]
  },
  {
   "cell_type": "code",
   "execution_count": 82,
   "id": "97c1c817-b358-4c3b-90c7-476cc6d419a5",
   "metadata": {},
   "outputs": [
    {
     "name": "stdout",
     "output_type": "stream",
     "text": [
      "Alpha Orionis\n"
     ]
    }
   ],
   "source": [
    "print(star_name[:103])"
   ]
  },
  {
   "cell_type": "code",
   "execution_count": 21,
   "id": "11eb7491-e12b-4dd2-a145-01b97383c515",
   "metadata": {},
   "outputs": [
    {
     "name": "stdout",
     "output_type": "stream",
     "text": [
      "('apple', 'tomato', 'banana')\n"
     ]
    }
   ],
   "source": [
    "#tuples definition\n",
    "tuple_example = ('apple', 'tomato', 'banana')\n",
    "print(tuple_example)\n"
   ]
  },
  {
   "cell_type": "code",
   "execution_count": 22,
   "id": "ba798df5-0394-4576-88a1-6e51bfb5e653",
   "metadata": {},
   "outputs": [
    {
     "ename": "NameError",
     "evalue": "name 'Tuple_example' is not defined",
     "output_type": "error",
     "traceback": [
      "\u001b[1;31m---------------------------------------------------------------------------\u001b[0m",
      "\u001b[1;31mNameError\u001b[0m                                 Traceback (most recent call last)",
      "Cell \u001b[1;32mIn[22], line 3\u001b[0m\n\u001b[0;32m      1\u001b[0m \u001b[38;5;66;03m# we cannot change or modify tupples after creation\u001b[39;00m\n\u001b[0;32m      2\u001b[0m tuple_example \u001b[38;5;241m=\u001b[39m (\u001b[38;5;124m'\u001b[39m\u001b[38;5;124mapple\u001b[39m\u001b[38;5;124m'\u001b[39m, \u001b[38;5;124m'\u001b[39m\u001b[38;5;124mtomato\u001b[39m\u001b[38;5;124m'\u001b[39m, \u001b[38;5;124m'\u001b[39m\u001b[38;5;124mbanana\u001b[39m\u001b[38;5;124m'\u001b[39m)\n\u001b[1;32m----> 3\u001b[0m \u001b[43mTuple_example\u001b[49m[\u001b[38;5;241m0\u001b[39m] \u001b[38;5;241m=\u001b[39m \u001b[38;5;124m'\u001b[39m\u001b[38;5;124mcherry\u001b[39m\u001b[38;5;124m'\u001b[39m\n",
      "\u001b[1;31mNameError\u001b[0m: name 'Tuple_example' is not defined"
     ]
    }
   ],
   "source": [
    "# we cannot change or modify tupples after creation\n",
    "tuple_example = ('apple', 'tomato', 'banana')\n",
    "Tuple_example[0] = 'cherry'\n"
   ]
  },
  {
   "cell_type": "code",
   "execution_count": 23,
   "id": "d3f3287a-be5b-4e34-a653-b2422c0b8c6a",
   "metadata": {},
   "outputs": [
    {
     "name": "stdout",
     "output_type": "stream",
     "text": [
      "4\n"
     ]
    }
   ],
   "source": [
    "# number of items in a tuple\n",
    "tuple_example = (\"apple\", \"tomato\", \"banana\", \"apple\")\n",
    "print(len(tuple_example))\n"
   ]
  },
  {
   "cell_type": "code",
   "execution_count": 25,
   "id": "b09f8931-a1b8-4799-a654-e7557f1e758d",
   "metadata": {},
   "outputs": [
    {
     "name": "stdout",
     "output_type": "stream",
     "text": [
      "apple\n"
     ]
    }
   ],
   "source": [
    "# tuples can contain different data types\n",
    "tuple_example = ('apple', 2, 5.2)\n",
    "print(tuple_example[0])\n"
   ]
  },
  {
   "cell_type": "code",
   "execution_count": 26,
   "id": "3c4a3a95-0094-491a-bb15-1bc2707dc267",
   "metadata": {},
   "outputs": [
    {
     "name": "stdout",
     "output_type": "stream",
     "text": [
      "The 4th element from the last is: u\n"
     ]
    }
   ],
   "source": [
    "# solution to exercise 13.1\n",
    "sample_tuple = (\"w\", 3, \"r\", \"e\", \"s\", \"o\", \"u\", \"r\", \"c\", \"e\")\n",
    "\n",
    "# Access the 4th element from the last\n",
    "fourth_from_last = sample_tuple[-4]\n",
    "\n",
    "# Print the result\n",
    "print(f\"The 4th element from the last is: {fourth_from_last}\")"
   ]
  },
  {
   "cell_type": "code",
   "execution_count": 27,
   "id": "800883ee-b3cd-4d5b-b442-1d30dba01425",
   "metadata": {},
   "outputs": [
    {
     "name": "stdout",
     "output_type": "stream",
     "text": [
      "first\n"
     ]
    }
   ],
   "source": [
    "# defining a dictionary\n",
    "translation = {'one': 'first', 'two': 'second'}\n",
    "print(translation['one'])\n"
   ]
  },
  {
   "cell_type": "code",
   "execution_count": 28,
   "id": "6809c991-84ae-4ecb-8640-780158812487",
   "metadata": {},
   "outputs": [
    {
     "name": "stdout",
     "output_type": "stream",
     "text": [
      "{'one': 'first', 'two': 'second', 'three': 'third'}\n"
     ]
    }
   ],
   "source": [
    "# add an item to a dictionary\n",
    "translation['three'] = 'third'\n",
    "print(translation)\n"
   ]
  },
  {
   "cell_type": "code",
   "execution_count": 29,
   "id": "6f504dd3-a14e-4e7f-a00c-187e670971e8",
   "metadata": {},
   "outputs": [
    {
     "name": "stdout",
     "output_type": "stream",
     "text": [
      "Updated Dictionary: {0: 10, 1: 20, 2: 30}\n"
     ]
    }
   ],
   "source": [
    "# solution to exercise 14.1\n",
    "sample_dict = {0: 10, 1: 20}\n",
    "\n",
    "# Add a new key-value pair to the dictionary\n",
    "sample_dict[2] = 30\n",
    "\n",
    "# Print the updated dictionary\n",
    "print(\"Updated Dictionary:\", sample_dict)"
   ]
  },
  {
   "cell_type": "code",
   "execution_count": 30,
   "id": "a1ead51b-5d45-41d2-9b03-2c00d3a65954",
   "metadata": {},
   "outputs": [
    {
     "name": "stdout",
     "output_type": "stream",
     "text": [
      "b is greater than a\n"
     ]
    }
   ],
   "source": [
    "# conditionals in python\n",
    "a = 33\n",
    "b = 200\n",
    "if b > a:\n",
    "  print(\"b is greater than a\")\n"
   ]
  },
  {
   "cell_type": "code",
   "execution_count": 31,
   "id": "4df45fb1-df00-4d94-a9f4-74f78e442f62",
   "metadata": {},
   "outputs": [
    {
     "name": "stdout",
     "output_type": "stream",
     "text": [
      "3.54 is large\n"
     ]
    }
   ],
   "source": [
    "mass = 3.54\n",
    "if mass > 3.0:\n",
    "\tprint(mass, 'is large')\n",
    "\n",
    "mass = 2.07\n",
    "if mass > 3.0:\n",
    "\tprint (mass, 'is large')\n"
   ]
  },
  {
   "cell_type": "code",
   "execution_count": 32,
   "id": "cb67f072-4616-4f10-8228-9450d6f0e30b",
   "metadata": {},
   "outputs": [
    {
     "name": "stdout",
     "output_type": "stream",
     "text": [
      "grade is C\n"
     ]
    }
   ],
   "source": [
    "grade = 85\n",
    "if grade >= 70:\n",
    "\tprint('grade is C')\n",
    "elif grade >= 80:\n",
    "\tprint('grade is B')\n",
    "elif grade >= 90:\n",
    "\tprint('grade is A')\n"
   ]
  },
  {
   "cell_type": "code",
   "execution_count": 35,
   "id": "a6f079a6-af48-42f5-bc8b-87703a462938",
   "metadata": {},
   "outputs": [
    {
     "name": "stdout",
     "output_type": "stream",
     "text": [
      "Above ten,\n",
      "and also above 20!\n"
     ]
    }
   ],
   "source": [
    "# Nested if\n",
    "x = 41\n",
    "\n",
    "if x > 10:\n",
    "    print(\"Above ten,\")\n",
    "    if x > 20:\n",
    "        print(\"and also above 20!\")\n",
    "    else:\n",
    "        print(\"but not above 20.\")\n"
   ]
  },
  {
   "cell_type": "code",
   "execution_count": 37,
   "id": "6fd9898f-59c0-4180-abd7-de4a44458381",
   "metadata": {},
   "outputs": [
    {
     "name": "stdout",
     "output_type": "stream",
     "text": [
      "25.0\n"
     ]
    }
   ],
   "source": [
    "# solution to exercise 15.1\n",
    "pressure = 71.9\n",
    "if pressure > 50.0:\n",
    "\tpressure = 25.0\n",
    "elif pressure <= 50.0:\n",
    "\tpressure = 0.0\n",
    "print(pressure)\n"
   ]
  },
  {
   "cell_type": "code",
   "execution_count": 38,
   "id": "feb95963-95b4-4371-859f-2d079660df41",
   "metadata": {},
   "outputs": [
    {
     "name": "stdout",
     "output_type": "stream",
     "text": [
      "1\n",
      "2\n",
      "6\n"
     ]
    }
   ],
   "source": [
    "# for loops in python\n",
    "for number in [1, 2, 6]:\n",
    "\tprint(number)\n"
   ]
  },
  {
   "cell_type": "code",
   "execution_count": 39,
   "id": "d258332a-84e2-4125-92bf-ce03a90de34e",
   "metadata": {},
   "outputs": [
    {
     "name": "stdout",
     "output_type": "stream",
     "text": [
      "1\n",
      "2\n",
      "6\n"
     ]
    }
   ],
   "source": [
    "for number in [1, 2, 6]: # i will add a different example here\n",
    "     print(number)\n"
   ]
  },
  {
   "cell_type": "code",
   "execution_count": 41,
   "id": "e61aa11b-9dff-4c9d-96c1-5b5f46a5da92",
   "metadata": {},
   "outputs": [
    {
     "name": "stdout",
     "output_type": "stream",
     "text": [
      "1\n",
      "2\n",
      "6\n"
     ]
    }
   ],
   "source": [
    "# loop variable can be anything\n",
    "for kitten in [1, 2, 6]:\n",
    "    print(kitten)\n"
   ]
  },
  {
   "cell_type": "code",
   "execution_count": 42,
   "id": "c93e7fb0-5af7-444a-8ed1-9edcc5578dff",
   "metadata": {},
   "outputs": [
    {
     "name": "stdout",
     "output_type": "stream",
     "text": [
      "2 4 8\n",
      "3 9 27\n",
      "5 25 125\n"
     ]
    }
   ],
   "source": [
    "# body of the loop can contain many statements\n",
    "primes = [2, 3, 5]\n",
    "for p in primes:\n",
    "\tsquared = p ** 2\n",
    "\tcubed = p ** 3\n",
    "\tprint(p, squared, cubed)\n"
   ]
  },
  {
   "cell_type": "code",
   "execution_count": 43,
   "id": "411ac143-60f0-41a4-9419-4345139824a9",
   "metadata": {},
   "outputs": [
    {
     "name": "stdout",
     "output_type": "stream",
     "text": [
      "a range is not a list: range(0, 3)\n",
      "0\n",
      "1\n",
      "2\n"
     ]
    }
   ],
   "source": [
    "# using range function\n",
    "print('a range is not a list: range(0, 3)')\n",
    "for number in range(0, 3):\n",
    "\tprint(number)\n"
   ]
  },
  {
   "cell_type": "code",
   "execution_count": 44,
   "id": "538dd445-03b3-4344-9a18-462f7f9c03a0",
   "metadata": {},
   "outputs": [
    {
     "name": "stdout",
     "output_type": "stream",
     "text": [
      "55\n"
     ]
    }
   ],
   "source": [
    "# using loop for accumulation\n",
    "# Sum the first 10 integers.\n",
    "total = 0\n",
    "for number in range(10):\n",
    "   total = total + (number + 1)\n",
    "print(total)\n"
   ]
  },
  {
   "cell_type": "code",
   "execution_count": 48,
   "id": "6a17cf0d-d301-4628-b7ac-064a87f89f1e",
   "metadata": {},
   "outputs": [
    {
     "name": "stdout",
     "output_type": "stream",
     "text": [
      "apple\n",
      "banana\n"
     ]
    }
   ],
   "source": [
    "# Using break\n",
    "fruits = [\"apple\", \"banana\", \"cherry\"]\n",
    "for x in fruits:\n",
    "    print(x)\n",
    "    if x == \"banana\":\n",
    "        break\n"
   ]
  },
  {
   "cell_type": "code",
   "execution_count": 49,
   "id": "d12a879e-f729-4bd5-a38d-21df78902b3b",
   "metadata": {},
   "outputs": [
    {
     "name": "stdout",
     "output_type": "stream",
     "text": [
      "0\n",
      "1\n",
      "2\n",
      "3\n",
      "4\n",
      "5\n",
      "Finally finished!\n"
     ]
    }
   ],
   "source": [
    "# else keyword\n",
    "for x in range(6):\n",
    "  print(x)\n",
    "else:\n",
    "  print(\"Finally finished!\")\n"
   ]
  },
  {
   "cell_type": "code",
   "execution_count": 51,
   "id": "f3ea0964-b59a-4a4a-932c-a18b65e5d588",
   "metadata": {},
   "outputs": [
    {
     "name": "stdout",
     "output_type": "stream",
     "text": [
      "red apple\n",
      "red banana\n",
      "red cherry\n",
      "big apple\n",
      "big banana\n",
      "big cherry\n",
      "tasty apple\n",
      "tasty banana\n",
      "tasty cherry\n"
     ]
    }
   ],
   "source": [
    "# Nested loop\n",
    "adj = [\"red\", \"big\", \"tasty\"]\n",
    "fruits = [\"apple\", \"banana\", \"cherry\"]\n",
    "\n",
    "for x in adj:\n",
    "    for y in fruits:\n",
    "        print(x, y)"
   ]
  },
  {
   "cell_type": "code",
   "execution_count": 52,
   "id": "a9830a8e-ed44-495e-85ab-6a0c394ff645",
   "metadata": {},
   "outputs": [
    {
     "name": "stdout",
     "output_type": "stream",
     "text": [
      "0 nova scotia\n",
      "1 newfoundland and labrador\n",
      "2 ontario\n",
      "3 quebec\n"
     ]
    }
   ],
   "source": [
    "# general syntax\n",
    "# for index,item in enumerate(array):\n",
    "\n",
    "provinces = ['nova scotia','newfoundland and labrador',\n",
    "         \t'ontario','quebec']\n",
    "\n",
    "for idx,item in enumerate(provinces):\n",
    "\tprint(idx,item)\n"
   ]
  },
  {
   "cell_type": "code",
   "execution_count": 53,
   "id": "8eda37d3-a67c-4ad7-b57d-8e35a6adf09f",
   "metadata": {},
   "outputs": [
    {
     "name": "stdout",
     "output_type": "stream",
     "text": [
      "[1, 3, 5, 10]\n"
     ]
    }
   ],
   "source": [
    "# solution to exercise 16.1\n",
    "data = [1, 2, 2, 5]\n",
    "cumulative = []\n",
    "total = 0\n",
    "\n",
    "for number in data:\n",
    "    total = total + number\n",
    "    cumulative.append(total)\n",
    "\n",
    "print(cumulative)"
   ]
  },
  {
   "cell_type": "code",
   "execution_count": 54,
   "id": "6cfeaf7e-1eec-4b93-b00d-fd7223e7cb82",
   "metadata": {},
   "outputs": [
    {
     "name": "stdout",
     "output_type": "stream",
     "text": [
      "12\n"
     ]
    }
   ],
   "source": [
    "#solution to exercise 16.2\n",
    "# Total length of the strings in the list: [\"red\", \"green\", \"blue\"] => 12\n",
    "total = 0\n",
    "for word in [\"red\", \"green\", \"blue\"]:\n",
    "    total = total + len(word)\n",
    "print(total)"
   ]
  },
  {
   "cell_type": "code",
   "execution_count": 55,
   "id": "e24763fd-4563-408e-a72e-61eb091c7c06",
   "metadata": {},
   "outputs": [
    {
     "name": "stdout",
     "output_type": "stream",
     "text": [
      "RGB\n"
     ]
    }
   ],
   "source": [
    "#solution to exercise 16.3\n",
    "# Starting list\n",
    "colors = [\"red\", \"green\", \"blue\"]\n",
    "\n",
    "# Initialize an empty string for the acronym\n",
    "acronym = \"\"\n",
    "\n",
    "# Loop through each word in the list\n",
    "for word in colors:\n",
    "    acronym += word[0].upper()  # Take the first letter of each word and convert it to uppercase\n",
    "\n",
    "# Print the result\n",
    "print(acronym)"
   ]
  },
  {
   "cell_type": "code",
   "execution_count": 58,
   "id": "79ca5b54-0035-4dce-9b4d-bd9b4bede264",
   "metadata": {},
   "outputs": [
    {
     "name": "stdout",
     "output_type": "stream",
     "text": [
      "Current total: 0\n",
      "Current total: 3.14\n",
      "Current total: 6.28\n",
      "Current total: 9.42\n",
      "Final total: 12.56\n"
     ]
    }
   ],
   "source": [
    "# while loop\n",
    "\n",
    "total = 0\n",
    "\n",
    "while total < 10:\n",
    "    print(f\"Current total: {total}\")\n",
    "    total += 3.14\n",
    "\n",
    "print(f\"Final total: {total}\")\n"
   ]
  },
  {
   "cell_type": "code",
   "execution_count": 60,
   "id": "721dec2e-69d5-4e31-9811-3d317db9f5aa",
   "metadata": {},
   "outputs": [
    {
     "name": "stdout",
     "output_type": "stream",
     "text": [
      "3.54 is large\n",
      "9.22 is large\n"
     ]
    }
   ],
   "source": [
    "# combining condtionals with loops\n",
    "masses = [3.54, 2.07, 9.22, 1.86, 1.71]\n",
    "for m in masses:\n",
    "    if m > 3.0:\n",
    "        print(m, 'is large')"
   ]
  },
  {
   "cell_type": "code",
   "execution_count": 62,
   "id": "128d566d-7c4a-48e0-be8a-a2c588b84a40",
   "metadata": {},
   "outputs": [
    {
     "name": "stdout",
     "output_type": "stream",
     "text": [
      "3.54 is large\n",
      "2.07 is small\n",
      "9.22 is large\n",
      "1.86 is small\n",
      "1.71 is small\n"
     ]
    }
   ],
   "source": [
    "masses = [3.54, 2.07, 9.22, 1.86, 1.71]\n",
    "for m in masses:\n",
    "    if m > 3.0:\n",
    "        print(m, 'is large')\n",
    "    else:\n",
    "        print(m, 'is small')"
   ]
  },
  {
   "cell_type": "code",
   "execution_count": 64,
   "id": "c2ae8892-ceea-4950-8e32-cb24ec4dee21",
   "metadata": {},
   "outputs": [
    {
     "name": "stdout",
     "output_type": "stream",
     "text": [
      "3.54 is large\n",
      "2.07 is small\n",
      "9.22 is HUGE\n",
      "1.86 is small\n",
      "1.71 is small\n"
     ]
    }
   ],
   "source": [
    "# using elif\n",
    "masses = [3.54, 2.07, 9.22, 1.86, 1.71]\n",
    "for m in masses:\n",
    "    if m > 9.0:\n",
    "        print(m, 'is HUGE')\n",
    "    elif m > 3.0:\n",
    "        print(m, 'is large')\n",
    "    else:\n",
    "        print(m, 'is small')"
   ]
  },
  {
   "cell_type": "code",
   "execution_count": 65,
   "id": "db6c1a7b-5cf0-49e7-b9f8-b10ed6e87b82",
   "metadata": {},
   "outputs": [
    {
     "name": "stdout",
     "output_type": "stream",
     "text": [
      "42\n"
     ]
    }
   ],
   "source": [
    "# writing a function\n",
    "def add_function(a, b):\n",
    "\tresult = a + b\n",
    "\treturn(result)\n",
    "\n",
    "z = add_function(20, 22)\n",
    "print(z)\n"
   ]
  },
  {
   "cell_type": "code",
   "execution_count": 67,
   "id": "3f44ed94-91c3-4b6a-971f-03a9d8d016c3",
   "metadata": {},
   "outputs": [
    {
     "name": "stdout",
     "output_type": "stream",
     "text": [
      "Hello!\n"
     ]
    }
   ],
   "source": [
    "def print_greeting():\n",
    "\tprint('Hello!')\n",
    "print_greeting()"
   ]
  },
  {
   "cell_type": "code",
   "execution_count": 76,
   "id": "361f766c-abd3-494b-958b-99787215611e",
   "metadata": {},
   "outputs": [
    {
     "name": "stdout",
     "output_type": "stream",
     "text": [
      "1871/3/19\n"
     ]
    }
   ],
   "source": [
    "def print_date(year, month, day):\n",
    "\tjoined = str(year) + '/' + str(month) + '/' + str(day)\n",
    "\tprint(joined)\n",
    "\n",
    "print_date(1871, 3, 19)\n"
   ]
  },
  {
   "cell_type": "code",
   "execution_count": 77,
   "id": "94ba7ede-6418-4a3b-98b2-e705e43b837d",
   "metadata": {},
   "outputs": [
    {
     "name": "stdout",
     "output_type": "stream",
     "text": [
      "1871/3/19\n",
      "result of call is: None\n"
     ]
    }
   ],
   "source": [
    "# if a function does not return a value, it will retun None\n",
    "result = print_date(1871, 3, 19)\n",
    "print('result of call is:', result)\n",
    "\n"
   ]
  },
  {
   "cell_type": "code",
   "execution_count": 78,
   "id": "d77c1a28-8647-44b2-b59b-f26883b22a11",
   "metadata": {},
   "outputs": [
    {
     "name": "stdout",
     "output_type": "stream",
     "text": [
      "calling <function report at 0x000001C5FD5DDE40> 22.5\n"
     ]
    }
   ],
   "source": [
    "# solution to exercise 18.1\n",
    "def report(pressure):\n",
    "\tprint('pressure is', pressure)\n",
    "print('calling', report, 22.5)\n"
   ]
  },
  {
   "cell_type": "code",
   "execution_count": 80,
   "id": "b32ed93c-b446-447d-aeda-b3022aa7baf7",
   "metadata": {},
   "outputs": [
    {
     "name": "stdout",
     "output_type": "stream",
     "text": [
      "For 1 terms, summation = 4.0\n",
      "For 10 terms, summation = 3.0418396189294032\n",
      "For 100 terms, summation = 3.1315929035585537\n",
      "For 1000 terms, summation = 3.140592653839794\n",
      "For 10000 terms, summation = 3.1414926535900345\n",
      "For 100000 terms, summation = 3.1415826535897198\n"
     ]
    }
   ],
   "source": [
    "# recursion\n",
    "# Define functions\n",
    "def equation(k):\n",
    "    output = 4 * (-1)**k / (2*k + 1)\n",
    "    return output\n",
    "\n",
    "# This function recursively uses the previous function\n",
    "def summation(n):\n",
    "    X = 0\n",
    "    for idx in range(n):\n",
    "        X += equation(idx)\n",
    "    return X\n",
    "\n",
    "# Call the functions\n",
    "for N in [1, 10, 100, 1000, 10000, 100000]:\n",
    "    y = summation(N)\n",
    "    print(f'For {N} terms, summation = {y}')\n"
   ]
  },
  {
   "cell_type": "code",
   "execution_count": null,
   "id": "b56fcf50-e133-44b6-8d2e-c96e11937188",
   "metadata": {},
   "outputs": [],
   "source": []
  }
 ],
 "metadata": {
  "kernelspec": {
   "display_name": "Python 3 (ipykernel)",
   "language": "python",
   "name": "python3"
  },
  "language_info": {
   "codemirror_mode": {
    "name": "ipython",
    "version": 3
   },
   "file_extension": ".py",
   "mimetype": "text/x-python",
   "name": "python",
   "nbconvert_exporter": "python",
   "pygments_lexer": "ipython3",
   "version": "3.13.1"
  }
 },
 "nbformat": 4,
 "nbformat_minor": 5
}
