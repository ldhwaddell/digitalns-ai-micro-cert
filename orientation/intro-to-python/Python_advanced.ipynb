{
 "cells": [
  {
   "cell_type": "code",
   "execution_count": 1,
   "id": "31eb0379-c886-4a1f-943e-78c37ed9ffd4",
   "metadata": {},
   "outputs": [],
   "source": [
    "# This is all the code and exercise solutions for Python advanced module"
   ]
  },
  {
   "cell_type": "code",
   "execution_count": 2,
   "id": "2e124347-3172-4a82-93fb-5c1e47f31f63",
   "metadata": {},
   "outputs": [],
   "source": [
    "# importing Math module\n",
    "import math"
   ]
  },
  {
   "cell_type": "code",
   "execution_count": 3,
   "id": "5510a398-e7f1-4d18-862c-a95fe2243486",
   "metadata": {},
   "outputs": [
    {
     "name": "stdout",
     "output_type": "stream",
     "text": [
      "6.0\n",
      "3.141592653589793\n"
     ]
    }
   ],
   "source": [
    "x = math.sqrt(36)\n",
    "y = math.pi\n",
    "print(x)\n",
    "print(y)\n"
   ]
  },
  {
   "cell_type": "code",
   "execution_count": 4,
   "id": "ca4c2fdd-f7b3-4627-b0cc-dc4342d75e6b",
   "metadata": {},
   "outputs": [],
   "source": [
    "# importing a common Python library\n",
    "import numpy as np"
   ]
  },
  {
   "cell_type": "code",
   "execution_count": 8,
   "id": "be6bea09-6e75-4af2-835e-d12ae9d7d3db",
   "metadata": {},
   "outputs": [],
   "source": [
    "# importing a common Python library\n",
    "\n",
    "import matplotlib.pyplot as plt\n",
    "from matplotlib import pyplot as plt\n"
   ]
  },
  {
   "cell_type": "code",
   "execution_count": 9,
   "id": "39b89539-018e-4896-9916-a7b284bbf911",
   "metadata": {},
   "outputs": [
    {
     "name": "stdout",
     "output_type": "stream",
     "text": [
      "42\n"
     ]
    }
   ],
   "source": [
    "def add_function(a, b):\n",
    "\tresult = a + b\n",
    "\treturn result\n",
    "\n",
    "z = add_function(20, 22)\n",
    "print(z)\n"
   ]
  },
  {
   "cell_type": "code",
   "execution_count": 10,
   "id": "51cf5929-5763-460c-a807-0f3bd5fb362a",
   "metadata": {},
   "outputs": [],
   "source": [
    "# example_module.py\n",
    "\n",
    "def add(a, b):\n",
    "    # add two numbers\n",
    "    return(a + b)\n",
    "\n",
    "def subtract(a, b):\n",
    "    # subtract two numbers\n",
    "    return(a - b)\n"
   ]
  },
  {
   "cell_type": "code",
   "execution_count": 12,
   "id": "75a475ef-5d12-4a72-877f-7260eca7f5f7",
   "metadata": {},
   "outputs": [],
   "source": [
    "# solution to exercise 2.1\n",
    "# math_module.py\n",
    "\n",
    "# Function to add two numbers\n",
    "def add(a, b):\n",
    "    return a + b\n",
    "\n",
    "# Function to subtract two numbers\n",
    "def subtract(a, b):\n",
    "    return a - b\n",
    "\n",
    "# Function to multiply two numbers\n",
    "def multiply(a, b):\n",
    "    return a * b\n",
    "\n",
    "# Function to divide two numbers\n",
    "def divide(a, b):\n",
    "    if b != 0:\n",
    "        return a / b\n",
    "    else:\n",
    "        return \"Error: Division by zero is not allowed.\""
   ]
  },
  {
   "cell_type": "code",
   "execution_count": 14,
   "id": "630fbcef-372f-4197-ad18-abd02cb8eaa8",
   "metadata": {},
   "outputs": [
    {
     "ename": "ModuleNotFoundError",
     "evalue": "No module named 'math_module'",
     "output_type": "error",
     "traceback": [
      "\u001b[1;31m---------------------------------------------------------------------------\u001b[0m",
      "\u001b[1;31mModuleNotFoundError\u001b[0m                       Traceback (most recent call last)",
      "Cell \u001b[1;32mIn[14], line 5\u001b[0m\n\u001b[0;32m      1\u001b[0m \u001b[38;5;66;03m# math_script.py\u001b[39;00m\n\u001b[0;32m      2\u001b[0m \u001b[38;5;66;03m# You will get module error if you don't create math_module.py in the same directory first!\u001b[39;00m\n\u001b[0;32m      3\u001b[0m \n\u001b[0;32m      4\u001b[0m \u001b[38;5;66;03m# Importing functions from math_module.py\u001b[39;00m\n\u001b[1;32m----> 5\u001b[0m \u001b[38;5;28;01mimport\u001b[39;00m \u001b[38;5;21;01mmath_module\u001b[39;00m\n\u001b[0;32m      7\u001b[0m \u001b[38;5;66;03m# Choose two numbers\u001b[39;00m\n\u001b[0;32m      8\u001b[0m num1 \u001b[38;5;241m=\u001b[39m \u001b[38;5;241m10\u001b[39m\n",
      "\u001b[1;31mModuleNotFoundError\u001b[0m: No module named 'math_module'"
     ]
    }
   ],
   "source": [
    "# math_script.py\n",
    "# You will get module error if you don't create math_module.py in the same directory first!\n",
    "\n",
    "# Importing functions from math_module.py\n",
    "import math_module\n",
    "\n",
    "# Choose two numbers\n",
    "num1 = 10\n",
    "num2 = 5\n",
    "\n",
    "# Run each function and print the result\n",
    "print(f\"The sum of {num1} and {num2} is: {math_module.add(num1, num2)}\")\n",
    "print(f\"The difference of {num1} and {num2} is: {math_module.subtract(num1, num2)}\")\n",
    "print(f\"The product of {num1} and {num2} is: {math_module.multiply(num1, num2)}\")\n",
    "print(f\"The division of {num1} by {num2} is: {math_module.divide(num1, num2)}\")"
   ]
  },
  {
   "cell_type": "code",
   "execution_count": 16,
   "id": "73a1f659-ffa1-4dc2-a70a-4fa038300fdb",
   "metadata": {},
   "outputs": [
    {
     "name": "stdout",
     "output_type": "stream",
     "text": [
      "[ 1.07251675 -1.29823897 -1.03667736  0.36740703 -0.31536088  0.71880342\n",
      " -0.77226428 -0.04965569 -0.50161291 -1.08507481]\n",
      "[4 3 4 3 5]\n"
     ]
    }
   ],
   "source": [
    "# calling functions from a common Python library\n",
    "normal_sample = np.random.normal(loc=0.0, scale=1.0, size=10)\n",
    "integer_sample = np.random.randint(low = 10, high=None, size=5)\n",
    "print (normal_sample)\n",
    "print (integer_sample)"
   ]
  },
  {
   "cell_type": "code",
   "execution_count": 17,
   "id": "3121a5ac-7deb-4cff-b79e-e3beab9be2b9",
   "metadata": {},
   "outputs": [],
   "source": [
    "# numpy library\n",
    "import numpy as np"
   ]
  },
  {
   "cell_type": "code",
   "execution_count": 18,
   "id": "f10cdba8-8029-4839-8258-55528ef0ec53",
   "metadata": {},
   "outputs": [
    {
     "name": "stdout",
     "output_type": "stream",
     "text": [
      "[1 2 3 4 5]\n",
      "<class 'numpy.ndarray'>\n"
     ]
    }
   ],
   "source": [
    "#using a list to create a NumPy array\n",
    "list_array = np.array([1, 2, 3, 4, 5])\n",
    "print(list_array)\n",
    "print(type(list_array))\n"
   ]
  },
  {
   "cell_type": "code",
   "execution_count": 19,
   "id": "7f2afe97-6888-4392-9f4c-8c76a72869ba",
   "metadata": {},
   "outputs": [
    {
     "name": "stdout",
     "output_type": "stream",
     "text": [
      "[1 2 3 4 5]\n",
      "<class 'numpy.ndarray'>\n"
     ]
    }
   ],
   "source": [
    "#using a tuple to create a NumPy array\n",
    "tuple_array = np.array((1, 2, 3, 4, 5))\n",
    "print(tuple_array)\n",
    "print(type(tuple_array))\n"
   ]
  },
  {
   "cell_type": "code",
   "execution_count": 20,
   "id": "b9067df2-7dd1-42e1-bca7-9eea357b472f",
   "metadata": {},
   "outputs": [
    {
     "name": "stdout",
     "output_type": "stream",
     "text": [
      "36\n"
     ]
    }
   ],
   "source": [
    "#0-D array \n",
    "array_0d = np.array(36)\n",
    "print(array_0d)\n"
   ]
  },
  {
   "cell_type": "code",
   "execution_count": 21,
   "id": "18aad13f-7a0d-4a68-9f9a-0c15050868ab",
   "metadata": {},
   "outputs": [
    {
     "name": "stdout",
     "output_type": "stream",
     "text": [
      "[1 2 3 4 5]\n"
     ]
    }
   ],
   "source": [
    "# This is a 1-D array containing the values 1,2,3,4,5.\n",
    "array_1d = np.array([1, 2, 3, 4, 5])\n",
    "print(array_1d)\n"
   ]
  },
  {
   "cell_type": "code",
   "execution_count": 22,
   "id": "5e40383d-c441-4ca2-a748-c23d090be951",
   "metadata": {},
   "outputs": [
    {
     "name": "stdout",
     "output_type": "stream",
     "text": [
      "[[1 2 3]\n",
      " [4 5 6]]\n"
     ]
    }
   ],
   "source": [
    "# Create a 2-D array containing two arrays with the values 1,2,3 and 4,5,6:\n",
    "\n",
    "array_2d = np.array([[1, 2, 3], [4, 5, 6]])\n",
    "print(array_2d)\n"
   ]
  },
  {
   "cell_type": "code",
   "execution_count": 23,
   "id": "ab6b5c6a-478d-4985-ad7c-fcc7864902f3",
   "metadata": {},
   "outputs": [
    {
     "name": "stdout",
     "output_type": "stream",
     "text": [
      "number of dimensions for array_0d is 0\n",
      "number of dimensions for array_1d is 1\n",
      "number of dimensions for array_2d is 2\n",
      "number of dimensions for array_3d is 3\n"
     ]
    }
   ],
   "source": [
    "# using ndim to determine dimensions of an array\n",
    "\n",
    "array_0d = np.array(36)\n",
    "array_1d = np.array([1, 2, 3, 4, 5])\n",
    "array_2d = np.array([[1, 2, 3], [4, 5, 6]])\n",
    "array_3d = np.array([[[1, 2, 3], [4, 5, 6]], [[1, 2, 3], [4, 5, 6]]])\n",
    "\n",
    "print(\"number of dimensions for array_0d is\", array_0d.ndim)\n",
    "print(\"number of dimensions for array_1d is\", array_1d.ndim)\n",
    "print(\"number of dimensions for array_2d is\", array_2d.ndim)\n",
    "print(\"number of dimensions for array_3d is\", array_3d.ndim)\n"
   ]
  },
  {
   "cell_type": "code",
   "execution_count": 24,
   "id": "17313ac0-3bdb-4ee8-bdc5-71eddab6faf4",
   "metadata": {},
   "outputs": [
    {
     "name": "stdout",
     "output_type": "stream",
     "text": [
      "[0 1 2 3 4 5 6 7 8 9]\n"
     ]
    }
   ],
   "source": [
    "# using np.arange\n",
    "# Creating an array from 0 to 9 (excluding 10):\n",
    "\n",
    "arr = np.arange(10)\n",
    "print(arr)\n"
   ]
  },
  {
   "cell_type": "code",
   "execution_count": 25,
   "id": "d5e46e03-8759-4782-8f7c-9dbf41c02424",
   "metadata": {},
   "outputs": [
    {
     "name": "stdout",
     "output_type": "stream",
     "text": [
      "[ 0.  2.  4.  6.  8. 10. 12. 14. 16. 18. 20. 22. 24. 26. 28. 30. 32. 34.\n",
      " 36. 38.]\n"
     ]
    }
   ],
   "source": [
    "# using np.linspace\n",
    "# Generate 20 evenly spaced samples between 0 and 40, not including 40\n",
    "samples = np.linspace(0, 40, num=20, endpoint=False)\n",
    "print(samples)\n"
   ]
  },
  {
   "cell_type": "code",
   "execution_count": 26,
   "id": "b55ac176-7f90-4ad2-bd8d-d3ba5b4940de",
   "metadata": {},
   "outputs": [
    {
     "name": "stdout",
     "output_type": "stream",
     "text": [
      "(2, 4)\n"
     ]
    }
   ],
   "source": [
    "# using shape to find the number of elements in each dimension\n",
    "\n",
    "arr = np.array([[1, 2, 3, 4], [5, 6, 7, 8]])\n",
    "print(arr.shape)\n"
   ]
  },
  {
   "cell_type": "code",
   "execution_count": 27,
   "id": "0af89dc2-ed74-417d-8f27-b52cad94fb75",
   "metadata": {},
   "outputs": [
    {
     "name": "stdout",
     "output_type": "stream",
     "text": [
      "Original 1D array:\n",
      " [ 0  1  2  3  4  5  6  7  8  9 10 11]\n",
      "\n",
      "Reshaped 2D array:\n",
      " [[ 0  1  2  3]\n",
      " [ 4  5  6  7]\n",
      " [ 8  9 10 11]]\n"
     ]
    }
   ],
   "source": [
    "# using reshape to change dimension structure of an array\n",
    "\n",
    "# Create a 1D array\n",
    "data = np.arange(12)  \n",
    "# Array containing 12 elements (0 to 11)\n",
    "\n",
    "# Reshape into a 2D array with 3 rows and 4 columns\n",
    "reshaped_data = data.reshape(3, 4)\n",
    "\n",
    "# Print the original and reshaped arrays\n",
    "print(\"Original 1D array:\\n\", data)\n",
    "print(\"\\nReshaped 2D array:\\n\", reshaped_data)\n"
   ]
  },
  {
   "cell_type": "code",
   "execution_count": 28,
   "id": "2d448246-3484-450b-8fce-b7dfccbb6253",
   "metadata": {},
   "outputs": [
    {
     "name": "stdout",
     "output_type": "stream",
     "text": [
      "[[ 1  2  3]\n",
      " [ 4  5  6]\n",
      " [ 7  8  9]\n",
      " [10 11 12]]\n"
     ]
    }
   ],
   "source": [
    "# solution to exercise 3.1\n",
    "Array_example = [1, 2, 3, 4, 5, 6, 7, 8, 9, 10, 11, 12]\n",
    "\n",
    "# Convert to a 2-D array with 4 rows and 3 columns\n",
    "Array_2D = np.reshape(Array_example, (4, 3))\n",
    "\n",
    "print(Array_2D)"
   ]
  },
  {
   "cell_type": "code",
   "execution_count": 29,
   "id": "ef16dc57-c2dc-4c8e-b698-7f0f3d3acd40",
   "metadata": {},
   "outputs": [
    {
     "name": "stdout",
     "output_type": "stream",
     "text": [
      "1\n"
     ]
    }
   ],
   "source": [
    "# NumPy array indexing\n",
    "#Array indexing in 1-D arrays\n",
    "array_numbers = np.array([1, 2, 3, 4])\n",
    "print(array_numbers[0])\n"
   ]
  },
  {
   "cell_type": "code",
   "execution_count": 30,
   "id": "cdfd7a5f-84b2-4e9c-afb7-2c24468e983c",
   "metadata": {},
   "outputs": [
    {
     "name": "stdout",
     "output_type": "stream",
     "text": [
      "[6 2 3 4]\n"
     ]
    }
   ],
   "source": [
    "#Array value assignment \n",
    "array_numbers = np.array([1, 2, 3, 4])\n",
    "array_numbers[0]=6\n",
    "print(array_numbers)\n"
   ]
  },
  {
   "cell_type": "code",
   "execution_count": 31,
   "id": "2b5f519f-68af-4c4e-93da-a0e50e3361ba",
   "metadata": {},
   "outputs": [
    {
     "name": "stdout",
     "output_type": "stream",
     "text": [
      "[[ 1  2  3  4  5]\n",
      " [ 6  7  8  9 10]]\n",
      "2nd element on 1st row:  2\n",
      "5th element on 2nd row:  10\n"
     ]
    }
   ],
   "source": [
    "#Array indexing in 2-D arrays\n",
    "array_numbers2 = np.array([[1,2,3,4,5], [6,7,8,9,10]])\n",
    "print(array_numbers2)\n",
    "# Access the element on the first row, second column:\n",
    "print('2nd element on 1st row: ', array_numbers2[0, 1])\n",
    "# Access the element on the 2nd row, 5th column:\n",
    "print('5th element on 2nd row: ', array_numbers2[1, 4])\n"
   ]
  },
  {
   "cell_type": "code",
   "execution_count": 32,
   "id": "f5a0f82e-92c5-43da-b184-a841dec82b11",
   "metadata": {},
   "outputs": [
    {
     "name": "stdout",
     "output_type": "stream",
     "text": [
      "12\n"
     ]
    }
   ],
   "source": [
    "# solution to exercise 4.1\n",
    "# Create a 2-D 5x5 array using np.arange()\n",
    "array_2d = np.arange(1, 26).reshape(5, 5)\n",
    "\n",
    "# Print the element in the third row and second column\n",
    "element = array_2d[2, 1]  # Indexing starts from 0, so this is the third row, second column\n",
    "print(element)"
   ]
  },
  {
   "cell_type": "code",
   "execution_count": 33,
   "id": "e238a0b8-7a89-4943-93ca-798ce03a61fc",
   "metadata": {},
   "outputs": [
    {
     "name": "stdout",
     "output_type": "stream",
     "text": [
      "[2 3 4 5]\n"
     ]
    }
   ],
   "source": [
    "#Slice elements from index 1 to index 5 from the following array\n",
    "array_example = np.array([1, 2, 3, 4, 5, 6, 7])\n",
    "print(array_example[1:5])\n"
   ]
  },
  {
   "cell_type": "code",
   "execution_count": 34,
   "id": "946e519b-22dd-43a8-9085-f2bdbdfbdf15",
   "metadata": {},
   "outputs": [
    {
     "name": "stdout",
     "output_type": "stream",
     "text": [
      "[7 8 9]\n",
      "[[2 3 4]\n",
      " [7 8 9]]\n"
     ]
    }
   ],
   "source": [
    "arr = np.array([[1, 2, 3, 4, 5], [6, 7, 8, 9, 10]])\n",
    "#Slice a 2-D array, from the second element, slice elements from index 1 to index 4\n",
    "print(arr[1, 1:4])\n",
    "#From both elements, slice index 1 to index 4 (not included), this will return a 2-D array:\n",
    "print(arr[0:2, 1:4])\n"
   ]
  },
  {
   "cell_type": "code",
   "execution_count": 35,
   "id": "1303d479-1d5e-453b-b9b8-b8e627cf2fcf",
   "metadata": {},
   "outputs": [
    {
     "name": "stdout",
     "output_type": "stream",
     "text": [
      "[1 2 3 4 5 6]\n"
     ]
    }
   ],
   "source": [
    "# Join two 1-D arrays\n",
    "\n",
    "arr1 = np.array([1, 2, 3])\n",
    "arr2 = np.array([4, 5, 6])\n",
    "arr_combined = np.concatenate((arr1, arr2))\n",
    "print(arr_combined) \n"
   ]
  },
  {
   "cell_type": "code",
   "execution_count": 36,
   "id": "80648b82-9a08-473c-bacf-3b5bb8b67d48",
   "metadata": {},
   "outputs": [
    {
     "name": "stdout",
     "output_type": "stream",
     "text": [
      "Element-wise sum:\n",
      " [5 7 9]\n",
      "Element-wise product:\n",
      " [ 4 10 18]\n",
      "broadcasting example sum is: \n",
      " [11 12 13]\n",
      "broadcasting example product is: \n",
      " [10 20 30]\n"
     ]
    }
   ],
   "source": [
    "# Create two NumPy arrays\n",
    "arr1 = np.array([1, 2, 3])\n",
    "arr2 = np.array([4, 5, 6])\n",
    "\n",
    "# Add the arrays element-wise using the + operator\n",
    "sum_arr = arr1 + arr2\n",
    "print(\"Element-wise sum:\\n\", sum_arr) \n",
    "\n",
    "# Multiplication is done the same way as addition\n",
    "product_arr = arr1 * arr2\n",
    "print(\"Element-wise product:\\n\", product_arr)\n",
    "\n",
    "#If the arrays have different shapes, NumPy might perform broadcasting to make them compatible for element-wise operations. Broadcasting extends the smaller array in a specific way to match the dimensions of the larger array.\n",
    "\n",
    "arr3 = np.array([1, 2, 3])\n",
    "arr4 = np.array([10])\n",
    "\n",
    "# Add arr3 (with 3 elements) to arr4 (with 1 element)\n",
    "combined = arr3 + arr4\n",
    "print(\"broadcasting example sum is: \\n\", combined)\n",
    "\n",
    "combined_product = arr3 * arr4\n",
    "print(\"broadcasting example product is: \\n\", combined_product)\n"
   ]
  },
  {
   "cell_type": "code",
   "execution_count": 38,
   "id": "a93c25c3-95c8-43a2-84e5-0d0b30edddaa",
   "metadata": {},
   "outputs": [
    {
     "name": "stdout",
     "output_type": "stream",
     "text": [
      "[ 2  6  8 10]\n",
      "[ 1  9 16 25]\n",
      "[ 2 12  8 20]\n"
     ]
    }
   ],
   "source": [
    "# solution to exercise 4.2\n",
    "array = np.array([1, 3, 4, 5])\n",
    "\n",
    "# Perform the arithmetic calculations\n",
    "result1 = 2 * array  # 2 * array\n",
    "result2 = array * array  # array * array\n",
    "array2 = np.array([2, 4])  # Define the array [2, 4]\n",
    "\n",
    "# Repeat the elements of array2 to match the shape of array for element-wise multiplication\n",
    "array2_broadcasted = np.tile(array2, 2)  # Repeats array2 to get the shape (4,)\n",
    "result3 = array2_broadcasted * array  # element-wise multiplication with broadcasting\n",
    "\n",
    "print(result1)\n",
    "print(result2)\n",
    "print(result3)"
   ]
  },
  {
   "cell_type": "code",
   "execution_count": 40,
   "id": "37b9395a-b993-45f6-b203-44c231ddeece",
   "metadata": {},
   "outputs": [
    {
     "name": "stdout",
     "output_type": "stream",
     "text": [
      "mean =  6.766666666666667\n",
      "Variance =  25.855555555555554\n",
      "Standard Deviation =  5.084835843520964\n",
      "min =  -2.5\n",
      "max =  12.0\n",
      "sum =  40.6\n",
      "product =  -71610.0\n"
     ]
    }
   ],
   "source": [
    "# NumPy Stats functions\n",
    "\n",
    "X = np.array( [ [-2.5, 3.1, 7],\n",
    "                [10, 11, 12] ] )\n",
    "print(\"mean = \", X.mean())\n",
    "print(\"Variance = \", X.var())\n",
    "print(\"Standard Deviation = \", X.std())\n",
    "print(\"min = \", X.min())\n",
    "print(\"max = \", X.max())\n",
    "print(\"sum = \", X.sum())\n",
    "print(\"product = \", X.prod())"
   ]
  },
  {
   "cell_type": "code",
   "execution_count": 41,
   "id": "faf5a936-47db-48dc-ba44-dc20ae8c3e71",
   "metadata": {},
   "outputs": [
    {
     "name": "stdout",
     "output_type": "stream",
     "text": [
      "78\n"
     ]
    }
   ],
   "source": [
    "# Generate a random integer from 0 to 100:\n",
    "\n",
    "from numpy import random\n",
    "\n",
    "x = random.randint(100)\n",
    "\n",
    "print(x)"
   ]
  },
  {
   "cell_type": "code",
   "execution_count": 42,
   "id": "e292b33b-6bf8-4091-bc04-e8db894cf3f4",
   "metadata": {},
   "outputs": [
    {
     "name": "stdout",
     "output_type": "stream",
     "text": [
      "[98 53 21 30 14]\n"
     ]
    }
   ],
   "source": [
    "# Generate a 1-D array containing 5 random integers from 0 to 100:\n",
    "\n",
    "x=random.randint(100, size=(5))\n",
    "\n",
    "print(x)"
   ]
  },
  {
   "cell_type": "code",
   "execution_count": 43,
   "id": "bd6d7482-0705-418c-8cf6-538649c14854",
   "metadata": {},
   "outputs": [
    {
     "name": "stdout",
     "output_type": "stream",
     "text": [
      "[[38 30 50 58 22]\n",
      " [91  0 57 33 34]\n",
      " [38 95  0  1 40]]\n"
     ]
    }
   ],
   "source": [
    "# Generate a 2-D array with 3 rows, each row containing 5 random integers from 0 to 100:\n",
    "\n",
    "x = random.randint(100, size=(3, 5))\n",
    "\n",
    "print(x)"
   ]
  },
  {
   "cell_type": "code",
   "execution_count": 45,
   "id": "9038130e-5a24-4206-bebd-046de395d3dc",
   "metadata": {},
   "outputs": [
    {
     "name": "stdout",
     "output_type": "stream",
     "text": [
      "[5 7 7 5 7 3 7 7 7 7 7 7 5 7 7 7 7 7 7 7 7 7 7 3 5 5 7 7 5 7 7 7 5 5 7 5 7\n",
      " 7 5 5 7 7 7 7 7 7 5 7 7 7 3 7 7 7 5 7 7 7 5 3 5 7 7 7 7 7 7 5 7 3 5 7 7 7\n",
      " 7 7 7 7 7 7 7 7 7 5 7 7 5 7 5 7 5 3 3 7 5 5 5 3 5 5]\n"
     ]
    }
   ],
   "source": [
    "# Generate a 1-D array containing 100 values, where each value has to be 3, 5, 7 or 9.\n",
    "\n",
    "#The probability for the value to be 3 is set to be 0.1\n",
    "#The probability for the value to be 5 is set to be 0.3\n",
    "#The probability for the value to be 7 is set to be 0.6\n",
    "#The probability for the value to be 9 is set to be 0\n",
    "\n",
    "x = random.choice([3, 5, 7, 9], p=[0.1, 0.3, 0.6, 0.0], size=(100))\n",
    "\n",
    "print(x)"
   ]
  },
  {
   "cell_type": "code",
   "execution_count": 46,
   "id": "6c889f1d-3afc-4ce1-a072-0d324bdbc616",
   "metadata": {},
   "outputs": [
    {
     "name": "stdout",
     "output_type": "stream",
     "text": [
      "[[ 0.69944795  0.79310018 -1.21294537]\n",
      " [-0.96039136 -1.3596002  -0.90730678]]\n"
     ]
    }
   ],
   "source": [
    "# Generate a random normal distribution of size 2x3:\n",
    "\n",
    "from numpy import random\n",
    "\n",
    "x = random.normal(size=(2, 3))\n",
    "\n",
    "print(x)"
   ]
  },
  {
   "cell_type": "code",
   "execution_count": 47,
   "id": "0a34367f-cc1b-4856-86aa-35f765300f4b",
   "metadata": {},
   "outputs": [
    {
     "name": "stdout",
     "output_type": "stream",
     "text": [
      "[[-1.29961025  2.55141801  1.54792755]\n",
      " [ 6.1647411   0.20325499 -2.18054253]]\n"
     ]
    }
   ],
   "source": [
    "# Generate a random normal distribution of size 2x3 with mean at 1 and standard deviation of 2:\n",
    "\n",
    "from numpy import random\n",
    "\n",
    "x = random.normal(loc=1, scale=2, size=(2, 3))\n",
    "\n",
    "print(x)"
   ]
  },
  {
   "cell_type": "code",
   "execution_count": 48,
   "id": "d7319628-be45-42ce-90f1-3637f2300955",
   "metadata": {},
   "outputs": [
    {
     "name": "stdout",
     "output_type": "stream",
     "text": [
      "3.141592653589793\n",
      "1000000000.0\n",
      "1e-09\n",
      "0.30479999999999996\n",
      "0.9143999999999999\n"
     ]
    }
   ],
   "source": [
    "# SciPy library\n",
    "# import constants from SciPy library \n",
    "# Then use pi constant, giga and nano conversion constants, and foot and yard conversion constants.\n",
    "\n",
    "from scipy import constants\n",
    "print(constants.pi)\n",
    "print(constants.giga)\n",
    "print(constants.nano)\n",
    "print(constants.foot)\n",
    "print(constants.yard)\n"
   ]
  },
  {
   "cell_type": "code",
   "execution_count": 49,
   "id": "c7aad534-4675-4b54-9742-3cdec19e2488",
   "metadata": {},
   "outputs": [
    {
     "name": "stdout",
     "output_type": "stream",
     "text": [
      "['Avogadro', 'Boltzmann', 'Btu', 'Btu_IT', 'Btu_th', 'ConstantWarning', 'G', 'Julian_year', 'N_A', 'Planck', 'R', 'Rydberg', 'Stefan_Boltzmann', 'Wien', '__all__', '__builtins__', '__cached__', '__doc__', '__file__', '__loader__', '__name__', '__package__', '__path__', '__spec__', '_codata', '_constants', '_obsolete_constants', 'acre', 'alpha', 'angstrom', 'arcmin', 'arcminute', 'arcsec', 'arcsecond', 'astronomical_unit', 'atm', 'atmosphere', 'atomic_mass', 'atto', 'au', 'bar', 'barrel', 'bbl', 'blob', 'c', 'calorie', 'calorie_IT', 'calorie_th', 'carat', 'centi', 'codata', 'constants', 'convert_temperature', 'day', 'deci', 'degree', 'degree_Fahrenheit', 'deka', 'dyn', 'dyne', 'e', 'eV', 'electron_mass', 'electron_volt', 'elementary_charge', 'epsilon_0', 'erg', 'exa', 'exbi', 'femto', 'fermi', 'find', 'fine_structure', 'fluid_ounce', 'fluid_ounce_US', 'fluid_ounce_imp', 'foot', 'g', 'gallon', 'gallon_US', 'gallon_imp', 'gas_constant', 'gibi', 'giga', 'golden', 'golden_ratio', 'grain', 'gram', 'gravitational_constant', 'h', 'hbar', 'hectare', 'hecto', 'horsepower', 'hour', 'hp', 'inch', 'k', 'kgf', 'kibi', 'kilo', 'kilogram_force', 'kmh', 'knot', 'lambda2nu', 'lb', 'lbf', 'light_year', 'liter', 'litre', 'long_ton', 'm_e', 'm_n', 'm_p', 'm_u', 'mach', 'mebi', 'mega', 'metric_ton', 'micro', 'micron', 'mil', 'mile', 'milli', 'minute', 'mmHg', 'mph', 'mu_0', 'nano', 'nautical_mile', 'neutron_mass', 'nu2lambda', 'ounce', 'oz', 'parsec', 'pebi', 'peta', 'physical_constants', 'pi', 'pico', 'point', 'pound', 'pound_force', 'precision', 'proton_mass', 'psi', 'pt', 'quecto', 'quetta', 'ronna', 'ronto', 'short_ton', 'sigma', 'slinch', 'slug', 'speed_of_light', 'speed_of_sound', 'stone', 'survey_foot', 'survey_mile', 'tebi', 'tera', 'test', 'ton_TNT', 'torr', 'troy_ounce', 'troy_pound', 'u', 'unit', 'value', 'week', 'yard', 'year', 'yobi', 'yocto', 'yotta', 'zebi', 'zepto', 'zero_Celsius', 'zetta']\n"
     ]
    }
   ],
   "source": [
    "print(dir(constants))"
   ]
  },
  {
   "cell_type": "code",
   "execution_count": 50,
   "id": "78fd6635-1fcf-4cbe-b818-a19db373c711",
   "metadata": {},
   "outputs": [
    {
     "name": "stdout",
     "output_type": "stream",
     "text": [
      "[-0.73908513]\n",
      " message: The solution converged.\n",
      " success: True\n",
      "  status: 1\n",
      "     fun: [ 0.000e+00]\n",
      "       x: [-7.391e-01]\n",
      "    nfev: 9\n",
      "    fjac: [[-1.000e+00]]\n",
      "       r: [-1.674e+00]\n",
      "     qtf: [-2.668e-13]\n"
     ]
    },
    {
     "name": "stderr",
     "output_type": "stream",
     "text": [
      "C:\\Users\\yemon\\AppData\\Local\\Temp\\ipykernel_2948\\3306016120.py:7: DeprecationWarning: Conversion of an array with ndim > 0 to a scalar is deprecated, and will error in future. Ensure you extract a single element from your array before performing this operation. (Deprecated NumPy 1.25.)\n",
      "  return x + cos(x)\n"
     ]
    }
   ],
   "source": [
    "# Find root of the equation x + cos(x): \n",
    "\n",
    "from scipy.optimize import root\n",
    "from math import cos\n",
    "\n",
    "def eqn(x):\n",
    "  return x + cos(x)\n",
    "\n",
    "myroot = root(eqn, 0)\n",
    "\n",
    "print(myroot.x)\n",
    "print(myroot)\n"
   ]
  },
  {
   "cell_type": "code",
   "execution_count": 51,
   "id": "30fa28dd-b40c-4941-b054-7d9aa9139e8e",
   "metadata": {},
   "outputs": [
    {
     "name": "stdout",
     "output_type": "stream",
     "text": [
      "  message: Optimization terminated successfully.\n",
      "  success: True\n",
      "   status: 0\n",
      "      fun: 1.75\n",
      "        x: [-5.000e-01]\n",
      "      nit: 2\n",
      "      jac: [ 0.000e+00]\n",
      " hess_inv: [[ 5.000e-01]]\n",
      "     nfev: 8\n",
      "     njev: 4\n"
     ]
    }
   ],
   "source": [
    "from scipy.optimize import minimize\n",
    "\n",
    "def eqn(x):\n",
    "  return x**2 + x + 2\n",
    "\n",
    "mymin = minimize(eqn, 0, method='BFGS')\n",
    "\n",
    "print(mymin)\n"
   ]
  },
  {
   "cell_type": "code",
   "execution_count": null,
   "id": "53f676c4-a060-4100-8f90-6b0f02bf807d",
   "metadata": {},
   "outputs": [],
   "source": []
  }
 ],
 "metadata": {
  "kernelspec": {
   "display_name": "Python 3 (ipykernel)",
   "language": "python",
   "name": "python3"
  },
  "language_info": {
   "codemirror_mode": {
    "name": "ipython",
    "version": 3
   },
   "file_extension": ".py",
   "mimetype": "text/x-python",
   "name": "python",
   "nbconvert_exporter": "python",
   "pygments_lexer": "ipython3",
   "version": "3.11.7"
  }
 },
 "nbformat": 4,
 "nbformat_minor": 5
}
