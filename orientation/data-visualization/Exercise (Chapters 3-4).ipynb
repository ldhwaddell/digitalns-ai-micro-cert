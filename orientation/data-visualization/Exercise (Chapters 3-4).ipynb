{
 "cells": [
  {
   "cell_type": "raw",
   "id": "17178b7a-b989-4b69-bc46-fbd5e1365cd5",
   "metadata": {},
   "source": [
    "# Data Cleaning, Preparation, and EDA Solution"
   ]
  },
  {
   "cell_type": "markdown",
   "id": "77e57b81-244d-4dc7-9fc2-3a07cd87e49c",
   "metadata": {},
   "source": [
    "#### Question 1: Import appropriate package and load the dataset"
   ]
  },
  {
   "cell_type": "code",
   "execution_count": 30,
   "id": "301d1d57-6f2e-4793-82d5-4acb8453f094",
   "metadata": {},
   "outputs": [
    {
     "data": {
      "text/html": [
       "<div>\n",
       "<style scoped>\n",
       "    .dataframe tbody tr th:only-of-type {\n",
       "        vertical-align: middle;\n",
       "    }\n",
       "\n",
       "    .dataframe tbody tr th {\n",
       "        vertical-align: top;\n",
       "    }\n",
       "\n",
       "    .dataframe thead th {\n",
       "        text-align: right;\n",
       "    }\n",
       "</style>\n",
       "<table border=\"1\" class=\"dataframe\">\n",
       "  <thead>\n",
       "    <tr style=\"text-align: right;\">\n",
       "      <th></th>\n",
       "      <th>ID</th>\n",
       "      <th>Age</th>\n",
       "      <th>Gender</th>\n",
       "      <th>BMI</th>\n",
       "      <th>Glucose</th>\n",
       "      <th>Insulin</th>\n",
       "      <th>HbA1c</th>\n",
       "      <th>FamilyHistory</th>\n",
       "      <th>Diabetes</th>\n",
       "    </tr>\n",
       "  </thead>\n",
       "  <tbody>\n",
       "    <tr>\n",
       "      <th>0</th>\n",
       "      <td>1</td>\n",
       "      <td>76</td>\n",
       "      <td>Female</td>\n",
       "      <td>30.9</td>\n",
       "      <td>181.0</td>\n",
       "      <td>14.4</td>\n",
       "      <td>7.3</td>\n",
       "      <td>nooo</td>\n",
       "      <td>No</td>\n",
       "    </tr>\n",
       "    <tr>\n",
       "      <th>1</th>\n",
       "      <td>2</td>\n",
       "      <td>57</td>\n",
       "      <td>Female</td>\n",
       "      <td>32.4</td>\n",
       "      <td>166.0</td>\n",
       "      <td>19.1</td>\n",
       "      <td>6.9</td>\n",
       "      <td>nooo</td>\n",
       "      <td>No</td>\n",
       "    </tr>\n",
       "    <tr>\n",
       "      <th>2</th>\n",
       "      <td>3</td>\n",
       "      <td>20</td>\n",
       "      <td>Male</td>\n",
       "      <td>31.4</td>\n",
       "      <td>165.0</td>\n",
       "      <td>6.7</td>\n",
       "      <td>5.8</td>\n",
       "      <td>No</td>\n",
       "      <td>No</td>\n",
       "    </tr>\n",
       "    <tr>\n",
       "      <th>3</th>\n",
       "      <td>4</td>\n",
       "      <td>21</td>\n",
       "      <td>male</td>\n",
       "      <td>21.1</td>\n",
       "      <td>127.0</td>\n",
       "      <td>11.3</td>\n",
       "      <td>5.3</td>\n",
       "      <td>No</td>\n",
       "      <td>No</td>\n",
       "    </tr>\n",
       "    <tr>\n",
       "      <th>4</th>\n",
       "      <td>5</td>\n",
       "      <td>58</td>\n",
       "      <td>Female</td>\n",
       "      <td>32.1</td>\n",
       "      <td>175.0</td>\n",
       "      <td>8.9</td>\n",
       "      <td>5.1</td>\n",
       "      <td>No</td>\n",
       "      <td>No</td>\n",
       "    </tr>\n",
       "    <tr>\n",
       "      <th>...</th>\n",
       "      <td>...</td>\n",
       "      <td>...</td>\n",
       "      <td>...</td>\n",
       "      <td>...</td>\n",
       "      <td>...</td>\n",
       "      <td>...</td>\n",
       "      <td>...</td>\n",
       "      <td>...</td>\n",
       "      <td>...</td>\n",
       "    </tr>\n",
       "    <tr>\n",
       "      <th>515</th>\n",
       "      <td>462</td>\n",
       "      <td>60</td>\n",
       "      <td>Male</td>\n",
       "      <td>22.0</td>\n",
       "      <td>141.0</td>\n",
       "      <td>4.9</td>\n",
       "      <td>6.5</td>\n",
       "      <td>Yes</td>\n",
       "      <td>Yes</td>\n",
       "    </tr>\n",
       "    <tr>\n",
       "      <th>516</th>\n",
       "      <td>450</td>\n",
       "      <td>39</td>\n",
       "      <td>male</td>\n",
       "      <td>22.2</td>\n",
       "      <td>82.0</td>\n",
       "      <td>18.5</td>\n",
       "      <td>5.1</td>\n",
       "      <td>No</td>\n",
       "      <td>No</td>\n",
       "    </tr>\n",
       "    <tr>\n",
       "      <th>517</th>\n",
       "      <td>9</td>\n",
       "      <td>80</td>\n",
       "      <td>male</td>\n",
       "      <td>32.5</td>\n",
       "      <td>75.0</td>\n",
       "      <td>13.2</td>\n",
       "      <td>8.6</td>\n",
       "      <td>Yes</td>\n",
       "      <td>No</td>\n",
       "    </tr>\n",
       "    <tr>\n",
       "      <th>518</th>\n",
       "      <td>370</td>\n",
       "      <td>23</td>\n",
       "      <td>male</td>\n",
       "      <td>23.2</td>\n",
       "      <td>171.0</td>\n",
       "      <td>5.1</td>\n",
       "      <td>9.2</td>\n",
       "      <td>Yess</td>\n",
       "      <td>No</td>\n",
       "    </tr>\n",
       "    <tr>\n",
       "      <th>519</th>\n",
       "      <td>256</td>\n",
       "      <td>52</td>\n",
       "      <td>Male</td>\n",
       "      <td>19.5</td>\n",
       "      <td>126.0</td>\n",
       "      <td>6.5</td>\n",
       "      <td>6.1</td>\n",
       "      <td>nooo</td>\n",
       "      <td>No</td>\n",
       "    </tr>\n",
       "  </tbody>\n",
       "</table>\n",
       "<p>520 rows × 9 columns</p>\n",
       "</div>"
      ],
      "text/plain": [
       "      ID  Age  Gender   BMI  Glucose  Insulin  HbA1c FamilyHistory Diabetes\n",
       "0      1   76  Female  30.9    181.0     14.4    7.3          nooo       No\n",
       "1      2   57  Female  32.4    166.0     19.1    6.9          nooo       No\n",
       "2      3   20    Male  31.4    165.0      6.7    5.8            No       No\n",
       "3      4   21    male  21.1    127.0     11.3    5.3            No       No\n",
       "4      5   58  Female  32.1    175.0      8.9    5.1            No       No\n",
       "..   ...  ...     ...   ...      ...      ...    ...           ...      ...\n",
       "515  462   60    Male  22.0    141.0      4.9    6.5           Yes      Yes\n",
       "516  450   39    male  22.2     82.0     18.5    5.1            No       No\n",
       "517    9   80    male  32.5     75.0     13.2    8.6           Yes       No\n",
       "518  370   23    male  23.2    171.0      5.1    9.2          Yess       No\n",
       "519  256   52    Male  19.5    126.0      6.5    6.1          nooo       No\n",
       "\n",
       "[520 rows x 9 columns]"
      ]
     },
     "execution_count": 30,
     "metadata": {},
     "output_type": "execute_result"
    }
   ],
   "source": [
    "\n",
    "import numpy as np\n",
    "import pandas as pd\n",
    "import os\n",
    "\n",
    "# Load your dataset (replace 'your_dataset.csv' with the actual file path)\n",
    "path = './data/diabetes_dataset.csv'\n",
    "df = pd.read_csv(path)"
   ]
  },
  {
   "cell_type": "markdown",
   "id": "94bcc0df-e1d2-4e5e-9915-c8a0d14c9a40",
   "metadata": {},
   "source": [
    "#### Question 2: Complete the 'handle_missing_values' function to handel missing values in the dataset"
   ]
  },
  {
   "cell_type": "code",
   "execution_count": null,
   "id": "18b17a27-c35d-4f4e-b535-708942e8dde4",
   "metadata": {},
   "outputs": [],
   "source": [
    "# Function to handle missing values for both text and numeric columns\n",
    "def handle_missing_values(df):\n",
    "    df_filled = df.copy()\n",
    "    \n",
    "    for col in [\"BMI\", \"Glucose\", \"Insulin\", \"HbA1c\"]:\n",
    "        df_filled[col] = df_filled[col].fillna(df[col].mean())\n",
    "\n",
    "    # Unknown Family history\n",
    "    df[\"FamilyHistory\"] = df[\"FamilyHistory\"].fillna(\"Unknown\")\n",
    "    \n",
    "    return df_filled"
   ]
  },
  {
   "cell_type": "markdown",
   "id": "cb6889d2-aa3a-4d81-87f9-3d95d824bde6",
   "metadata": {},
   "source": [
    "#### Question 3: Complete the 'handle_outliers' function to remove outliers in the dataset"
   ]
  },
  {
   "cell_type": "code",
   "execution_count": null,
   "id": "3e5ce67d-5153-445f-8af2-22424dc38b5e",
   "metadata": {},
   "outputs": [],
   "source": [
    "# Function to handle outliers for numeric columns\n",
    "def handle_outliers(df):\n",
    "    df_outliers_removed = df.copy()\n",
    "    \n",
    "    # All numeric cols\n",
    "    for col in [\"Age\", \"BMI\", \"Glucose\", \"Insulin\", \"HbA1c\"]:\n",
    "        q1 = df[col].quantile(0.25)\n",
    "        q3 = df[col].quantile(0.75)\n",
    "        iqr = q3 - q1\n",
    "        lower_bound = q1 - 1.5 * iqr\n",
    "        upper_bound = q3 + 1.5 * iqr\n",
    "        df_outliers_removed = df[(df[col] >= lower_bound) & (df[col] <= upper_bound)]\n",
    "\n",
    "    return df_outliers_removed"
   ]
  },
  {
   "cell_type": "markdown",
   "id": "f1fc8717-0d07-472b-a1eb-6dabe2d924ec",
   "metadata": {},
   "source": [
    "#### Question 4: Complete the 'handle_duplicates' function to handle duplicates in the dataset"
   ]
  },
  {
   "cell_type": "code",
   "execution_count": null,
   "id": "33d380d0-9a15-4c84-9342-b93adbd02340",
   "metadata": {},
   "outputs": [],
   "source": [
    "# Function to handle duplicates\n",
    "def handle_duplicates(df):\n",
    "    df_deduplicated = df.copy()\n",
    "\n",
    "    df_deduplicated = df_deduplicated.drop_duplicates(keep = 'first')\n",
    "    \n",
    "    return df_deduplicated"
   ]
  },
  {
   "cell_type": "markdown",
   "id": "6028c285-2008-4858-9dbe-7db63942541f",
   "metadata": {},
   "source": [
    "#### Question 5: Complete the 'standardize_data' function to standardizes the 'Gender' column in the dataset"
   ]
  },
  {
   "cell_type": "code",
   "execution_count": 33,
   "id": "0c818c9f-9aef-41cd-b4f8-e69b202798dc",
   "metadata": {},
   "outputs": [],
   "source": [
    "# Function to address inconsistency and standardize data\n",
    "def standardize_data(df):\n",
    "    df_standardized = df.copy()\n",
    "\n",
    "    df_standardized['Gender'] = df_standardized['Gender'].str.lower().str.strip().capitalize()\n",
    "\n",
    "    return df_standardized"
   ]
  },
  {
   "cell_type": "markdown",
   "id": "b68bc679-dd7e-4d13-9c67-a22ec2555abc",
   "metadata": {},
   "source": [
    "#### Question 6: Complete the 'univariate_analysis' to calculate basic summary statistics and create a histogram to visualize the 'Age' distribution."
   ]
  },
  {
   "cell_type": "code",
   "execution_count": null,
   "id": "d2599cea-13c4-4a3a-b4c3-58d5c04ead6d",
   "metadata": {},
   "outputs": [],
   "source": [
    "import matplotlib.pyplot as plt\n",
    "\n",
    "# Function to do univariate analysis\n",
    "def univariate_analysis(df):\n",
    "\n",
    "    # Calculate summary statistics\n",
    "    age_summary = \n",
    "    print(\"Summary Statistics for Age:\\n\", age_summary)\n",
    "    \n",
    "    # Create a histogram\n",
    "    plt.figure(figsize=(8, 6))\n",
    "    plt.hist()\n",
    "    plt.title('Age Distribution')\n",
    "    plt.xlabel('Age')\n",
    "    plt.ylabel('Frequency')\n",
    "    plt.show()\n"
   ]
  },
  {
   "cell_type": "markdown",
   "id": "fd293383-04b7-4158-b001-a30d820bcdea",
   "metadata": {},
   "source": [
    "#### Question 7: Complete the 'bivariate_analysis' to perform a bivariate analysis to explore the relationship between 'BMI' and 'Age'. Create a scatter plot to visualize how these two variables are related."
   ]
  },
  {
   "cell_type": "code",
   "execution_count": null,
   "id": "77ef4303-0f67-421f-a2bc-fcb16b08d41c",
   "metadata": {},
   "outputs": [],
   "source": [
    "import matplotlib.pyplot as plt\n",
    "import seaborn as sns\n",
    "\n",
    "# Function to do bivariate analysis\n",
    "def bivariate_analysis(df):\n",
    "    # Create a scatter plot\n",
    "    plt.figure(figsize=(8, 6))\n",
    "    sns.scatterplot()\n",
    "    plt.title('Scatter Plot: BMI vs Age')\n",
    "    plt.xlabel('BMI')\n",
    "    plt.ylabel('Age')\n",
    "    plt.show()\n"
   ]
  },
  {
   "cell_type": "markdown",
   "id": "46f21869-27bd-4b11-93bd-551d43b36492",
   "metadata": {},
   "source": [
    "#### Main Program"
   ]
  },
  {
   "cell_type": "code",
   "execution_count": null,
   "id": "3c71d761-9b2f-4421-8eee-af2d584d14a8",
   "metadata": {},
   "outputs": [],
   "source": [
    "if __name__ == \"__main__\":\n",
    "    df_filled = handle_missing_values(df)\n",
    "    df_outliers_removed = handle_outliers(df_filled)\n",
    "    df_deduplicated = handle_duplicates(df_outliers_removed)\n",
    "    \n",
    "    # df_reshaped = reshape_data(df_deduplicated)\n",
    "    df_standardized = standardize_data(df_deduplicated)\n",
    "\n",
    "    # Call EDA functions\n",
    "    univariate_analysis(df_standardized)\n",
    "    bivariate_analysis(df_standardized)\n",
    "\n",
    "    # Save the cleaned and processed DataFrame to a CSV file\n",
    "    output_folder_path = '/Users/mrahman-admin/Desktop/Data_Analytics_Visualization/DAV_EDA_Soln'\n",
    "    output_file = os.path.join(output_folder_path, 'Data_Cleaning_and_Preparation_Cleaned_dataset.csv')\n",
    "    \n",
    "    df_standardized.to_csv(output_file, index=False)\n",
    "\n",
    "    print(\"Cleaned and processed dataset saved as 'cleaned_dataset.csv'\")"
   ]
  }
 ],
 "metadata": {
  "kernelspec": {
   "display_name": "Python 3 (ipykernel)",
   "language": "python",
   "name": "python3"
  },
  "language_info": {
   "codemirror_mode": {
    "name": "ipython",
    "version": 3
   },
   "file_extension": ".py",
   "mimetype": "text/x-python",
   "name": "python",
   "nbconvert_exporter": "python",
   "pygments_lexer": "ipython3",
   "version": "3.13.1"
  }
 },
 "nbformat": 4,
 "nbformat_minor": 5
}
