{
 "cells": [
  {
   "cell_type": "markdown",
   "id": "54e3455a-2d45-4a7e-9eda-0d017566905d",
   "metadata": {
    "tags": []
   },
   "source": [
    "# Data Analytics Module I - Chapters 1 and 2"
   ]
  },
  {
   "cell_type": "markdown",
   "id": "cf7c6951-29b9-4e90-8992-ebbb88fe691e",
   "metadata": {},
   "source": [
    "## Load Pandas"
   ]
  },
  {
   "cell_type": "markdown",
   "id": "411c71e5-1884-4f94-a64a-cb80ba6ef433",
   "metadata": {},
   "source": [
    "Python doesn’t load all of the libraries available to it by default. We have to add an import statement to our code in order to use library functions.\n"
   ]
  },
  {
   "cell_type": "code",
   "execution_count": 1,
   "id": "6dd779c3-114e-4c86-9cb0-22bc4bdc8f50",
   "metadata": {
    "tags": []
   },
   "outputs": [],
   "source": [
    "#Import the pandas library as 'pd'\n",
    "\n",
    "import pandas as pd"
   ]
  },
  {
   "cell_type": "markdown",
   "id": "4bb42157-91d2-4a2d-9a71-62924f3c17dc",
   "metadata": {},
   "source": [
    "When we invoke a function from a library we use the following syntax: **LibraryName.FunctionName**, in this case we can call it **pandas.FunctionName**\n",
    "\n",
    "By giving *pandas* a *nickname* such as **pd**, it makes our lives easier now that we can call the function **pd.FunctionName** instead.\n",
    "This smart trick allows us to avoid typing out the full “pandas” keyword every time we use a function from the Pandas library.\n"
   ]
  },
  {
   "cell_type": "markdown",
   "id": "3b68aca4-f5a3-48e9-a843-6a089e4fe576",
   "metadata": {},
   "source": [
    "## Read CSV file using Pandas"
   ]
  },
  {
   "cell_type": "markdown",
   "id": "cf563898-7741-41f9-8f5f-a21fbf1a0f04",
   "metadata": {},
   "source": [
    "Pandas  can be used to import data stored in a Comma-Separated Values (CSV) file format. CSV is a common and simple way of structuring tabular data, where each line corresponds to a row and the values within a line are separated by commas.\n"
   ]
  },
  {
   "cell_type": "code",
   "execution_count": 2,
   "id": "e0079476-e72d-46b4-b553-ec5c1cdf2c66",
   "metadata": {
    "tags": []
   },
   "outputs": [
    {
     "data": {
      "text/html": [
       "<div>\n",
       "<style scoped>\n",
       "    .dataframe tbody tr th:only-of-type {\n",
       "        vertical-align: middle;\n",
       "    }\n",
       "\n",
       "    .dataframe tbody tr th {\n",
       "        vertical-align: top;\n",
       "    }\n",
       "\n",
       "    .dataframe thead th {\n",
       "        text-align: right;\n",
       "    }\n",
       "</style>\n",
       "<table border=\"1\" class=\"dataframe\">\n",
       "  <thead>\n",
       "    <tr style=\"text-align: right;\">\n",
       "      <th></th>\n",
       "      <th>Id</th>\n",
       "      <th>Gender</th>\n",
       "      <th>Age</th>\n",
       "      <th>Income</th>\n",
       "      <th>Height</th>\n",
       "      <th>Weight</th>\n",
       "    </tr>\n",
       "  </thead>\n",
       "  <tbody>\n",
       "    <tr>\n",
       "      <th>0</th>\n",
       "      <td>1</td>\n",
       "      <td>M</td>\n",
       "      <td>64.0</td>\n",
       "      <td>24141.0</td>\n",
       "      <td>NaN</td>\n",
       "      <td>91.026092</td>\n",
       "    </tr>\n",
       "    <tr>\n",
       "      <th>1</th>\n",
       "      <td>2</td>\n",
       "      <td>F</td>\n",
       "      <td>18.0</td>\n",
       "      <td>82523.0</td>\n",
       "      <td>189.533369</td>\n",
       "      <td>72.400692</td>\n",
       "    </tr>\n",
       "    <tr>\n",
       "      <th>2</th>\n",
       "      <td>3</td>\n",
       "      <td>NaN</td>\n",
       "      <td>40.0</td>\n",
       "      <td>37928.0</td>\n",
       "      <td>153.884926</td>\n",
       "      <td>90.153410</td>\n",
       "    </tr>\n",
       "    <tr>\n",
       "      <th>3</th>\n",
       "      <td>4</td>\n",
       "      <td>F</td>\n",
       "      <td>47.0</td>\n",
       "      <td>83622.0</td>\n",
       "      <td>189.395822</td>\n",
       "      <td>63.506353</td>\n",
       "    </tr>\n",
       "    <tr>\n",
       "      <th>4</th>\n",
       "      <td>5</td>\n",
       "      <td>M</td>\n",
       "      <td>43.0</td>\n",
       "      <td>120475.0</td>\n",
       "      <td>155.234732</td>\n",
       "      <td>85.101889</td>\n",
       "    </tr>\n",
       "    <tr>\n",
       "      <th>...</th>\n",
       "      <td>...</td>\n",
       "      <td>...</td>\n",
       "      <td>...</td>\n",
       "      <td>...</td>\n",
       "      <td>...</td>\n",
       "      <td>...</td>\n",
       "    </tr>\n",
       "    <tr>\n",
       "      <th>495</th>\n",
       "      <td>496</td>\n",
       "      <td>M</td>\n",
       "      <td>52.0</td>\n",
       "      <td>143234.0</td>\n",
       "      <td>156.044812</td>\n",
       "      <td>66.805198</td>\n",
       "    </tr>\n",
       "    <tr>\n",
       "      <th>496</th>\n",
       "      <td>497</td>\n",
       "      <td>M</td>\n",
       "      <td>NaN</td>\n",
       "      <td>56023.0</td>\n",
       "      <td>159.155331</td>\n",
       "      <td>80.400186</td>\n",
       "    </tr>\n",
       "    <tr>\n",
       "      <th>497</th>\n",
       "      <td>498</td>\n",
       "      <td>NaN</td>\n",
       "      <td>44.0</td>\n",
       "      <td>45923.0</td>\n",
       "      <td>180.344630</td>\n",
       "      <td>63.905775</td>\n",
       "    </tr>\n",
       "    <tr>\n",
       "      <th>498</th>\n",
       "      <td>499</td>\n",
       "      <td>F</td>\n",
       "      <td>40.0</td>\n",
       "      <td>72164.0</td>\n",
       "      <td>151.121012</td>\n",
       "      <td>NaN</td>\n",
       "    </tr>\n",
       "    <tr>\n",
       "      <th>499</th>\n",
       "      <td>500</td>\n",
       "      <td>NaN</td>\n",
       "      <td>42.0</td>\n",
       "      <td>NaN</td>\n",
       "      <td>170.127901</td>\n",
       "      <td>51.950306</td>\n",
       "    </tr>\n",
       "  </tbody>\n",
       "</table>\n",
       "<p>500 rows × 6 columns</p>\n",
       "</div>"
      ],
      "text/plain": [
       "      Id Gender   Age    Income      Height     Weight\n",
       "0      1      M  64.0   24141.0         NaN  91.026092\n",
       "1      2      F  18.0   82523.0  189.533369  72.400692\n",
       "2      3    NaN  40.0   37928.0  153.884926  90.153410\n",
       "3      4      F  47.0   83622.0  189.395822  63.506353\n",
       "4      5      M  43.0  120475.0  155.234732  85.101889\n",
       "..   ...    ...   ...       ...         ...        ...\n",
       "495  496      M  52.0  143234.0  156.044812  66.805198\n",
       "496  497      M   NaN   56023.0  159.155331  80.400186\n",
       "497  498    NaN  44.0   45923.0  180.344630  63.905775\n",
       "498  499      F  40.0   72164.0  151.121012        NaN\n",
       "499  500    NaN  42.0       NaN  170.127901  51.950306\n",
       "\n",
       "[500 rows x 6 columns]"
      ]
     },
     "execution_count": 2,
     "metadata": {},
     "output_type": "execute_result"
    }
   ],
   "source": [
    "# Read csv file using pandas\n",
    "\n",
    "#Step 1: Specify File Path\n",
    "file_path = 'data/sample_dataset_pandas.csv'\n",
    "\n",
    "#Step 2: Read CSV file\n",
    "pd.read_csv(file_path)"
   ]
  },
  {
   "cell_type": "markdown",
   "id": "1a203ba8-1014-4ef7-9e07-adc6a5968cb8",
   "metadata": {},
   "source": [
    "This code returns an overview of how the dataset looks like, returning the first and last five rows. "
   ]
  },
  {
   "cell_type": "markdown",
   "id": "26513d17-a3f5-4c68-a938-f46228496552",
   "metadata": {},
   "source": [
    "The **read_csv** function has successfully processed our file but has not yet stored it into memory for further processing and analysis, so to do this we will add a new variable called “df”, short for dataframe:"
   ]
  },
  {
   "cell_type": "code",
   "execution_count": 3,
   "id": "8cb25262-4708-48ee-a0c2-28f1d4232f88",
   "metadata": {
    "tags": []
   },
   "outputs": [
    {
     "data": {
      "text/html": [
       "<div>\n",
       "<style scoped>\n",
       "    .dataframe tbody tr th:only-of-type {\n",
       "        vertical-align: middle;\n",
       "    }\n",
       "\n",
       "    .dataframe tbody tr th {\n",
       "        vertical-align: top;\n",
       "    }\n",
       "\n",
       "    .dataframe thead th {\n",
       "        text-align: right;\n",
       "    }\n",
       "</style>\n",
       "<table border=\"1\" class=\"dataframe\">\n",
       "  <thead>\n",
       "    <tr style=\"text-align: right;\">\n",
       "      <th></th>\n",
       "      <th>Id</th>\n",
       "      <th>Gender</th>\n",
       "      <th>Age</th>\n",
       "      <th>Income</th>\n",
       "      <th>Height</th>\n",
       "      <th>Weight</th>\n",
       "    </tr>\n",
       "  </thead>\n",
       "  <tbody>\n",
       "    <tr>\n",
       "      <th>0</th>\n",
       "      <td>1</td>\n",
       "      <td>M</td>\n",
       "      <td>64.0</td>\n",
       "      <td>24141.0</td>\n",
       "      <td>NaN</td>\n",
       "      <td>91.026092</td>\n",
       "    </tr>\n",
       "    <tr>\n",
       "      <th>1</th>\n",
       "      <td>2</td>\n",
       "      <td>F</td>\n",
       "      <td>18.0</td>\n",
       "      <td>82523.0</td>\n",
       "      <td>189.533369</td>\n",
       "      <td>72.400692</td>\n",
       "    </tr>\n",
       "    <tr>\n",
       "      <th>2</th>\n",
       "      <td>3</td>\n",
       "      <td>NaN</td>\n",
       "      <td>40.0</td>\n",
       "      <td>37928.0</td>\n",
       "      <td>153.884926</td>\n",
       "      <td>90.153410</td>\n",
       "    </tr>\n",
       "    <tr>\n",
       "      <th>3</th>\n",
       "      <td>4</td>\n",
       "      <td>F</td>\n",
       "      <td>47.0</td>\n",
       "      <td>83622.0</td>\n",
       "      <td>189.395822</td>\n",
       "      <td>63.506353</td>\n",
       "    </tr>\n",
       "    <tr>\n",
       "      <th>4</th>\n",
       "      <td>5</td>\n",
       "      <td>M</td>\n",
       "      <td>43.0</td>\n",
       "      <td>120475.0</td>\n",
       "      <td>155.234732</td>\n",
       "      <td>85.101889</td>\n",
       "    </tr>\n",
       "    <tr>\n",
       "      <th>...</th>\n",
       "      <td>...</td>\n",
       "      <td>...</td>\n",
       "      <td>...</td>\n",
       "      <td>...</td>\n",
       "      <td>...</td>\n",
       "      <td>...</td>\n",
       "    </tr>\n",
       "    <tr>\n",
       "      <th>495</th>\n",
       "      <td>496</td>\n",
       "      <td>M</td>\n",
       "      <td>52.0</td>\n",
       "      <td>143234.0</td>\n",
       "      <td>156.044812</td>\n",
       "      <td>66.805198</td>\n",
       "    </tr>\n",
       "    <tr>\n",
       "      <th>496</th>\n",
       "      <td>497</td>\n",
       "      <td>M</td>\n",
       "      <td>NaN</td>\n",
       "      <td>56023.0</td>\n",
       "      <td>159.155331</td>\n",
       "      <td>80.400186</td>\n",
       "    </tr>\n",
       "    <tr>\n",
       "      <th>497</th>\n",
       "      <td>498</td>\n",
       "      <td>NaN</td>\n",
       "      <td>44.0</td>\n",
       "      <td>45923.0</td>\n",
       "      <td>180.344630</td>\n",
       "      <td>63.905775</td>\n",
       "    </tr>\n",
       "    <tr>\n",
       "      <th>498</th>\n",
       "      <td>499</td>\n",
       "      <td>F</td>\n",
       "      <td>40.0</td>\n",
       "      <td>72164.0</td>\n",
       "      <td>151.121012</td>\n",
       "      <td>NaN</td>\n",
       "    </tr>\n",
       "    <tr>\n",
       "      <th>499</th>\n",
       "      <td>500</td>\n",
       "      <td>NaN</td>\n",
       "      <td>42.0</td>\n",
       "      <td>NaN</td>\n",
       "      <td>170.127901</td>\n",
       "      <td>51.950306</td>\n",
       "    </tr>\n",
       "  </tbody>\n",
       "</table>\n",
       "<p>500 rows × 6 columns</p>\n",
       "</div>"
      ],
      "text/plain": [
       "      Id Gender   Age    Income      Height     Weight\n",
       "0      1      M  64.0   24141.0         NaN  91.026092\n",
       "1      2      F  18.0   82523.0  189.533369  72.400692\n",
       "2      3    NaN  40.0   37928.0  153.884926  90.153410\n",
       "3      4      F  47.0   83622.0  189.395822  63.506353\n",
       "4      5      M  43.0  120475.0  155.234732  85.101889\n",
       "..   ...    ...   ...       ...         ...        ...\n",
       "495  496      M  52.0  143234.0  156.044812  66.805198\n",
       "496  497      M   NaN   56023.0  159.155331  80.400186\n",
       "497  498    NaN  44.0   45923.0  180.344630  63.905775\n",
       "498  499      F  40.0   72164.0  151.121012        NaN\n",
       "499  500    NaN  42.0       NaN  170.127901  51.950306\n",
       "\n",
       "[500 rows x 6 columns]"
      ]
     },
     "execution_count": 3,
     "metadata": {},
     "output_type": "execute_result"
    }
   ],
   "source": [
    "# Save csv file to memory using pandas \n",
    "df = pd.read_csv(file_path)\n",
    "df"
   ]
  },
  {
   "cell_type": "markdown",
   "id": "c320940e-c5f2-4dba-806b-54b58d0c98c3",
   "metadata": {},
   "source": [
    "If the dataset contains many samples then it is a good idea to use the **head()** function of Pandas to see the first few samples of the dataset. The function head() by itself returns the first 5 rows, but we can also specify how many rows we want to display by adding a number as a parameter in the function: **head(*10*)**"
   ]
  },
  {
   "cell_type": "code",
   "execution_count": 4,
   "id": "028b9c35-dfd0-4145-a787-783d9b8eb528",
   "metadata": {
    "tags": []
   },
   "outputs": [
    {
     "data": {
      "text/html": [
       "<div>\n",
       "<style scoped>\n",
       "    .dataframe tbody tr th:only-of-type {\n",
       "        vertical-align: middle;\n",
       "    }\n",
       "\n",
       "    .dataframe tbody tr th {\n",
       "        vertical-align: top;\n",
       "    }\n",
       "\n",
       "    .dataframe thead th {\n",
       "        text-align: right;\n",
       "    }\n",
       "</style>\n",
       "<table border=\"1\" class=\"dataframe\">\n",
       "  <thead>\n",
       "    <tr style=\"text-align: right;\">\n",
       "      <th></th>\n",
       "      <th>Id</th>\n",
       "      <th>Gender</th>\n",
       "      <th>Age</th>\n",
       "      <th>Income</th>\n",
       "      <th>Height</th>\n",
       "      <th>Weight</th>\n",
       "    </tr>\n",
       "  </thead>\n",
       "  <tbody>\n",
       "    <tr>\n",
       "      <th>0</th>\n",
       "      <td>1</td>\n",
       "      <td>M</td>\n",
       "      <td>64.0</td>\n",
       "      <td>24141.0</td>\n",
       "      <td>NaN</td>\n",
       "      <td>91.026092</td>\n",
       "    </tr>\n",
       "    <tr>\n",
       "      <th>1</th>\n",
       "      <td>2</td>\n",
       "      <td>F</td>\n",
       "      <td>18.0</td>\n",
       "      <td>82523.0</td>\n",
       "      <td>189.533369</td>\n",
       "      <td>72.400692</td>\n",
       "    </tr>\n",
       "    <tr>\n",
       "      <th>2</th>\n",
       "      <td>3</td>\n",
       "      <td>NaN</td>\n",
       "      <td>40.0</td>\n",
       "      <td>37928.0</td>\n",
       "      <td>153.884926</td>\n",
       "      <td>90.153410</td>\n",
       "    </tr>\n",
       "    <tr>\n",
       "      <th>3</th>\n",
       "      <td>4</td>\n",
       "      <td>F</td>\n",
       "      <td>47.0</td>\n",
       "      <td>83622.0</td>\n",
       "      <td>189.395822</td>\n",
       "      <td>63.506353</td>\n",
       "    </tr>\n",
       "    <tr>\n",
       "      <th>4</th>\n",
       "      <td>5</td>\n",
       "      <td>M</td>\n",
       "      <td>43.0</td>\n",
       "      <td>120475.0</td>\n",
       "      <td>155.234732</td>\n",
       "      <td>85.101889</td>\n",
       "    </tr>\n",
       "    <tr>\n",
       "      <th>...</th>\n",
       "      <td>...</td>\n",
       "      <td>...</td>\n",
       "      <td>...</td>\n",
       "      <td>...</td>\n",
       "      <td>...</td>\n",
       "      <td>...</td>\n",
       "    </tr>\n",
       "    <tr>\n",
       "      <th>95</th>\n",
       "      <td>96</td>\n",
       "      <td>NaN</td>\n",
       "      <td>55.0</td>\n",
       "      <td>94473.0</td>\n",
       "      <td>176.486080</td>\n",
       "      <td>NaN</td>\n",
       "    </tr>\n",
       "    <tr>\n",
       "      <th>96</th>\n",
       "      <td>97</td>\n",
       "      <td>NaN</td>\n",
       "      <td>59.0</td>\n",
       "      <td>68462.0</td>\n",
       "      <td>158.627039</td>\n",
       "      <td>88.250594</td>\n",
       "    </tr>\n",
       "    <tr>\n",
       "      <th>97</th>\n",
       "      <td>98</td>\n",
       "      <td>M</td>\n",
       "      <td>NaN</td>\n",
       "      <td>120095.0</td>\n",
       "      <td>NaN</td>\n",
       "      <td>89.292180</td>\n",
       "    </tr>\n",
       "    <tr>\n",
       "      <th>98</th>\n",
       "      <td>99</td>\n",
       "      <td>NaN</td>\n",
       "      <td>58.0</td>\n",
       "      <td>136820.0</td>\n",
       "      <td>NaN</td>\n",
       "      <td>76.403494</td>\n",
       "    </tr>\n",
       "    <tr>\n",
       "      <th>99</th>\n",
       "      <td>100</td>\n",
       "      <td>NaN</td>\n",
       "      <td>58.0</td>\n",
       "      <td>28198.0</td>\n",
       "      <td>NaN</td>\n",
       "      <td>74.369144</td>\n",
       "    </tr>\n",
       "  </tbody>\n",
       "</table>\n",
       "<p>100 rows × 6 columns</p>\n",
       "</div>"
      ],
      "text/plain": [
       "     Id Gender   Age    Income      Height     Weight\n",
       "0     1      M  64.0   24141.0         NaN  91.026092\n",
       "1     2      F  18.0   82523.0  189.533369  72.400692\n",
       "2     3    NaN  40.0   37928.0  153.884926  90.153410\n",
       "3     4      F  47.0   83622.0  189.395822  63.506353\n",
       "4     5      M  43.0  120475.0  155.234732  85.101889\n",
       "..  ...    ...   ...       ...         ...        ...\n",
       "95   96    NaN  55.0   94473.0  176.486080        NaN\n",
       "96   97    NaN  59.0   68462.0  158.627039  88.250594\n",
       "97   98      M   NaN  120095.0         NaN  89.292180\n",
       "98   99    NaN  58.0  136820.0         NaN  76.403494\n",
       "99  100    NaN  58.0   28198.0         NaN  74.369144\n",
       "\n",
       "[100 rows x 6 columns]"
      ]
     },
     "execution_count": 4,
     "metadata": {},
     "output_type": "execute_result"
    }
   ],
   "source": [
    "#Print the first rows of our dataframe\n",
    "df.head(100)"
   ]
  },
  {
   "cell_type": "markdown",
   "id": "96bc9491-99c6-4ad2-b85e-9f281743f972",
   "metadata": {},
   "source": [
    "We can also check what kind of things **df** contains using **dtypes**. What kind of data types our dataframe contains:"
   ]
  },
  {
   "cell_type": "code",
   "execution_count": 5,
   "id": "8c7ace01-0b44-4b34-a99f-a0a1071e4e50",
   "metadata": {
    "tags": []
   },
   "outputs": [
    {
     "data": {
      "text/plain": [
       "Id          int64\n",
       "Gender     object\n",
       "Age       float64\n",
       "Income    float64\n",
       "Height    float64\n",
       "Weight    float64\n",
       "dtype: object"
      ]
     },
     "execution_count": 5,
     "metadata": {},
     "output_type": "execute_result"
    }
   ],
   "source": [
    "#Print the data types in the dataframe\n",
    "df.dtypes"
   ]
  },
  {
   "cell_type": "markdown",
   "id": "f45602d2-730e-4533-8735-5f118826e1ca",
   "metadata": {},
   "source": [
    "## Explore the DataFrame Object"
   ]
  },
  {
   "cell_type": "markdown",
   "id": "6fc44e37-7fb3-46d1-8609-71b9f1453121",
   "metadata": {},
   "source": [
    "Let’s explore the DataFrame Object further. We will be using both methods and attributes.\n",
    "\n",
    "**Methods** are functions that we can apply to the DataFrame to perform specific operations. They usually require parentheses. If we wish to see the information of a dataframe, we can use the **info()** function:"
   ]
  },
  {
   "cell_type": "code",
   "execution_count": 6,
   "id": "f6df9e95-60e1-4aa8-95e0-890ec065670a",
   "metadata": {
    "tags": []
   },
   "outputs": [
    {
     "name": "stdout",
     "output_type": "stream",
     "text": [
      "<class 'pandas.core.frame.DataFrame'>\n",
      "RangeIndex: 500 entries, 0 to 499\n",
      "Data columns (total 6 columns):\n",
      " #   Column  Non-Null Count  Dtype  \n",
      "---  ------  --------------  -----  \n",
      " 0   Id      500 non-null    int64  \n",
      " 1   Gender  335 non-null    object \n",
      " 2   Age     452 non-null    float64\n",
      " 3   Income  396 non-null    float64\n",
      " 4   Height  453 non-null    float64\n",
      " 5   Weight  458 non-null    float64\n",
      "dtypes: float64(4), int64(1), object(1)\n",
      "memory usage: 23.6+ KB\n",
      "None\n"
     ]
    }
   ],
   "source": [
    "#Print dataframe information\n",
    "info = df.info()\n",
    "print(info)"
   ]
  },
  {
   "cell_type": "markdown",
   "id": "dbab06a0-f7c8-4025-94a8-fde14c58c269",
   "metadata": {},
   "source": [
    "This summary provides valuable information about the DataFrame’s structure, data types, and the presence of missing values. It’s a quick overview that helps you understand the content and characteristics of the DataFrame."
   ]
  },
  {
   "cell_type": "markdown",
   "id": "d7d1ce36-3bc1-4712-a7c7-859359434e8e",
   "metadata": {},
   "source": [
    "We can use the **unique()** function to identify the distinct values within a column or an array."
   ]
  },
  {
   "cell_type": "code",
   "execution_count": 7,
   "id": "f520b365-2c7d-48b3-ace7-07edc890967d",
   "metadata": {
    "tags": []
   },
   "outputs": [
    {
     "data": {
      "text/plain": [
       "array(['M', 'F', nan], dtype=object)"
      ]
     },
     "execution_count": 7,
     "metadata": {},
     "output_type": "execute_result"
    }
   ],
   "source": [
    "#Identify distinct values within a column\n",
    "pd.unique(df['Gender'])"
   ]
  },
  {
   "cell_type": "markdown",
   "id": "411a4e17-7772-49cc-bc65-7b6243760111",
   "metadata": {},
   "source": [
    "It returns the unique values in the **Gender** column, such as F, M, and nan."
   ]
  },
  {
   "cell_type": "markdown",
   "id": "6808fbf6-b1cd-450c-ab12-3e5333b43853",
   "metadata": {},
   "source": [
    "**Attributes** are properties of the DataFrame that provide information about its characteristics. They don’t require parentheses. If we wish to see the shape, number of rows and columns, of the dataframe we can use the **shape** attribute:"
   ]
  },
  {
   "cell_type": "code",
   "execution_count": 8,
   "id": "32001e10-bacb-40a6-a002-cfcf49956864",
   "metadata": {
    "tags": []
   },
   "outputs": [
    {
     "name": "stdout",
     "output_type": "stream",
     "text": [
      "(500, 6)\n"
     ]
    }
   ],
   "source": [
    "# Get the shape of the DataFrame (attribute)\n",
    "shape = df.shape\n",
    "print(shape)"
   ]
  },
  {
   "cell_type": "markdown",
   "id": "9f03b857-bfdd-42c2-bfaa-63c8c5f8c5b4",
   "metadata": {},
   "source": [
    "### Exercise 1\n",
    "What would be the output of the following commands?\n",
    "-  df.tail()\n",
    "-  df.columns\n"
   ]
  },
  {
   "cell_type": "code",
   "execution_count": 9,
   "id": "ab82cadd-8913-4303-b802-ae54d9f7f242",
   "metadata": {},
   "outputs": [
    {
     "data": {
      "text/html": [
       "<div>\n",
       "<style scoped>\n",
       "    .dataframe tbody tr th:only-of-type {\n",
       "        vertical-align: middle;\n",
       "    }\n",
       "\n",
       "    .dataframe tbody tr th {\n",
       "        vertical-align: top;\n",
       "    }\n",
       "\n",
       "    .dataframe thead th {\n",
       "        text-align: right;\n",
       "    }\n",
       "</style>\n",
       "<table border=\"1\" class=\"dataframe\">\n",
       "  <thead>\n",
       "    <tr style=\"text-align: right;\">\n",
       "      <th></th>\n",
       "      <th>Id</th>\n",
       "      <th>Gender</th>\n",
       "      <th>Age</th>\n",
       "      <th>Income</th>\n",
       "      <th>Height</th>\n",
       "      <th>Weight</th>\n",
       "    </tr>\n",
       "  </thead>\n",
       "  <tbody>\n",
       "    <tr>\n",
       "      <th>490</th>\n",
       "      <td>491</td>\n",
       "      <td>F</td>\n",
       "      <td>60.0</td>\n",
       "      <td>117648.0</td>\n",
       "      <td>181.056243</td>\n",
       "      <td>NaN</td>\n",
       "    </tr>\n",
       "    <tr>\n",
       "      <th>491</th>\n",
       "      <td>492</td>\n",
       "      <td>NaN</td>\n",
       "      <td>49.0</td>\n",
       "      <td>50634.0</td>\n",
       "      <td>155.796445</td>\n",
       "      <td>95.706997</td>\n",
       "    </tr>\n",
       "    <tr>\n",
       "      <th>492</th>\n",
       "      <td>493</td>\n",
       "      <td>M</td>\n",
       "      <td>58.0</td>\n",
       "      <td>21617.0</td>\n",
       "      <td>178.247016</td>\n",
       "      <td>96.618002</td>\n",
       "    </tr>\n",
       "    <tr>\n",
       "      <th>493</th>\n",
       "      <td>494</td>\n",
       "      <td>F</td>\n",
       "      <td>34.0</td>\n",
       "      <td>28917.0</td>\n",
       "      <td>150.552383</td>\n",
       "      <td>95.738284</td>\n",
       "    </tr>\n",
       "    <tr>\n",
       "      <th>494</th>\n",
       "      <td>495</td>\n",
       "      <td>NaN</td>\n",
       "      <td>55.0</td>\n",
       "      <td>60864.0</td>\n",
       "      <td>182.079665</td>\n",
       "      <td>71.311427</td>\n",
       "    </tr>\n",
       "    <tr>\n",
       "      <th>495</th>\n",
       "      <td>496</td>\n",
       "      <td>M</td>\n",
       "      <td>52.0</td>\n",
       "      <td>143234.0</td>\n",
       "      <td>156.044812</td>\n",
       "      <td>66.805198</td>\n",
       "    </tr>\n",
       "    <tr>\n",
       "      <th>496</th>\n",
       "      <td>497</td>\n",
       "      <td>M</td>\n",
       "      <td>NaN</td>\n",
       "      <td>56023.0</td>\n",
       "      <td>159.155331</td>\n",
       "      <td>80.400186</td>\n",
       "    </tr>\n",
       "    <tr>\n",
       "      <th>497</th>\n",
       "      <td>498</td>\n",
       "      <td>NaN</td>\n",
       "      <td>44.0</td>\n",
       "      <td>45923.0</td>\n",
       "      <td>180.344630</td>\n",
       "      <td>63.905775</td>\n",
       "    </tr>\n",
       "    <tr>\n",
       "      <th>498</th>\n",
       "      <td>499</td>\n",
       "      <td>F</td>\n",
       "      <td>40.0</td>\n",
       "      <td>72164.0</td>\n",
       "      <td>151.121012</td>\n",
       "      <td>NaN</td>\n",
       "    </tr>\n",
       "    <tr>\n",
       "      <th>499</th>\n",
       "      <td>500</td>\n",
       "      <td>NaN</td>\n",
       "      <td>42.0</td>\n",
       "      <td>NaN</td>\n",
       "      <td>170.127901</td>\n",
       "      <td>51.950306</td>\n",
       "    </tr>\n",
       "  </tbody>\n",
       "</table>\n",
       "</div>"
      ],
      "text/plain": [
       "      Id Gender   Age    Income      Height     Weight\n",
       "490  491      F  60.0  117648.0  181.056243        NaN\n",
       "491  492    NaN  49.0   50634.0  155.796445  95.706997\n",
       "492  493      M  58.0   21617.0  178.247016  96.618002\n",
       "493  494      F  34.0   28917.0  150.552383  95.738284\n",
       "494  495    NaN  55.0   60864.0  182.079665  71.311427\n",
       "495  496      M  52.0  143234.0  156.044812  66.805198\n",
       "496  497      M   NaN   56023.0  159.155331  80.400186\n",
       "497  498    NaN  44.0   45923.0  180.344630  63.905775\n",
       "498  499      F  40.0   72164.0  151.121012        NaN\n",
       "499  500    NaN  42.0       NaN  170.127901  51.950306"
      ]
     },
     "execution_count": 9,
     "metadata": {},
     "output_type": "execute_result"
    }
   ],
   "source": [
    "df.tail(10)"
   ]
  },
  {
   "cell_type": "code",
   "execution_count": 10,
   "id": "622cc24c-7681-43c0-86e8-5d1589fd5e94",
   "metadata": {
    "tags": []
   },
   "outputs": [
    {
     "data": {
      "text/plain": [
       "Index(['Id', 'Gender', 'Age', 'Income', 'Height', 'Weight'], dtype='object')"
      ]
     },
     "execution_count": 10,
     "metadata": {},
     "output_type": "execute_result"
    }
   ],
   "source": [
    "df.columns"
   ]
  },
  {
   "cell_type": "markdown",
   "id": "ccd9c93c-0289-4921-bebe-eeb749ddc81a",
   "metadata": {},
   "source": [
    "df.tail() is a method and returns the last 5 rows of our dataframe. Df.columns is an attribute that provides access to the column labes and dtype."
   ]
  },
  {
   "cell_type": "markdown",
   "id": "ade12d15-70f5-44a0-a512-62e50cc6e2cf",
   "metadata": {},
   "source": [
    "## Selecting Data Using Labels"
   ]
  },
  {
   "cell_type": "markdown",
   "id": "7e72d1d0-0779-4573-b1d2-24be61581828",
   "metadata": {},
   "source": [
    "To select a single column, use the DataFrame’s name followed by the column label in square brackets **['ColumnLabel']**."
   ]
  },
  {
   "cell_type": "code",
   "execution_count": 11,
   "id": "e4951945-e431-49b3-a928-a0cda4886f94",
   "metadata": {
    "tags": []
   },
   "outputs": [
    {
     "data": {
      "text/plain": [
       "0      64.0\n",
       "1      18.0\n",
       "2      40.0\n",
       "3      47.0\n",
       "4      43.0\n",
       "       ... \n",
       "495    52.0\n",
       "496     NaN\n",
       "497    44.0\n",
       "498    40.0\n",
       "499    42.0\n",
       "Name: Age, Length: 500, dtype: float64"
      ]
     },
     "execution_count": 11,
     "metadata": {},
     "output_type": "execute_result"
    }
   ],
   "source": [
    "# Select the \"Age\" column\n",
    "df['Age']"
   ]
  },
  {
   "cell_type": "markdown",
   "id": "cb78515b-fcd0-41a3-9a9e-636f4c25478b",
   "metadata": {},
   "source": [
    "We can also use the column name as an *attribute* to access data from that column using **df.Age**\n"
   ]
  },
  {
   "cell_type": "code",
   "execution_count": 12,
   "id": "d4be5570-524d-4caf-abdd-69acdd9a9c04",
   "metadata": {
    "tags": []
   },
   "outputs": [
    {
     "data": {
      "text/plain": [
       "0      64.0\n",
       "1      18.0\n",
       "2      40.0\n",
       "3      47.0\n",
       "4      43.0\n",
       "       ... \n",
       "495    52.0\n",
       "496     NaN\n",
       "497    44.0\n",
       "498    40.0\n",
       "499    42.0\n",
       "Name: Age, Length: 500, dtype: float64"
      ]
     },
     "execution_count": 12,
     "metadata": {},
     "output_type": "execute_result"
    }
   ],
   "source": [
    "# Select the 'Age' column as an attribute\n",
    "df.Age"
   ]
  },
  {
   "cell_type": "markdown",
   "id": "6d646e34-3719-4ab3-8627-8075abb5e7c1",
   "metadata": {},
   "source": [
    "To select multiple columns, enclose the column labels in double square brackets **[['Column1', 'Column2']]**."
   ]
  },
  {
   "cell_type": "code",
   "execution_count": 13,
   "id": "af710cee-6161-402e-8f6d-91254e446667",
   "metadata": {
    "tags": []
   },
   "outputs": [
    {
     "data": {
      "text/html": [
       "<div>\n",
       "<style scoped>\n",
       "    .dataframe tbody tr th:only-of-type {\n",
       "        vertical-align: middle;\n",
       "    }\n",
       "\n",
       "    .dataframe tbody tr th {\n",
       "        vertical-align: top;\n",
       "    }\n",
       "\n",
       "    .dataframe thead th {\n",
       "        text-align: right;\n",
       "    }\n",
       "</style>\n",
       "<table border=\"1\" class=\"dataframe\">\n",
       "  <thead>\n",
       "    <tr style=\"text-align: right;\">\n",
       "      <th></th>\n",
       "      <th>Age</th>\n",
       "      <th>Income</th>\n",
       "    </tr>\n",
       "  </thead>\n",
       "  <tbody>\n",
       "    <tr>\n",
       "      <th>0</th>\n",
       "      <td>64.0</td>\n",
       "      <td>24141.0</td>\n",
       "    </tr>\n",
       "    <tr>\n",
       "      <th>1</th>\n",
       "      <td>18.0</td>\n",
       "      <td>82523.0</td>\n",
       "    </tr>\n",
       "    <tr>\n",
       "      <th>2</th>\n",
       "      <td>40.0</td>\n",
       "      <td>37928.0</td>\n",
       "    </tr>\n",
       "    <tr>\n",
       "      <th>3</th>\n",
       "      <td>47.0</td>\n",
       "      <td>83622.0</td>\n",
       "    </tr>\n",
       "    <tr>\n",
       "      <th>4</th>\n",
       "      <td>43.0</td>\n",
       "      <td>120475.0</td>\n",
       "    </tr>\n",
       "    <tr>\n",
       "      <th>...</th>\n",
       "      <td>...</td>\n",
       "      <td>...</td>\n",
       "    </tr>\n",
       "    <tr>\n",
       "      <th>495</th>\n",
       "      <td>52.0</td>\n",
       "      <td>143234.0</td>\n",
       "    </tr>\n",
       "    <tr>\n",
       "      <th>496</th>\n",
       "      <td>NaN</td>\n",
       "      <td>56023.0</td>\n",
       "    </tr>\n",
       "    <tr>\n",
       "      <th>497</th>\n",
       "      <td>44.0</td>\n",
       "      <td>45923.0</td>\n",
       "    </tr>\n",
       "    <tr>\n",
       "      <th>498</th>\n",
       "      <td>40.0</td>\n",
       "      <td>72164.0</td>\n",
       "    </tr>\n",
       "    <tr>\n",
       "      <th>499</th>\n",
       "      <td>42.0</td>\n",
       "      <td>NaN</td>\n",
       "    </tr>\n",
       "  </tbody>\n",
       "</table>\n",
       "<p>500 rows × 2 columns</p>\n",
       "</div>"
      ],
      "text/plain": [
       "      Age    Income\n",
       "0    64.0   24141.0\n",
       "1    18.0   82523.0\n",
       "2    40.0   37928.0\n",
       "3    47.0   83622.0\n",
       "4    43.0  120475.0\n",
       "..    ...       ...\n",
       "495  52.0  143234.0\n",
       "496   NaN   56023.0\n",
       "497  44.0   45923.0\n",
       "498  40.0   72164.0\n",
       "499  42.0       NaN\n",
       "\n",
       "[500 rows x 2 columns]"
      ]
     },
     "execution_count": 13,
     "metadata": {},
     "output_type": "execute_result"
    }
   ],
   "source": [
    "# Select the 'Age' and 'Income' columns\n",
    "df[['Age','Income']]"
   ]
  },
  {
   "cell_type": "markdown",
   "id": "79461f86-7316-40b7-8930-e3ca5564ea67",
   "metadata": {},
   "source": [
    "We can also create a new object and store the result, and later we can access the result from the object."
   ]
  },
  {
   "cell_type": "code",
   "execution_count": 14,
   "id": "df36981a-a58e-44d1-a872-e8def471f376",
   "metadata": {
    "tags": []
   },
   "outputs": [
    {
     "name": "stdout",
     "output_type": "stream",
     "text": [
      "Selected Age and Income columns:\n",
      "       Age    Income\n",
      "0    64.0   24141.0\n",
      "1    18.0   82523.0\n",
      "2    40.0   37928.0\n",
      "3    47.0   83622.0\n",
      "4    43.0  120475.0\n",
      "..    ...       ...\n",
      "495  52.0  143234.0\n",
      "496   NaN   56023.0\n",
      "497  44.0   45923.0\n",
      "498  40.0   72164.0\n",
      "499  42.0       NaN\n",
      "\n",
      "[500 rows x 2 columns]\n"
     ]
    }
   ],
   "source": [
    "# Select the 'Age' and 'Income' columns and store in a object\n",
    "age_income_columns = df[['Age','Income']]\n",
    "print(\"Selected Age and Income columns:\\n\",age_income_columns)"
   ]
  },
  {
   "cell_type": "markdown",
   "id": "60a22966-80ab-439d-b07f-6d188a7626c2",
   "metadata": {},
   "source": [
    "### Exercise 2\n",
    "What happens if you ask for a column that doesn’t exist?\n",
    "-  df['Name']\n"
   ]
  },
  {
   "cell_type": "code",
   "execution_count": 15,
   "id": "36f39734-b6d2-4a37-9b48-a4d7f36c4e9a",
   "metadata": {
    "tags": []
   },
   "outputs": [
    {
     "ename": "KeyError",
     "evalue": "'Name'",
     "output_type": "error",
     "traceback": [
      "\u001b[1;31m---------------------------------------------------------------------------\u001b[0m",
      "\u001b[1;31mKeyError\u001b[0m                                  Traceback (most recent call last)",
      "File \u001b[1;32m~\\anaconda33\\Lib\\site-packages\\pandas\\core\\indexes\\base.py:3791\u001b[0m, in \u001b[0;36mIndex.get_loc\u001b[1;34m(self, key)\u001b[0m\n\u001b[0;32m   3790\u001b[0m \u001b[38;5;28;01mtry\u001b[39;00m:\n\u001b[1;32m-> 3791\u001b[0m     \u001b[38;5;28;01mreturn\u001b[39;00m \u001b[38;5;28;43mself\u001b[39;49m\u001b[38;5;241;43m.\u001b[39;49m\u001b[43m_engine\u001b[49m\u001b[38;5;241;43m.\u001b[39;49m\u001b[43mget_loc\u001b[49m\u001b[43m(\u001b[49m\u001b[43mcasted_key\u001b[49m\u001b[43m)\u001b[49m\n\u001b[0;32m   3792\u001b[0m \u001b[38;5;28;01mexcept\u001b[39;00m \u001b[38;5;167;01mKeyError\u001b[39;00m \u001b[38;5;28;01mas\u001b[39;00m err:\n",
      "File \u001b[1;32mindex.pyx:152\u001b[0m, in \u001b[0;36mpandas._libs.index.IndexEngine.get_loc\u001b[1;34m()\u001b[0m\n",
      "File \u001b[1;32mindex.pyx:181\u001b[0m, in \u001b[0;36mpandas._libs.index.IndexEngine.get_loc\u001b[1;34m()\u001b[0m\n",
      "File \u001b[1;32mpandas\\_libs\\hashtable_class_helper.pxi:7080\u001b[0m, in \u001b[0;36mpandas._libs.hashtable.PyObjectHashTable.get_item\u001b[1;34m()\u001b[0m\n",
      "File \u001b[1;32mpandas\\_libs\\hashtable_class_helper.pxi:7088\u001b[0m, in \u001b[0;36mpandas._libs.hashtable.PyObjectHashTable.get_item\u001b[1;34m()\u001b[0m\n",
      "\u001b[1;31mKeyError\u001b[0m: 'Name'",
      "\nThe above exception was the direct cause of the following exception:\n",
      "\u001b[1;31mKeyError\u001b[0m                                  Traceback (most recent call last)",
      "Cell \u001b[1;32mIn[15], line 1\u001b[0m\n\u001b[1;32m----> 1\u001b[0m \u001b[43mdf\u001b[49m\u001b[43m[\u001b[49m\u001b[38;5;124;43m'\u001b[39;49m\u001b[38;5;124;43mName\u001b[39;49m\u001b[38;5;124;43m'\u001b[39;49m\u001b[43m]\u001b[49m\n",
      "File \u001b[1;32m~\\anaconda33\\Lib\\site-packages\\pandas\\core\\frame.py:3893\u001b[0m, in \u001b[0;36mDataFrame.__getitem__\u001b[1;34m(self, key)\u001b[0m\n\u001b[0;32m   3891\u001b[0m \u001b[38;5;28;01mif\u001b[39;00m \u001b[38;5;28mself\u001b[39m\u001b[38;5;241m.\u001b[39mcolumns\u001b[38;5;241m.\u001b[39mnlevels \u001b[38;5;241m>\u001b[39m \u001b[38;5;241m1\u001b[39m:\n\u001b[0;32m   3892\u001b[0m     \u001b[38;5;28;01mreturn\u001b[39;00m \u001b[38;5;28mself\u001b[39m\u001b[38;5;241m.\u001b[39m_getitem_multilevel(key)\n\u001b[1;32m-> 3893\u001b[0m indexer \u001b[38;5;241m=\u001b[39m \u001b[38;5;28;43mself\u001b[39;49m\u001b[38;5;241;43m.\u001b[39;49m\u001b[43mcolumns\u001b[49m\u001b[38;5;241;43m.\u001b[39;49m\u001b[43mget_loc\u001b[49m\u001b[43m(\u001b[49m\u001b[43mkey\u001b[49m\u001b[43m)\u001b[49m\n\u001b[0;32m   3894\u001b[0m \u001b[38;5;28;01mif\u001b[39;00m is_integer(indexer):\n\u001b[0;32m   3895\u001b[0m     indexer \u001b[38;5;241m=\u001b[39m [indexer]\n",
      "File \u001b[1;32m~\\anaconda33\\Lib\\site-packages\\pandas\\core\\indexes\\base.py:3798\u001b[0m, in \u001b[0;36mIndex.get_loc\u001b[1;34m(self, key)\u001b[0m\n\u001b[0;32m   3793\u001b[0m     \u001b[38;5;28;01mif\u001b[39;00m \u001b[38;5;28misinstance\u001b[39m(casted_key, \u001b[38;5;28mslice\u001b[39m) \u001b[38;5;129;01mor\u001b[39;00m (\n\u001b[0;32m   3794\u001b[0m         \u001b[38;5;28misinstance\u001b[39m(casted_key, abc\u001b[38;5;241m.\u001b[39mIterable)\n\u001b[0;32m   3795\u001b[0m         \u001b[38;5;129;01mand\u001b[39;00m \u001b[38;5;28many\u001b[39m(\u001b[38;5;28misinstance\u001b[39m(x, \u001b[38;5;28mslice\u001b[39m) \u001b[38;5;28;01mfor\u001b[39;00m x \u001b[38;5;129;01min\u001b[39;00m casted_key)\n\u001b[0;32m   3796\u001b[0m     ):\n\u001b[0;32m   3797\u001b[0m         \u001b[38;5;28;01mraise\u001b[39;00m InvalidIndexError(key)\n\u001b[1;32m-> 3798\u001b[0m     \u001b[38;5;28;01mraise\u001b[39;00m \u001b[38;5;167;01mKeyError\u001b[39;00m(key) \u001b[38;5;28;01mfrom\u001b[39;00m \u001b[38;5;21;01merr\u001b[39;00m\n\u001b[0;32m   3799\u001b[0m \u001b[38;5;28;01mexcept\u001b[39;00m \u001b[38;5;167;01mTypeError\u001b[39;00m:\n\u001b[0;32m   3800\u001b[0m     \u001b[38;5;66;03m# If we have a listlike key, _check_indexing_error will raise\u001b[39;00m\n\u001b[0;32m   3801\u001b[0m     \u001b[38;5;66;03m#  InvalidIndexError. Otherwise we fall through and re-raise\u001b[39;00m\n\u001b[0;32m   3802\u001b[0m     \u001b[38;5;66;03m#  the TypeError.\u001b[39;00m\n\u001b[0;32m   3803\u001b[0m     \u001b[38;5;28mself\u001b[39m\u001b[38;5;241m.\u001b[39m_check_indexing_error(key)\n",
      "\u001b[1;31mKeyError\u001b[0m: 'Name'"
     ]
    }
   ],
   "source": [
    "df['Name']"
   ]
  },
  {
   "cell_type": "markdown",
   "id": "f502045f-fafa-4731-8db9-c5b1c43f156d",
   "metadata": {},
   "source": [
    "## Extracting Range-based Subsets (Slicing)\n",
    "Slicing is a technique used to extract a portion or subset of elements from a sequence, such as a list, array, or string. It allows us to specify a range of indices to retrieve a subset of the data.\n",
    "\n",
    "-  Getting Specific Elements\n",
    "-  Getting a Set of Elements\n",
    "-  Getting First Few Elements\n",
    "-  Getting Last Few Elements\n",
    "\n",
    "Let's go through a simple example of a list before moving back to dataframes:\n"
   ]
  },
  {
   "cell_type": "code",
   "execution_count": 16,
   "id": "3356af58-f27c-4eb5-b5ad-a2df5c1af546",
   "metadata": {
    "tags": []
   },
   "outputs": [
    {
     "name": "stdout",
     "output_type": "stream",
     "text": [
      "Element at index 2:  30\n",
      "Subset from index 2 to 4:  [30, 40, 50]\n",
      "First three elements:  [10, 20, 30]\n",
      "Last two elements: [70, 80]\n"
     ]
    }
   ],
   "source": [
    "# Sample list\n",
    "my_list = [10,20,30,40,50,60,70,80]\n",
    "\n",
    "# Getting specific elements\n",
    "element_at_index_2 = my_list[2]\n",
    "print(\"Element at index 2: \", element_at_index_2)\n",
    "\n",
    "# Getting a set of elements\n",
    "subset = my_list[2:5]# upper bound not included\n",
    "print(\"Subset from index 2 to 4: \", subset)\n",
    "\n",
    "# Getting first few elements\n",
    "first_three_elements = my_list[:3]# 3 is included\n",
    "print(\"First three elements: \", first_three_elements)\n",
    "\n",
    "# Getting last few elements\n",
    "last_two_elements  = my_list[-2:]\n",
    "print(\"Last two elements:\", last_two_elements)\n"
   ]
  },
  {
   "cell_type": "code",
   "execution_count": 17,
   "id": "1a98f7ff-0839-4734-889e-d9853601635f",
   "metadata": {
    "tags": []
   },
   "outputs": [
    {
     "name": "stdout",
     "output_type": "stream",
     "text": [
      " 1. First, third, and fifth numbers: [10, 30, 50]\n",
      "2. First, third, and fifth numbers: [10, 30, 50]\n"
     ]
    }
   ],
   "source": [
    "# Print First, third and fifth number of my_list\n",
    "print(\" 1. First, third, and fifth numbers:\", [my_list[i] for i in [0, 2, 4]])\n",
    "print(\"2. First, third, and fifth numbers:\",  my_list[0:5:2])"
   ]
  },
  {
   "cell_type": "markdown",
   "id": "4f23dce8-708f-4b3b-be0d-e8275d0e07ec",
   "metadata": {
    "tags": []
   },
   "source": [
    "### Exercise 3\n",
    "What would be the output of the following command\n",
    "-  my_list[len(my_list)]\n"
   ]
  },
  {
   "cell_type": "code",
   "execution_count": 18,
   "id": "e012bea4-6e34-4dd2-aed8-efb9d1c74248",
   "metadata": {
    "tags": []
   },
   "outputs": [
    {
     "ename": "IndexError",
     "evalue": "list index out of range",
     "output_type": "error",
     "traceback": [
      "\u001b[1;31m---------------------------------------------------------------------------\u001b[0m",
      "\u001b[1;31mIndexError\u001b[0m                                Traceback (most recent call last)",
      "Cell \u001b[1;32mIn[18], line 1\u001b[0m\n\u001b[1;32m----> 1\u001b[0m \u001b[43mmy_list\u001b[49m\u001b[43m[\u001b[49m\u001b[38;5;28;43mlen\u001b[39;49m\u001b[43m(\u001b[49m\u001b[43mmy_list\u001b[49m\u001b[43m)\u001b[49m\u001b[43m]\u001b[49m\n",
      "\u001b[1;31mIndexError\u001b[0m: list index out of range"
     ]
    }
   ],
   "source": [
    "my_list[len(my_list)]"
   ]
  },
  {
   "cell_type": "code",
   "execution_count": 19,
   "id": "6e9296fe-7e01-47e4-b6d1-da54ec0c2312",
   "metadata": {
    "tags": []
   },
   "outputs": [
    {
     "data": {
      "text/plain": [
       "8"
      ]
     },
     "execution_count": 19,
     "metadata": {},
     "output_type": "execute_result"
    }
   ],
   "source": [
    "len(my_list)\n",
    "\n",
    "#The indexes of our list goes from 0 to len(my_list)-1"
   ]
  },
  {
   "cell_type": "code",
   "execution_count": 20,
   "id": "619eaae9-7062-4739-9f1c-d1e5581723ef",
   "metadata": {
    "tags": []
   },
   "outputs": [
    {
     "data": {
      "text/plain": [
       "80"
      ]
     },
     "execution_count": 20,
     "metadata": {},
     "output_type": "execute_result"
    }
   ],
   "source": [
    "my_list[len(my_list)-1]"
   ]
  },
  {
   "cell_type": "markdown",
   "id": "58b4b28e-fea0-4ebb-8aa0-0cb3bfff14c9",
   "metadata": {},
   "source": [
    "## Slicing Rows and Columns\n",
    "Slicing rows and columns simultaneously involves using **.loc** or **.iloc** and specifying the row indices and column labels or indices we want to include.\n",
    "\n",
    "-  **.loc** is label-based indexing, meaning we specify the row and column labels.\n",
    "-  **.iloc** is integer-based indexing, meaning we use integer indices for rows and columns."
   ]
  },
  {
   "cell_type": "markdown",
   "id": "96cc6850-b3b2-4d30-91aa-b712ec4aeec5",
   "metadata": {},
   "source": [
    "#### Using .loc "
   ]
  },
  {
   "cell_type": "code",
   "execution_count": 21,
   "id": "d9fd77d6-0c8d-4ece-8601-4f71c66a9246",
   "metadata": {
    "tags": []
   },
   "outputs": [
    {
     "name": "stdout",
     "output_type": "stream",
     "text": [
      "Sliced Rows and Columns using .loc:\n",
      "   Gender   Age\n",
      "1      F  18.0\n",
      "2    NaN  40.0\n",
      "3      F  47.0\n"
     ]
    }
   ],
   "source": [
    "# Slice rows 1 to 3 and columns 'Gender' and 'Age' using .loc\n",
    "sliced_rows_columns_loc = df.loc[1:3, ['Gender','Age']]\n",
    "print(\"Sliced Rows and Columns using .loc:\\n\", sliced_rows_columns_loc)"
   ]
  },
  {
   "cell_type": "markdown",
   "id": "975977fe-a296-4b6a-9205-f1a78b5f2547",
   "metadata": {},
   "source": [
    "Now, if we want to select **‘Gender’, ’Age’, and ‘Weight’** columns with row labels **“1, 3, 4”**, we can also do this using the below code:"
   ]
  },
  {
   "cell_type": "code",
   "execution_count": 22,
   "id": "c01bc34d-2c1e-42b0-994f-b55523e555b0",
   "metadata": {
    "tags": []
   },
   "outputs": [
    {
     "name": "stdout",
     "output_type": "stream",
     "text": [
      "Sliced Rows and Columns using .loc:\n",
      "   Gender   Age     Weight\n",
      "1      F  18.0  72.400692\n",
      "3      F  47.0  63.506353\n",
      "4      M  43.0  85.101889\n"
     ]
    }
   ],
   "source": [
    "# Slice rows “1, 3, 4” and columns 'Gender','Age', and 'Weight'\n",
    "sliced_rows_columns_loc2 = df.loc[[1,3,4],['Gender','Age','Weight']]\n",
    "print(\"Sliced Rows and Columns using .loc:\\n\", sliced_rows_columns_loc2)"
   ]
  },
  {
   "cell_type": "markdown",
   "id": "31f06688-f84d-444c-82ec-b964681aeb12",
   "metadata": {},
   "source": [
    "### Using .iloc: "
   ]
  },
  {
   "cell_type": "code",
   "execution_count": 23,
   "id": "ba99110c-5f35-45b8-9c1a-d4065b57a616",
   "metadata": {
    "tags": []
   },
   "outputs": [
    {
     "name": "stdout",
     "output_type": "stream",
     "text": [
      "Sliced Rows and Columns using .iloc:\n",
      "   Gender   Age   Income\n",
      "1      F  18.0  82523.0\n",
      "2    NaN  40.0  37928.0\n",
      "3      F  47.0  83622.0\n"
     ]
    }
   ],
   "source": [
    "# Slice rows 1 to 3 and columns at index 1 to 3 using .iloc\n",
    "sliced_rows_columns_iloc = df.iloc[1:4,1:4] # 4 is not included\n",
    "print(\"Sliced Rows and Columns using .iloc:\\n\", sliced_rows_columns_iloc)"
   ]
  },
  {
   "cell_type": "markdown",
   "id": "4e0cee50-147c-44d1-ae0e-f7d5e2196b61",
   "metadata": {},
   "source": [
    "In both cases, using *.loc* or *.iloc*, the first argument specifies the rows to include, and the second argument specifies the columns to include. "
   ]
  },
  {
   "cell_type": "markdown",
   "id": "6a357a52-e224-4901-bf6b-9385ec3f7744",
   "metadata": {},
   "source": [
    "## Subsetting Data using Criteria\n",
    "Subsetting data using criteria involves selecting a subset of rows from a DataFrame based on specific conditions. This is often done to filter out rows that meet certain criteria or to focus on specific data points that are relevant to our analysis. \n",
    "\n",
    "We can use conditional statements to filter rows based on specific criteria. The condition is typically applied to a column, and rows meeting the condition are retained.\n",
    "\n",
    "For example, let’s say we want to subset the DataFrame to only include individuals with an age greater than 25\n"
   ]
  },
  {
   "cell_type": "code",
   "execution_count": 24,
   "id": "0dcfed9b-26ca-405f-9848-a853c32d280d",
   "metadata": {
    "tags": []
   },
   "outputs": [
    {
     "name": "stdout",
     "output_type": "stream",
     "text": [
      "Subset of individuals with age > 25:\n",
      "       Id Gender   Age    Income      Height     Weight\n",
      "0      1      M  64.0   24141.0         NaN  91.026092\n",
      "2      3    NaN  40.0   37928.0  153.884926  90.153410\n",
      "3      4      F  47.0   83622.0  189.395822  63.506353\n",
      "4      5      M  43.0  120475.0  155.234732  85.101889\n",
      "5      6      M  62.0  120535.0  179.602918  76.109803\n",
      "..   ...    ...   ...       ...         ...        ...\n",
      "494  495    NaN  55.0   60864.0  182.079665  71.311427\n",
      "495  496      M  52.0  143234.0  156.044812  66.805198\n",
      "497  498    NaN  44.0   45923.0  180.344630  63.905775\n",
      "498  499      F  40.0   72164.0  151.121012        NaN\n",
      "499  500    NaN  42.0       NaN  170.127901  51.950306\n",
      "\n",
      "[374 rows x 6 columns]\n"
     ]
    }
   ],
   "source": [
    "# Subset data for individuals with age > 25\n",
    "subset_age_greater_25 = df[df['Age'] > 25]\n",
    "print(\"Subset of individuals with age > 25:\\n\", subset_age_greater_25)"
   ]
  },
  {
   "cell_type": "markdown",
   "id": "1b8485ec-d0b2-47f8-96be-e04a0eeaff9c",
   "metadata": {},
   "source": [
    "Also, we can combine multiple criteria using logical operators such as **&** *(AND)* and **|** *(OR)* to create more complex conditions.\n",
    "\n",
    "For instance, to subset the DataFrame for individuals with an age greater than 25 and an income greater than 60000:"
   ]
  },
  {
   "cell_type": "code",
   "execution_count": 25,
   "id": "cefd3afa-0c27-435b-a8d0-47bf4f3cd5f7",
   "metadata": {
    "tags": []
   },
   "outputs": [
    {
     "name": "stdout",
     "output_type": "stream",
     "text": [
      "Subset of individuals with age > 25 and income > 60000:\n",
      "       Id Gender   Age    Income      Height     Weight\n",
      "3      4      F  47.0   83622.0  189.395822  63.506353\n",
      "4      5      M  43.0  120475.0  155.234732  85.101889\n",
      "5      6      M  62.0  120535.0  179.602918  76.109803\n",
      "6      7      M  53.0  145042.0  176.081178        NaN\n",
      "7      8    NaN  61.0   97758.0  154.752066  81.734248\n",
      "..   ...    ...   ...       ...         ...        ...\n",
      "487  488      F  44.0  118330.0  179.536224  88.574138\n",
      "490  491      F  60.0  117648.0  181.056243        NaN\n",
      "494  495    NaN  55.0   60864.0  182.079665  71.311427\n",
      "495  496      M  52.0  143234.0  156.044812  66.805198\n",
      "498  499      F  40.0   72164.0  151.121012        NaN\n",
      "\n",
      "[209 rows x 6 columns]\n"
     ]
    }
   ],
   "source": [
    "# Subset data for individuals with age > 25 and income > 60000\n",
    "subset_age_income = df[(df['Age'] > 25) & (df['Income'] > 60000)]\n",
    "print(\"Subset of individuals with age > 25 and income > 60000:\\n\", subset_age_income)"
   ]
  },
  {
   "cell_type": "markdown",
   "id": "8d023dab-c6cb-42fd-9d38-91d1209681fa",
   "metadata": {},
   "source": [
    "We can also use the **~** symbol to negate a condition. For example, to subset the DataFrame for individuals with an age less than or equal to 25:"
   ]
  },
  {
   "cell_type": "code",
   "execution_count": 26,
   "id": "040e282b-bad2-4b41-ae97-725c41ffbb89",
   "metadata": {
    "tags": []
   },
   "outputs": [
    {
     "name": "stdout",
     "output_type": "stream",
     "text": [
      "Subset of individuals with age <= 25:\n",
      "       Id Gender   Age    Income      Height     Weight\n",
      "1      2      F  18.0   82523.0  189.533369  72.400692\n",
      "11    12      M  21.0  134072.0  188.650997  52.732921\n",
      "12    13    NaN  19.0       NaN  173.446142  61.146883\n",
      "15    16    NaN  23.0   52297.0  171.859691  85.833607\n",
      "16    17    NaN  23.0  126215.0  185.392064  81.741455\n",
      "..   ...    ...   ...       ...         ...        ...\n",
      "464  465    NaN   NaN       NaN  175.017878        NaN\n",
      "474  475      F   NaN       NaN  187.281876  92.718267\n",
      "479  480    NaN  22.0  140959.0  189.221855  94.844926\n",
      "482  483    NaN  21.0   25786.0  155.483269  55.226594\n",
      "496  497      M   NaN   56023.0  159.155331  80.400186\n",
      "\n",
      "[126 rows x 6 columns]\n"
     ]
    }
   ],
   "source": [
    "# Subset data for individuals with age <= 25\n",
    "subset_age_le_25 = df[~(df['Age'] > 25)]\n",
    "print(\"Subset of individuals with age <= 25:\\n\", subset_age_le_25)           "
   ]
  },
  {
   "cell_type": "markdown",
   "id": "089fafe9-6784-4bfe-ad0e-0caab79d0b55",
   "metadata": {},
   "source": [
    "The **isin()** function is used to filter data based on whether values are present in a specified list or iterable. It’s a convenient way to subset data when we want to select rows that match specific values for a particular column.\n",
    "\n",
    "Let’s say we want to select rows where the **‘Gender’** column has values **‘M’** or **‘F’**:\n"
   ]
  },
  {
   "cell_type": "code",
   "execution_count": 27,
   "id": "9ebdcdf3-1b78-4a26-9c51-660e7a96ab64",
   "metadata": {
    "tags": []
   },
   "outputs": [
    {
     "name": "stdout",
     "output_type": "stream",
     "text": [
      "Subset of data with 'Gender' values M or F :\n",
      "       Id Gender   Age    Income      Height     Weight\n",
      "0      1      M  64.0   24141.0         NaN  91.026092\n",
      "1      2      F  18.0   82523.0  189.533369  72.400692\n",
      "3      4      F  47.0   83622.0  189.395822  63.506353\n",
      "4      5      M  43.0  120475.0  155.234732  85.101889\n",
      "5      6      M  62.0  120535.0  179.602918  76.109803\n",
      "..   ...    ...   ...       ...         ...        ...\n",
      "492  493      M  58.0   21617.0  178.247016  96.618002\n",
      "493  494      F  34.0   28917.0  150.552383  95.738284\n",
      "495  496      M  52.0  143234.0  156.044812  66.805198\n",
      "496  497      M   NaN   56023.0  159.155331  80.400186\n",
      "498  499      F  40.0   72164.0  151.121012        NaN\n",
      "\n",
      "[335 rows x 6 columns]\n"
     ]
    }
   ],
   "source": [
    "# Subsetting data using isin() function\n",
    "subset_gender = df[df['Gender'].isin(['M','F'])]\n",
    "print(\"Subset of data with 'Gender' values M or F :\\n\", subset_gender)"
   ]
  },
  {
   "cell_type": "code",
   "execution_count": 28,
   "id": "84acfad0-1a48-4913-82ad-ad5fd8ca550b",
   "metadata": {
    "tags": []
   },
   "outputs": [
    {
     "name": "stdout",
     "output_type": "stream",
     "text": [
      "Subset of data with 'Id' values 1,2,3:\n",
      "    Id Gender   Age   Income      Height     Weight\n",
      "0   1      M  64.0  24141.0         NaN  91.026092\n",
      "1   2      F  18.0  82523.0  189.533369  72.400692\n",
      "2   3    NaN  40.0  37928.0  153.884926  90.153410\n"
     ]
    }
   ],
   "source": [
    "# Subsetting data using isin()function for 'Id' column\n",
    "subset_Id = df[df['Id'].isin([1,2,3])]\n",
    "print(\"Subset of data with 'Id' values 1,2,3:\\n\", subset_Id)"
   ]
  },
  {
   "cell_type": "code",
   "execution_count": 29,
   "id": "beeca23c-9909-4f8f-90ae-f56ad63d8784",
   "metadata": {
    "tags": []
   },
   "outputs": [
    {
     "name": "stdout",
     "output_type": "stream",
     "text": [
      "Subset of data with 'Gender' values M or F :\n",
      "       Id Gender   Age    Income      Height     Weight\n",
      "2      3    NaN  40.0   37928.0  153.884926  90.153410\n",
      "7      8    NaN  61.0   97758.0  154.752066  81.734248\n",
      "8      9    NaN  44.0  137929.0  150.101907  98.184214\n",
      "12    13    NaN  19.0       NaN  173.446142  61.146883\n",
      "15    16    NaN  23.0   52297.0  171.859691  85.833607\n",
      "..   ...    ...   ...       ...         ...        ...\n",
      "488  489    NaN  30.0   23785.0  165.755358        NaN\n",
      "491  492    NaN  49.0   50634.0  155.796445  95.706997\n",
      "494  495    NaN  55.0   60864.0  182.079665  71.311427\n",
      "497  498    NaN  44.0   45923.0  180.344630  63.905775\n",
      "499  500    NaN  42.0       NaN  170.127901  51.950306\n",
      "\n",
      "[165 rows x 6 columns]\n"
     ]
    }
   ],
   "source": [
    "# Subsetting data by negating isin() function using ~\n",
    "subset_gender = df[~df['Gender'].isin(['M','F'])]\n",
    "print(\"Subset of data with 'Gender' values M or F :\\n\", subset_gender)"
   ]
  },
  {
   "cell_type": "markdown",
   "id": "8c2311be-bd3a-40b0-85f2-d3360fc6c5a4",
   "metadata": {},
   "source": [
    "**isnull()** and **notnull()** functions are used to detect missing (NaN) values in a DataFrame. **isnull()** returns a DataFrame of the same shape as the input, with True values indicating missing values. **notnull()** returns the opposite.\n",
    "\n",
    "Let’s say we want to select rows where the ‘Age’ column *has missing values*:\n"
   ]
  },
  {
   "cell_type": "code",
   "execution_count": 30,
   "id": "565c3edb-54f4-4936-a530-29601d002b63",
   "metadata": {
    "tags": []
   },
   "outputs": [
    {
     "name": "stdout",
     "output_type": "stream",
     "text": [
      "Subset of data with missing 'Age' values:\n",
      "       Id Gender  Age    Income      Height     Weight\n",
      "34    35      M  NaN       NaN         NaN  77.748112\n",
      "48    49      M  NaN   80545.0  160.882447  84.132224\n",
      "49    50      M  NaN   84812.0  181.811067  50.797431\n",
      "62    63      F  NaN       NaN  160.336857  68.404654\n",
      "76    77      M  NaN   96922.0  150.758791  51.762343\n",
      "81    82    NaN  NaN   85039.0  176.034126  82.357999\n",
      "89    90    NaN  NaN  104684.0  151.599414  75.361666\n",
      "91    92      F  NaN  144675.0  180.480869  56.129768\n",
      "97    98      M  NaN  120095.0         NaN  89.292180\n",
      "100  101    NaN  NaN   41682.0  154.944984  74.792711\n",
      "121  122      M  NaN   35769.0  184.735616  68.987392\n",
      "133  134    NaN  NaN       NaN  155.219858  79.753255\n",
      "138  139    NaN  NaN       NaN  156.132598  96.430512\n",
      "162  163    NaN  NaN   49601.0  169.890227  79.864129\n",
      "193  194      M  NaN   76822.0  166.203285  77.342092\n",
      "202  203      M  NaN  119766.0  162.412929  57.717951\n",
      "203  204      M  NaN   80392.0  170.627908  61.763551\n",
      "210  211      M  NaN  113168.0  183.899399  71.579327\n",
      "219  220      F  NaN   77596.0  153.521195  62.904493\n",
      "220  221    NaN  NaN  129430.0  167.199851  93.101603\n",
      "223  224    NaN  NaN   30801.0  175.264463  88.145407\n",
      "238  239    NaN  NaN  102611.0  174.147723  55.616176\n",
      "255  256      F  NaN   83908.0  157.554053  54.634387\n",
      "271  272      F  NaN   49065.0  181.625893  74.605277\n",
      "272  273    NaN  NaN       NaN  152.807157  96.816610\n",
      "281  282    NaN  NaN   60279.0         NaN  81.312038\n",
      "290  291      M  NaN   89502.0  174.836518  82.937369\n",
      "316  317      F  NaN   82987.0  167.628493  67.210730\n",
      "319  320    NaN  NaN  102117.0  165.753825  64.207305\n",
      "321  322      F  NaN  139531.0  180.007736  88.907256\n",
      "334  335    NaN  NaN       NaN  178.593802  53.304731\n",
      "342  343      M  NaN       NaN  165.102111  91.182177\n",
      "346  347      F  NaN   53110.0  167.865724  76.519264\n",
      "355  356    NaN  NaN  133845.0  159.094024        NaN\n",
      "356  357      F  NaN  100898.0  163.542035        NaN\n",
      "357  358      F  NaN   84165.0  182.256283  69.795188\n",
      "364  365    NaN  NaN  100522.0  164.999876  72.985489\n",
      "378  379      M  NaN   69210.0  168.582980  52.332044\n",
      "382  383      M  NaN  117875.0  156.047811  66.995308\n",
      "405  406    NaN  NaN   39802.0  174.895440  59.406596\n",
      "409  410    NaN  NaN       NaN  185.328497  96.835473\n",
      "411  412      M  NaN   55171.0         NaN  57.325667\n",
      "426  427      F  NaN       NaN  154.711862  98.956591\n",
      "436  437    NaN  NaN  124801.0  167.403461        NaN\n",
      "439  440      F  NaN  101767.0  158.982296  62.287663\n",
      "464  465    NaN  NaN       NaN  175.017878        NaN\n",
      "474  475      F  NaN       NaN  187.281876  92.718267\n",
      "496  497      M  NaN   56023.0  159.155331  80.400186\n"
     ]
    }
   ],
   "source": [
    "# Subsetting data using isnull() function\n",
    "subset_missing_age = df[df['Age'].isnull()]\n",
    "print(\"Subset of data with missing 'Age' values:\\n\", subset_missing_age)"
   ]
  },
  {
   "cell_type": "markdown",
   "id": "95b07454-01b6-429a-bc82-99d4c665b80d",
   "metadata": {},
   "source": [
    "Let’s say we want to select rows where the ‘Age’ column *does not have missing values*:"
   ]
  },
  {
   "cell_type": "code",
   "execution_count": 31,
   "id": "1fb57c4e-b628-4aed-80a3-9f6448b67b15",
   "metadata": {
    "tags": []
   },
   "outputs": [
    {
     "name": "stdout",
     "output_type": "stream",
     "text": [
      "Subset of data without missing 'Age' values:\n",
      "       Id Gender   Age    Income      Height     Weight\n",
      "0      1      M  64.0   24141.0         NaN  91.026092\n",
      "1      2      F  18.0   82523.0  189.533369  72.400692\n",
      "2      3    NaN  40.0   37928.0  153.884926  90.153410\n",
      "3      4      F  47.0   83622.0  189.395822  63.506353\n",
      "4      5      M  43.0  120475.0  155.234732  85.101889\n",
      "..   ...    ...   ...       ...         ...        ...\n",
      "494  495    NaN  55.0   60864.0  182.079665  71.311427\n",
      "495  496      M  52.0  143234.0  156.044812  66.805198\n",
      "497  498    NaN  44.0   45923.0  180.344630  63.905775\n",
      "498  499      F  40.0   72164.0  151.121012        NaN\n",
      "499  500    NaN  42.0       NaN  170.127901  51.950306\n",
      "\n",
      "[452 rows x 6 columns]\n"
     ]
    }
   ],
   "source": [
    "# Subsetting data using notnull() function\n",
    "subset_notMissing_age = df[df['Age'].notnull()]\n",
    "print(\"Subset of data without missing 'Age' values:\\n\", subset_notMissing_age)"
   ]
  },
  {
   "cell_type": "code",
   "execution_count": 32,
   "id": "05959f46-e1a2-4022-b0cf-666eb93f5292",
   "metadata": {
    "tags": []
   },
   "outputs": [
    {
     "name": "stdout",
     "output_type": "stream",
     "text": [
      "Subset not null using & operator:\n",
      "       Id Gender   Age    Income      Height     Weight\n",
      "0      1      M  64.0   24141.0         NaN  91.026092\n",
      "1      2      F  18.0   82523.0  189.533369  72.400692\n",
      "2      3    NaN  40.0   37928.0  153.884926  90.153410\n",
      "3      4      F  47.0   83622.0  189.395822  63.506353\n",
      "4      5      M  43.0  120475.0  155.234732  85.101889\n",
      "..   ...    ...   ...       ...         ...        ...\n",
      "493  494      F  34.0   28917.0  150.552383  95.738284\n",
      "494  495    NaN  55.0   60864.0  182.079665  71.311427\n",
      "495  496      M  52.0  143234.0  156.044812  66.805198\n",
      "497  498    NaN  44.0   45923.0  180.344630  63.905775\n",
      "498  499      F  40.0   72164.0  151.121012        NaN\n",
      "\n",
      "[359 rows x 6 columns]\n",
      "Subset not null using column labels:\n",
      "       Id Gender   Age    Income      Height     Weight\n",
      "0      1      M  64.0   24141.0         NaN  91.026092\n",
      "1      2      F  18.0   82523.0  189.533369  72.400692\n",
      "2      3    NaN  40.0   37928.0  153.884926  90.153410\n",
      "3      4      F  47.0   83622.0  189.395822  63.506353\n",
      "4      5      M  43.0  120475.0  155.234732  85.101889\n",
      "..   ...    ...   ...       ...         ...        ...\n",
      "493  494      F  34.0   28917.0  150.552383  95.738284\n",
      "494  495    NaN  55.0   60864.0  182.079665  71.311427\n",
      "495  496      M  52.0  143234.0  156.044812  66.805198\n",
      "497  498    NaN  44.0   45923.0  180.344630  63.905775\n",
      "498  499      F  40.0   72164.0  151.121012        NaN\n",
      "\n",
      "[359 rows x 6 columns]\n"
     ]
    }
   ],
   "source": [
    "# Subsetting data using notnull() for 'Age' and 'Income'\n",
    "\n",
    "# 1. Using the & operator\n",
    "subset_notnull_age_income = df[(df['Age'].notnull()) & (df['Income'].notnull())]\n",
    "print(\"Subset not null using & operator:\\n\", subset_notnull_age_income)\n",
    "\n",
    "#2. Selecting data using labels\n",
    "subset_notnull_age_income_2 = df[df[['Age','Income']].notnull().all(axis=1)] ## FIXED CODE, .all(axis=1) WAS MISSING\n",
    "print(\"Subset not null using column labels:\\n\", subset_notnull_age_income_2)"
   ]
  },
  {
   "cell_type": "markdown",
   "id": "75f3b981-5475-41ff-98ce-4493d36f2f2a",
   "metadata": {},
   "source": [
    "The all(axis=1) method is used to check if all elements in a specified axis meet a certain condition.\n",
    "\n",
    "-  axis=1 refers to rows in a DataFrame.\n",
    "-  axis=0 refers to columns."
   ]
  },
  {
   "cell_type": "markdown",
   "id": "420f77d1-04d0-47d6-97ae-e3110c0e0233",
   "metadata": {},
   "source": [
    "## Calculating Statistics from Pandas DataFrame\n",
    "We can use Pandas DataFrame’s built-in methods to quickly generate summary statistics for our data. Such as, we can use the **describe()** function to get summary statistics for numerical columns like count, mean, standard deviation, minimum, and maximum."
   ]
  },
  {
   "cell_type": "code",
   "execution_count": 33,
   "id": "c974624d-6316-4949-b16c-a89273f71328",
   "metadata": {
    "tags": []
   },
   "outputs": [
    {
     "name": "stdout",
     "output_type": "stream",
     "text": [
      "               Id         Age         Income      Height      Weight\n",
      "count  500.000000  452.000000     396.000000  453.000000  458.000000\n",
      "mean   250.500000   41.856195   86108.492424  169.529216   75.025116\n",
      "std    144.481833   13.940613   36654.922564   10.878351   14.774209\n",
      "min      1.000000   18.000000   20045.000000  150.015783   50.295231\n",
      "25%    125.750000   29.000000   57367.000000  160.017565   61.837609\n",
      "50%    250.500000   42.000000   88871.000000  169.635492   75.331686\n",
      "75%    375.250000   53.250000  116668.000000  178.288046   88.464562\n",
      "max    500.000000   65.000000  149846.000000  189.968273   99.954461\n"
     ]
    }
   ],
   "source": [
    "# Print the summary statistics of the dataframe using describe()\n",
    "summary = df.describe()\n",
    "print(summary)"
   ]
  },
  {
   "cell_type": "markdown",
   "id": "553efc3d-7b8e-45b2-ba5a-bcd7be923aa4",
   "metadata": {},
   "source": [
    "If we want to calculate the standard deviation of a numerical column we can use **std()** function."
   ]
  },
  {
   "cell_type": "code",
   "execution_count": 34,
   "id": "ef6c4828-da7e-4a8a-9d2d-c7a35985a1b6",
   "metadata": {
    "tags": []
   },
   "outputs": [
    {
     "name": "stdout",
     "output_type": "stream",
     "text": [
      "Age Standard Deviation: 13.940613087236967\n"
     ]
    }
   ],
   "source": [
    "#Print the standard deviation of the Age column using std()\n",
    "age_std = df['Age'].std()\n",
    "print(\"Age Standard Deviation:\", age_std)"
   ]
  },
  {
   "cell_type": "markdown",
   "id": "7d012e4d-f0ad-4f25-a34c-e5ba20dfe965",
   "metadata": {},
   "source": [
    "There are many more statistics formulas that you can use, I encourage you to check out the following resources:\n",
    "-  https://www.tutorialspoint.com/python_pandas/python_pandas_descriptive_statistics.htm\n",
    "-  https://www.scaler.com/topics/pandas/statistical-functions-in-pandas/\n",
    "\n",
    "I promise you will have fun!"
   ]
  },
  {
   "cell_type": "markdown",
   "id": "d27e4ac5-4779-4318-90b5-2581ecfb33b8",
   "metadata": {},
   "source": [
    "## Groups in Pandas\n",
    "\n",
    "Frequently, there’s a need to compute summary statistics based on subsets or specific attributes within our dataset. For instance, we might wish to find the summary statistics of the income of all individuals, we can do it using the following code:"
   ]
  },
  {
   "cell_type": "code",
   "execution_count": 35,
   "id": "1efdaa32-a516-4c2d-b646-0e5c8ca3d159",
   "metadata": {
    "tags": []
   },
   "outputs": [
    {
     "data": {
      "text/plain": [
       "count       396.000000\n",
       "mean      86108.492424\n",
       "std       36654.922564\n",
       "min       20045.000000\n",
       "25%       57367.000000\n",
       "50%       88871.000000\n",
       "75%      116668.000000\n",
       "max      149846.000000\n",
       "Name: Income, dtype: float64"
      ]
     },
     "execution_count": 35,
     "metadata": {},
     "output_type": "execute_result"
    }
   ],
   "source": [
    "#Return summary statistics of the Income column \n",
    "df['Income'].describe()"
   ]
  },
  {
   "cell_type": "markdown",
   "id": "57e476b9-5dab-441d-ad9a-95c7fbf3070b",
   "metadata": {},
   "source": [
    "Again, we might also want to get only specific information, like the maximum:"
   ]
  },
  {
   "cell_type": "code",
   "execution_count": 36,
   "id": "1bf2b9ba-7959-4e7f-8e61-02e33999d5ed",
   "metadata": {
    "tags": []
   },
   "outputs": [
    {
     "data": {
      "text/plain": [
       "149846.0"
      ]
     },
     "execution_count": 36,
     "metadata": {},
     "output_type": "execute_result"
    }
   ],
   "source": [
    "#Return the maximum value of the Income column\n",
    "df['Income'].max()"
   ]
  },
  {
   "cell_type": "markdown",
   "id": "59eaced5-3a32-4d5f-b81b-e080bcf9be31",
   "metadata": {},
   "source": [
    "or we can get the average income of all individuals:"
   ]
  },
  {
   "cell_type": "code",
   "execution_count": 37,
   "id": "fae2e9a9-c9c5-40fd-ad86-da0a61f617a2",
   "metadata": {
    "tags": []
   },
   "outputs": [
    {
     "data": {
      "text/plain": [
       "86108.49242424243"
      ]
     },
     "execution_count": 37,
     "metadata": {},
     "output_type": "execute_result"
    }
   ],
   "source": [
    "#Return the average income of all individuals\n",
    "df['Income'].mean()"
   ]
  },
  {
   "cell_type": "markdown",
   "id": "100053e0-7fb6-431e-937c-40bb980b75f3",
   "metadata": {},
   "source": [
    "However, when the intention is to summarize data based on one or more variables, such as gender, the Pandas library offers the **.groupby** method. Once a DataFrame is grouped using this approach, we have the ability to compute summary statistics of the selected grouping."
   ]
  },
  {
   "cell_type": "code",
   "execution_count": 38,
   "id": "91f48b7e-6f14-4013-a5b9-bea49bd7dc7c",
   "metadata": {
    "tags": []
   },
   "outputs": [
    {
     "data": {
      "text/html": [
       "<div>\n",
       "<style scoped>\n",
       "    .dataframe tbody tr th:only-of-type {\n",
       "        vertical-align: middle;\n",
       "    }\n",
       "\n",
       "    .dataframe tbody tr th {\n",
       "        vertical-align: top;\n",
       "    }\n",
       "\n",
       "    .dataframe thead th {\n",
       "        text-align: right;\n",
       "    }\n",
       "</style>\n",
       "<table border=\"1\" class=\"dataframe\">\n",
       "  <thead>\n",
       "    <tr style=\"text-align: right;\">\n",
       "      <th></th>\n",
       "      <th>Id</th>\n",
       "      <th>Income</th>\n",
       "      <th>Height</th>\n",
       "      <th>Weight</th>\n",
       "    </tr>\n",
       "    <tr>\n",
       "      <th>Age</th>\n",
       "      <th></th>\n",
       "      <th></th>\n",
       "      <th></th>\n",
       "      <th></th>\n",
       "    </tr>\n",
       "  </thead>\n",
       "  <tbody>\n",
       "    <tr>\n",
       "      <th>18.0</th>\n",
       "      <td>195.090909</td>\n",
       "      <td>96315.375000</td>\n",
       "      <td>170.103731</td>\n",
       "      <td>73.987753</td>\n",
       "    </tr>\n",
       "    <tr>\n",
       "      <th>19.0</th>\n",
       "      <td>246.250000</td>\n",
       "      <td>87691.666667</td>\n",
       "      <td>171.623130</td>\n",
       "      <td>70.695070</td>\n",
       "    </tr>\n",
       "    <tr>\n",
       "      <th>20.0</th>\n",
       "      <td>228.083333</td>\n",
       "      <td>87823.636364</td>\n",
       "      <td>168.674221</td>\n",
       "      <td>73.915529</td>\n",
       "    </tr>\n",
       "    <tr>\n",
       "      <th>21.0</th>\n",
       "      <td>226.000000</td>\n",
       "      <td>89577.777778</td>\n",
       "      <td>171.518129</td>\n",
       "      <td>76.492599</td>\n",
       "    </tr>\n",
       "    <tr>\n",
       "      <th>22.0</th>\n",
       "      <td>253.875000</td>\n",
       "      <td>114389.571429</td>\n",
       "      <td>175.781805</td>\n",
       "      <td>75.984598</td>\n",
       "    </tr>\n",
       "    <tr>\n",
       "      <th>23.0</th>\n",
       "      <td>183.700000</td>\n",
       "      <td>73661.000000</td>\n",
       "      <td>172.478158</td>\n",
       "      <td>69.541791</td>\n",
       "    </tr>\n",
       "    <tr>\n",
       "      <th>24.0</th>\n",
       "      <td>250.428571</td>\n",
       "      <td>110314.000000</td>\n",
       "      <td>165.903550</td>\n",
       "      <td>67.539430</td>\n",
       "    </tr>\n",
       "    <tr>\n",
       "      <th>25.0</th>\n",
       "      <td>244.500000</td>\n",
       "      <td>82448.400000</td>\n",
       "      <td>171.177153</td>\n",
       "      <td>76.334082</td>\n",
       "    </tr>\n",
       "    <tr>\n",
       "      <th>26.0</th>\n",
       "      <td>159.600000</td>\n",
       "      <td>92140.888889</td>\n",
       "      <td>171.139189</td>\n",
       "      <td>78.765376</td>\n",
       "    </tr>\n",
       "    <tr>\n",
       "      <th>27.0</th>\n",
       "      <td>279.125000</td>\n",
       "      <td>114739.166667</td>\n",
       "      <td>161.964803</td>\n",
       "      <td>74.711894</td>\n",
       "    </tr>\n",
       "    <tr>\n",
       "      <th>28.0</th>\n",
       "      <td>233.666667</td>\n",
       "      <td>91757.000000</td>\n",
       "      <td>172.748631</td>\n",
       "      <td>77.078764</td>\n",
       "    </tr>\n",
       "    <tr>\n",
       "      <th>29.0</th>\n",
       "      <td>247.222222</td>\n",
       "      <td>75717.666667</td>\n",
       "      <td>167.975750</td>\n",
       "      <td>78.876743</td>\n",
       "    </tr>\n",
       "    <tr>\n",
       "      <th>30.0</th>\n",
       "      <td>212.666667</td>\n",
       "      <td>64038.500000</td>\n",
       "      <td>174.433240</td>\n",
       "      <td>72.993368</td>\n",
       "    </tr>\n",
       "    <tr>\n",
       "      <th>31.0</th>\n",
       "      <td>214.285714</td>\n",
       "      <td>76034.142857</td>\n",
       "      <td>166.893072</td>\n",
       "      <td>69.443276</td>\n",
       "    </tr>\n",
       "    <tr>\n",
       "      <th>32.0</th>\n",
       "      <td>218.142857</td>\n",
       "      <td>114238.666667</td>\n",
       "      <td>168.484216</td>\n",
       "      <td>72.798077</td>\n",
       "    </tr>\n",
       "    <tr>\n",
       "      <th>33.0</th>\n",
       "      <td>183.555556</td>\n",
       "      <td>87235.875000</td>\n",
       "      <td>170.804143</td>\n",
       "      <td>75.142616</td>\n",
       "    </tr>\n",
       "    <tr>\n",
       "      <th>34.0</th>\n",
       "      <td>264.857143</td>\n",
       "      <td>58592.166667</td>\n",
       "      <td>170.902562</td>\n",
       "      <td>77.039445</td>\n",
       "    </tr>\n",
       "    <tr>\n",
       "      <th>35.0</th>\n",
       "      <td>253.428571</td>\n",
       "      <td>124633.666667</td>\n",
       "      <td>169.058794</td>\n",
       "      <td>78.596310</td>\n",
       "    </tr>\n",
       "    <tr>\n",
       "      <th>36.0</th>\n",
       "      <td>224.800000</td>\n",
       "      <td>93367.750000</td>\n",
       "      <td>175.313033</td>\n",
       "      <td>81.988142</td>\n",
       "    </tr>\n",
       "    <tr>\n",
       "      <th>37.0</th>\n",
       "      <td>193.500000</td>\n",
       "      <td>94355.000000</td>\n",
       "      <td>171.117528</td>\n",
       "      <td>70.983502</td>\n",
       "    </tr>\n",
       "    <tr>\n",
       "      <th>38.0</th>\n",
       "      <td>316.000000</td>\n",
       "      <td>82117.285714</td>\n",
       "      <td>171.416965</td>\n",
       "      <td>80.063961</td>\n",
       "    </tr>\n",
       "    <tr>\n",
       "      <th>39.0</th>\n",
       "      <td>208.142857</td>\n",
       "      <td>65369.000000</td>\n",
       "      <td>168.580226</td>\n",
       "      <td>75.281645</td>\n",
       "    </tr>\n",
       "    <tr>\n",
       "      <th>40.0</th>\n",
       "      <td>271.636364</td>\n",
       "      <td>79527.111111</td>\n",
       "      <td>166.323100</td>\n",
       "      <td>71.260605</td>\n",
       "    </tr>\n",
       "    <tr>\n",
       "      <th>41.0</th>\n",
       "      <td>284.090909</td>\n",
       "      <td>90931.555556</td>\n",
       "      <td>164.682011</td>\n",
       "      <td>77.363206</td>\n",
       "    </tr>\n",
       "    <tr>\n",
       "      <th>42.0</th>\n",
       "      <td>289.285714</td>\n",
       "      <td>79172.750000</td>\n",
       "      <td>169.601755</td>\n",
       "      <td>73.997472</td>\n",
       "    </tr>\n",
       "    <tr>\n",
       "      <th>43.0</th>\n",
       "      <td>190.750000</td>\n",
       "      <td>84493.666667</td>\n",
       "      <td>171.611034</td>\n",
       "      <td>69.526338</td>\n",
       "    </tr>\n",
       "    <tr>\n",
       "      <th>44.0</th>\n",
       "      <td>312.700000</td>\n",
       "      <td>97241.100000</td>\n",
       "      <td>168.999140</td>\n",
       "      <td>74.804105</td>\n",
       "    </tr>\n",
       "    <tr>\n",
       "      <th>45.0</th>\n",
       "      <td>271.083333</td>\n",
       "      <td>70377.000000</td>\n",
       "      <td>171.699497</td>\n",
       "      <td>68.619812</td>\n",
       "    </tr>\n",
       "    <tr>\n",
       "      <th>46.0</th>\n",
       "      <td>271.846154</td>\n",
       "      <td>72477.750000</td>\n",
       "      <td>171.751348</td>\n",
       "      <td>80.651293</td>\n",
       "    </tr>\n",
       "    <tr>\n",
       "      <th>47.0</th>\n",
       "      <td>217.000000</td>\n",
       "      <td>91716.625000</td>\n",
       "      <td>169.136758</td>\n",
       "      <td>78.461584</td>\n",
       "    </tr>\n",
       "    <tr>\n",
       "      <th>48.0</th>\n",
       "      <td>292.285714</td>\n",
       "      <td>97594.200000</td>\n",
       "      <td>163.436320</td>\n",
       "      <td>78.259437</td>\n",
       "    </tr>\n",
       "    <tr>\n",
       "      <th>49.0</th>\n",
       "      <td>217.125000</td>\n",
       "      <td>61607.857143</td>\n",
       "      <td>167.250771</td>\n",
       "      <td>79.622638</td>\n",
       "    </tr>\n",
       "    <tr>\n",
       "      <th>50.0</th>\n",
       "      <td>280.285714</td>\n",
       "      <td>106276.400000</td>\n",
       "      <td>162.670453</td>\n",
       "      <td>75.837433</td>\n",
       "    </tr>\n",
       "    <tr>\n",
       "      <th>51.0</th>\n",
       "      <td>315.363636</td>\n",
       "      <td>84904.000000</td>\n",
       "      <td>173.396591</td>\n",
       "      <td>77.068431</td>\n",
       "    </tr>\n",
       "    <tr>\n",
       "      <th>52.0</th>\n",
       "      <td>231.777778</td>\n",
       "      <td>123386.571429</td>\n",
       "      <td>164.498243</td>\n",
       "      <td>73.746855</td>\n",
       "    </tr>\n",
       "    <tr>\n",
       "      <th>53.0</th>\n",
       "      <td>249.333333</td>\n",
       "      <td>119575.000000</td>\n",
       "      <td>172.460183</td>\n",
       "      <td>73.446444</td>\n",
       "    </tr>\n",
       "    <tr>\n",
       "      <th>54.0</th>\n",
       "      <td>233.625000</td>\n",
       "      <td>67611.833333</td>\n",
       "      <td>166.779500</td>\n",
       "      <td>74.140656</td>\n",
       "    </tr>\n",
       "    <tr>\n",
       "      <th>55.0</th>\n",
       "      <td>253.181818</td>\n",
       "      <td>90737.888889</td>\n",
       "      <td>172.902809</td>\n",
       "      <td>74.298011</td>\n",
       "    </tr>\n",
       "    <tr>\n",
       "      <th>56.0</th>\n",
       "      <td>218.000000</td>\n",
       "      <td>68869.333333</td>\n",
       "      <td>166.367643</td>\n",
       "      <td>69.160677</td>\n",
       "    </tr>\n",
       "    <tr>\n",
       "      <th>57.0</th>\n",
       "      <td>333.833333</td>\n",
       "      <td>85395.666667</td>\n",
       "      <td>158.311013</td>\n",
       "      <td>71.732289</td>\n",
       "    </tr>\n",
       "    <tr>\n",
       "      <th>58.0</th>\n",
       "      <td>225.428571</td>\n",
       "      <td>88387.333333</td>\n",
       "      <td>175.117216</td>\n",
       "      <td>79.590489</td>\n",
       "    </tr>\n",
       "    <tr>\n",
       "      <th>59.0</th>\n",
       "      <td>276.545455</td>\n",
       "      <td>71347.111111</td>\n",
       "      <td>168.658703</td>\n",
       "      <td>79.696966</td>\n",
       "    </tr>\n",
       "    <tr>\n",
       "      <th>60.0</th>\n",
       "      <td>273.222222</td>\n",
       "      <td>82896.750000</td>\n",
       "      <td>174.545715</td>\n",
       "      <td>74.513982</td>\n",
       "    </tr>\n",
       "    <tr>\n",
       "      <th>61.0</th>\n",
       "      <td>285.083333</td>\n",
       "      <td>87594.444444</td>\n",
       "      <td>166.696749</td>\n",
       "      <td>75.091913</td>\n",
       "    </tr>\n",
       "    <tr>\n",
       "      <th>62.0</th>\n",
       "      <td>228.000000</td>\n",
       "      <td>78744.777778</td>\n",
       "      <td>173.656040</td>\n",
       "      <td>74.111996</td>\n",
       "    </tr>\n",
       "    <tr>\n",
       "      <th>63.0</th>\n",
       "      <td>304.333333</td>\n",
       "      <td>61134.666667</td>\n",
       "      <td>164.174481</td>\n",
       "      <td>70.214332</td>\n",
       "    </tr>\n",
       "    <tr>\n",
       "      <th>64.0</th>\n",
       "      <td>261.727273</td>\n",
       "      <td>82377.181818</td>\n",
       "      <td>172.942959</td>\n",
       "      <td>78.816664</td>\n",
       "    </tr>\n",
       "    <tr>\n",
       "      <th>65.0</th>\n",
       "      <td>276.777778</td>\n",
       "      <td>81301.285714</td>\n",
       "      <td>173.785409</td>\n",
       "      <td>74.606691</td>\n",
       "    </tr>\n",
       "  </tbody>\n",
       "</table>\n",
       "</div>"
      ],
      "text/plain": [
       "              Id         Income      Height     Weight\n",
       "Age                                                   \n",
       "18.0  195.090909   96315.375000  170.103731  73.987753\n",
       "19.0  246.250000   87691.666667  171.623130  70.695070\n",
       "20.0  228.083333   87823.636364  168.674221  73.915529\n",
       "21.0  226.000000   89577.777778  171.518129  76.492599\n",
       "22.0  253.875000  114389.571429  175.781805  75.984598\n",
       "23.0  183.700000   73661.000000  172.478158  69.541791\n",
       "24.0  250.428571  110314.000000  165.903550  67.539430\n",
       "25.0  244.500000   82448.400000  171.177153  76.334082\n",
       "26.0  159.600000   92140.888889  171.139189  78.765376\n",
       "27.0  279.125000  114739.166667  161.964803  74.711894\n",
       "28.0  233.666667   91757.000000  172.748631  77.078764\n",
       "29.0  247.222222   75717.666667  167.975750  78.876743\n",
       "30.0  212.666667   64038.500000  174.433240  72.993368\n",
       "31.0  214.285714   76034.142857  166.893072  69.443276\n",
       "32.0  218.142857  114238.666667  168.484216  72.798077\n",
       "33.0  183.555556   87235.875000  170.804143  75.142616\n",
       "34.0  264.857143   58592.166667  170.902562  77.039445\n",
       "35.0  253.428571  124633.666667  169.058794  78.596310\n",
       "36.0  224.800000   93367.750000  175.313033  81.988142\n",
       "37.0  193.500000   94355.000000  171.117528  70.983502\n",
       "38.0  316.000000   82117.285714  171.416965  80.063961\n",
       "39.0  208.142857   65369.000000  168.580226  75.281645\n",
       "40.0  271.636364   79527.111111  166.323100  71.260605\n",
       "41.0  284.090909   90931.555556  164.682011  77.363206\n",
       "42.0  289.285714   79172.750000  169.601755  73.997472\n",
       "43.0  190.750000   84493.666667  171.611034  69.526338\n",
       "44.0  312.700000   97241.100000  168.999140  74.804105\n",
       "45.0  271.083333   70377.000000  171.699497  68.619812\n",
       "46.0  271.846154   72477.750000  171.751348  80.651293\n",
       "47.0  217.000000   91716.625000  169.136758  78.461584\n",
       "48.0  292.285714   97594.200000  163.436320  78.259437\n",
       "49.0  217.125000   61607.857143  167.250771  79.622638\n",
       "50.0  280.285714  106276.400000  162.670453  75.837433\n",
       "51.0  315.363636   84904.000000  173.396591  77.068431\n",
       "52.0  231.777778  123386.571429  164.498243  73.746855\n",
       "53.0  249.333333  119575.000000  172.460183  73.446444\n",
       "54.0  233.625000   67611.833333  166.779500  74.140656\n",
       "55.0  253.181818   90737.888889  172.902809  74.298011\n",
       "56.0  218.000000   68869.333333  166.367643  69.160677\n",
       "57.0  333.833333   85395.666667  158.311013  71.732289\n",
       "58.0  225.428571   88387.333333  175.117216  79.590489\n",
       "59.0  276.545455   71347.111111  168.658703  79.696966\n",
       "60.0  273.222222   82896.750000  174.545715  74.513982\n",
       "61.0  285.083333   87594.444444  166.696749  75.091913\n",
       "62.0  228.000000   78744.777778  173.656040  74.111996\n",
       "63.0  304.333333   61134.666667  164.174481  70.214332\n",
       "64.0  261.727273   82377.181818  172.942959  78.816664\n",
       "65.0  276.777778   81301.285714  173.785409  74.606691"
      ]
     },
     "execution_count": 38,
     "metadata": {},
     "output_type": "execute_result"
    }
   ],
   "source": [
    "# Group data by sex\n",
    "grouped_data = df.groupby('Age')\n",
    "\n",
    "# Provide the mean for each numeric column by sex\n",
    "grouped_data.mean(numeric_only = True)"
   ]
  },
  {
   "cell_type": "markdown",
   "id": "b0490f0a-1f8d-4f08-9426-45301160cc5a",
   "metadata": {},
   "source": [
    "## Basic Math with Pandas\n",
    "If desired, it’s entirely possible to perform mathematical operations, such as addition or division, on an entire column of our dataframe. \n",
    "\n",
    " \n",
    "Let's multiply the weight column by 2:"
   ]
  },
  {
   "cell_type": "code",
   "execution_count": 39,
   "id": "daa4f272-27a0-4b1d-ae78-d9340e32fa90",
   "metadata": {
    "tags": []
   },
   "outputs": [
    {
     "data": {
      "text/plain": [
       "0      182.052185\n",
       "1      144.801384\n",
       "2      180.306819\n",
       "3      127.012705\n",
       "4      170.203778\n",
       "          ...    \n",
       "495    133.610396\n",
       "496    160.800372\n",
       "497    127.811550\n",
       "498           NaN\n",
       "499    103.900612\n",
       "Name: Weight, Length: 500, dtype: float64"
      ]
     },
     "execution_count": 39,
     "metadata": {},
     "output_type": "execute_result"
    }
   ],
   "source": [
    "# Multiply all weight values by 2\n",
    "df['Weight']*2\n"
   ]
  },
  {
   "cell_type": "code",
   "execution_count": 40,
   "id": "539f5b95-5ef8-4921-8eac-40c163e9e1b7",
   "metadata": {
    "tags": []
   },
   "outputs": [
    {
     "data": {
      "text/html": [
       "<div>\n",
       "<style scoped>\n",
       "    .dataframe tbody tr th:only-of-type {\n",
       "        vertical-align: middle;\n",
       "    }\n",
       "\n",
       "    .dataframe tbody tr th {\n",
       "        vertical-align: top;\n",
       "    }\n",
       "\n",
       "    .dataframe thead th {\n",
       "        text-align: right;\n",
       "    }\n",
       "</style>\n",
       "<table border=\"1\" class=\"dataframe\">\n",
       "  <thead>\n",
       "    <tr style=\"text-align: right;\">\n",
       "      <th></th>\n",
       "      <th>Id</th>\n",
       "      <th>Gender</th>\n",
       "      <th>Age</th>\n",
       "      <th>Income</th>\n",
       "      <th>Height</th>\n",
       "      <th>Weight</th>\n",
       "      <th>Weight_2</th>\n",
       "    </tr>\n",
       "  </thead>\n",
       "  <tbody>\n",
       "    <tr>\n",
       "      <th>0</th>\n",
       "      <td>1</td>\n",
       "      <td>M</td>\n",
       "      <td>64.0</td>\n",
       "      <td>24141.0</td>\n",
       "      <td>NaN</td>\n",
       "      <td>91.026092</td>\n",
       "      <td>182.052185</td>\n",
       "    </tr>\n",
       "    <tr>\n",
       "      <th>1</th>\n",
       "      <td>2</td>\n",
       "      <td>F</td>\n",
       "      <td>18.0</td>\n",
       "      <td>82523.0</td>\n",
       "      <td>189.533369</td>\n",
       "      <td>72.400692</td>\n",
       "      <td>144.801384</td>\n",
       "    </tr>\n",
       "    <tr>\n",
       "      <th>2</th>\n",
       "      <td>3</td>\n",
       "      <td>NaN</td>\n",
       "      <td>40.0</td>\n",
       "      <td>37928.0</td>\n",
       "      <td>153.884926</td>\n",
       "      <td>90.153410</td>\n",
       "      <td>180.306819</td>\n",
       "    </tr>\n",
       "    <tr>\n",
       "      <th>3</th>\n",
       "      <td>4</td>\n",
       "      <td>F</td>\n",
       "      <td>47.0</td>\n",
       "      <td>83622.0</td>\n",
       "      <td>189.395822</td>\n",
       "      <td>63.506353</td>\n",
       "      <td>127.012705</td>\n",
       "    </tr>\n",
       "    <tr>\n",
       "      <th>4</th>\n",
       "      <td>5</td>\n",
       "      <td>M</td>\n",
       "      <td>43.0</td>\n",
       "      <td>120475.0</td>\n",
       "      <td>155.234732</td>\n",
       "      <td>85.101889</td>\n",
       "      <td>170.203778</td>\n",
       "    </tr>\n",
       "    <tr>\n",
       "      <th>...</th>\n",
       "      <td>...</td>\n",
       "      <td>...</td>\n",
       "      <td>...</td>\n",
       "      <td>...</td>\n",
       "      <td>...</td>\n",
       "      <td>...</td>\n",
       "      <td>...</td>\n",
       "    </tr>\n",
       "    <tr>\n",
       "      <th>495</th>\n",
       "      <td>496</td>\n",
       "      <td>M</td>\n",
       "      <td>52.0</td>\n",
       "      <td>143234.0</td>\n",
       "      <td>156.044812</td>\n",
       "      <td>66.805198</td>\n",
       "      <td>133.610396</td>\n",
       "    </tr>\n",
       "    <tr>\n",
       "      <th>496</th>\n",
       "      <td>497</td>\n",
       "      <td>M</td>\n",
       "      <td>NaN</td>\n",
       "      <td>56023.0</td>\n",
       "      <td>159.155331</td>\n",
       "      <td>80.400186</td>\n",
       "      <td>160.800372</td>\n",
       "    </tr>\n",
       "    <tr>\n",
       "      <th>497</th>\n",
       "      <td>498</td>\n",
       "      <td>NaN</td>\n",
       "      <td>44.0</td>\n",
       "      <td>45923.0</td>\n",
       "      <td>180.344630</td>\n",
       "      <td>63.905775</td>\n",
       "      <td>127.811550</td>\n",
       "    </tr>\n",
       "    <tr>\n",
       "      <th>498</th>\n",
       "      <td>499</td>\n",
       "      <td>F</td>\n",
       "      <td>40.0</td>\n",
       "      <td>72164.0</td>\n",
       "      <td>151.121012</td>\n",
       "      <td>NaN</td>\n",
       "      <td>NaN</td>\n",
       "    </tr>\n",
       "    <tr>\n",
       "      <th>499</th>\n",
       "      <td>500</td>\n",
       "      <td>NaN</td>\n",
       "      <td>42.0</td>\n",
       "      <td>NaN</td>\n",
       "      <td>170.127901</td>\n",
       "      <td>51.950306</td>\n",
       "      <td>103.900612</td>\n",
       "    </tr>\n",
       "  </tbody>\n",
       "</table>\n",
       "<p>500 rows × 7 columns</p>\n",
       "</div>"
      ],
      "text/plain": [
       "      Id Gender   Age    Income      Height     Weight    Weight_2\n",
       "0      1      M  64.0   24141.0         NaN  91.026092  182.052185\n",
       "1      2      F  18.0   82523.0  189.533369  72.400692  144.801384\n",
       "2      3    NaN  40.0   37928.0  153.884926  90.153410  180.306819\n",
       "3      4      F  47.0   83622.0  189.395822  63.506353  127.012705\n",
       "4      5      M  43.0  120475.0  155.234732  85.101889  170.203778\n",
       "..   ...    ...   ...       ...         ...        ...         ...\n",
       "495  496      M  52.0  143234.0  156.044812  66.805198  133.610396\n",
       "496  497      M   NaN   56023.0  159.155331  80.400186  160.800372\n",
       "497  498    NaN  44.0   45923.0  180.344630  63.905775  127.811550\n",
       "498  499      F  40.0   72164.0  151.121012        NaN         NaN\n",
       "499  500    NaN  42.0       NaN  170.127901  51.950306  103.900612\n",
       "\n",
       "[500 rows x 7 columns]"
      ]
     },
     "execution_count": 40,
     "metadata": {},
     "output_type": "execute_result"
    }
   ],
   "source": [
    "#Creating a new column 'Weight_2' that is going to be equal to df['Weight']*2\n",
    "df['Weight_2'] = df['Weight']*2\n",
    "df"
   ]
  },
  {
   "cell_type": "markdown",
   "id": "26008a86-bb53-4112-8e8e-cef3eab52680",
   "metadata": {},
   "source": [
    "## Concatenating DataFrames\n",
    "Concatenating DataFrames refers to combining two or more DataFrames along a particular axis (either rows or columns) to create a single larger DataFrame. This is useful when we have data split across multiple DataFrames and we want to consolidate them into one for analysis or processing.\n",
    "\n",
    "In Pandas, we can use the **concat()** function to concatenate DataFrames. This function provides various options to control how the concatenation should be performed. \n",
    "\n",
    "Let’s say we have two DataFrames, **df1** and **df2**, and we want to concatenate them vertically (along rows):"
   ]
  },
  {
   "cell_type": "code",
   "execution_count": 41,
   "id": "966922e9-209d-4ada-bc61-33f60036e23c",
   "metadata": {
    "tags": []
   },
   "outputs": [
    {
     "name": "stdout",
     "output_type": "stream",
     "text": [
      "Concatenated Dataframe:\n",
      "    A   B\n",
      "0  1   4\n",
      "1  2   5\n",
      "2  3   6\n",
      "3  7  10\n",
      "4  8  11\n",
      "5  9  12\n"
     ]
    }
   ],
   "source": [
    "#Concatenate df1 and df2 vertically (along rows)\n",
    "\n",
    "# Sample DataFrames\n",
    "data1 = {'A': [1,2,3], 'B':[4,5,6]}\n",
    "data2 = {'A': [7,8,9], 'B': [10,11,12]}\n",
    "df1 = pd.DataFrame(data1)\n",
    "df2 = pd.DataFrame(data2)\n",
    "\n",
    "# Concatenate DataFrames vertically\n",
    "concatenated_df = pd.concat([df1,df2],ignore_index = True)\n",
    "print(\"Concatenated Dataframe:\\n\", concatenated_df)"
   ]
  },
  {
   "cell_type": "code",
   "execution_count": null,
   "id": "6a12c3d8-5fea-43d2-a6fa-9981e3d194b3",
   "metadata": {
    "tags": []
   },
   "outputs": [],
   "source": [
    "print(df1)\n",
    "print(df2)"
   ]
  },
  {
   "cell_type": "markdown",
   "id": "f2785eb3-9dcf-475d-997b-79972086b14d",
   "metadata": {},
   "source": [
    "In this example, **pd.concat()** is used to concatenate df1 and df2 vertically into concatenated_df. The **ignore_index=True** argument ensures that the index is reset after concatenation."
   ]
  },
  {
   "cell_type": "markdown",
   "id": "a01418ae-359c-4d4b-b907-8d8ce84e5c64",
   "metadata": {},
   "source": [
    "We can also concatenate DataFrames **horizontally** by specifying **axis=1** as an argument to **pd.concat()**. This will merge the DataFrames along columns."
   ]
  },
  {
   "cell_type": "code",
   "execution_count": 42,
   "id": "49946199-7337-45cd-823e-c35d23e4551d",
   "metadata": {
    "tags": []
   },
   "outputs": [
    {
     "name": "stdout",
     "output_type": "stream",
     "text": [
      "Horizontal Concatenated DataFrame:\n",
      "     A  B  C   D\n",
      "0  1  4  7  10\n",
      "1  2  5  8  11\n",
      "2  3  6  9  12\n"
     ]
    }
   ],
   "source": [
    "#Concatenate df1 and df2 horizontally\n",
    "\n",
    "# Sample DataFrames\n",
    "data1 = {'A': [1,2,3], 'B':[4,5,6]}\n",
    "data2 = {'C': [7,8,9], 'D': [10,11,12]}\n",
    "\n",
    "df1 = pd.DataFrame(data1)\n",
    "df2 = pd.DataFrame(data2)\n",
    "\n",
    "# Concatenate DataFrames horizontally\n",
    "concatenated_df_horizontal = pd.concat([df1,df2], axis = 1)\n",
    "print(\"Horizontal Concatenated DataFrame:\\n \", concatenated_df_horizontal)"
   ]
  },
  {
   "cell_type": "markdown",
   "id": "d8bc8873-f133-4cff-9795-36175e06d776",
   "metadata": {
    "tags": []
   },
   "source": [
    "### Exercise 4\n",
    "Consider two DataFrames, df1 and df2, with the following data\n",
    "\n",
    "**import pandas as pd**\n",
    "\n",
    "**data1 = {'A': [1, 2, 3], 'B': [4, 5, 6]}**\n",
    "\n",
    "**data2 = {'A': [7, 8, 9], 'B': [10, 11, 12]}**\n",
    "\n",
    "**df1 = pd.DataFrame(data1)**\n",
    "\n",
    "**df2 = pd.DataFrame(data2)**\n",
    "\n",
    "What will be the output of the following code:\n",
    "\n",
    "**result = pd.concat([df1, df2], axis=1)**\n",
    "\n",
    "**print(result)**\n",
    "\n",
    "Select the correct answer ***(without running the code)***:\n",
    "\n",
    "a) The concatenated DataFrame with columns A, B, A, B\n",
    "\n",
    "b) An error will occur because columns A and B are duplicated\n",
    "\n",
    "c) The concatenated DataFrame with columns A, B, C, D\n",
    "\n"
   ]
  },
  {
   "cell_type": "code",
   "execution_count": 43,
   "id": "fe2cdda9-51ff-420a-9cbb-2377b6bfa73b",
   "metadata": {
    "tags": []
   },
   "outputs": [
    {
     "name": "stdout",
     "output_type": "stream",
     "text": [
      "   A  B  C   D\n",
      "0  1  4  7  10\n",
      "1  2  5  8  11\n",
      "2  3  6  9  12\n"
     ]
    }
   ],
   "source": [
    "import pandas as pd\n",
    "\n",
    "data1 = {'A': [1, 2, 3], 'B': [4, 5, 6]}\n",
    "\n",
    "data2 = {'A': [7, 8, 9], 'B': [10, 11, 12]}\n",
    "\n",
    "df1 = pd.DataFrame(data1)\n",
    "df2 = pd.DataFrame(data2)\n",
    "\n",
    "df2.columns = ['C','D']\n",
    "result = pd.concat([df1, df2], axis=1)\n",
    "\n",
    "print(result)"
   ]
  },
  {
   "cell_type": "markdown",
   "id": "e6e40368-8d8e-4e44-bffe-0ba71adacc43",
   "metadata": {},
   "source": [
    "## Saving Pandas DataFrame\n",
    "\n",
    "We can save a Pandas DataFrame to various file formats using different methods provided by Pandas. Before we move forward with saving  a pandas dataframe, let’s first create a new directory called “Results” within the directory that contains your code."
   ]
  },
  {
   "cell_type": "markdown",
   "id": "b940661f-504d-49de-a6ff-32b61e8089fd",
   "metadata": {},
   "source": [
    "Here are some commonly used methods to save a DataFrame:\n",
    "-  CSV Format: To save a DataFrame to a CSV file, we can use the to_csv() method:\n"
   ]
  },
  {
   "cell_type": "code",
   "execution_count": null,
   "id": "9ca26774-8179-42fe-9d3f-2a5a57b21aab",
   "metadata": {
    "tags": []
   },
   "outputs": [],
   "source": [
    "# Save DataFrame to CSV file\n",
    "output_path = 'Results/output.csv'\n",
    "df.to_csv(output_path, index = False)"
   ]
  },
  {
   "cell_type": "markdown",
   "id": "9cbba400-e842-4d16-83e7-faebc8f2e179",
   "metadata": {},
   "source": [
    "This will save the DataFrame to a CSV file named ‘output.csv’ inside a directory called “Results”, without including the index."
   ]
  },
  {
   "cell_type": "markdown",
   "id": "79e3a4ae-0954-4c0f-a98a-6bddfae5ecbb",
   "metadata": {},
   "source": [
    "-  Excel Format: To save a DataFrame to an Excel file, we can use the to_excel() method:"
   ]
  },
  {
   "cell_type": "code",
   "execution_count": null,
   "id": "6626932c-e412-449d-8aac-5438bb28a825",
   "metadata": {
    "tags": []
   },
   "outputs": [],
   "source": [
    "# Save DataFrame to Excel file\n",
    "output_path = 'Results/output.xlsx'\n",
    "df.to_excel(output_path, index = False)"
   ]
  },
  {
   "cell_type": "markdown",
   "id": "d8f7dede-b50c-4ea1-a5b0-d5cc7eb8302c",
   "metadata": {},
   "source": [
    "This will save the DataFrame to an Excel file named ‘output.xlsx’  inside a directory called “Results”, without including the index.\n"
   ]
  },
  {
   "cell_type": "markdown",
   "id": "925caa47-d869-4763-83e8-63ff962c0918",
   "metadata": {},
   "source": [
    "-  Other Formats: Pandas supports various other formats, including JSON, Parquet, HDF5, and more. We can use the appropriate method based on the desired format:\n",
    "\n",
    "    -   JSON: df.to_json(\"output.json\", orient=\"records\")\n",
    "    -   Parquet: df.to_parquet(\"output.parquet\")\n",
    "    -   HDF5: df.to_hdf(\"output.h5\", key=\"data\")\n",
    "\n",
    "Make sure to replace ‘output’ with your desired file name and extension.\n"
   ]
  }
 ],
 "metadata": {
  "kernelspec": {
   "display_name": "Python 3 (ipykernel)",
   "language": "python",
   "name": "python3"
  },
  "language_info": {
   "codemirror_mode": {
    "name": "ipython",
    "version": 3
   },
   "file_extension": ".py",
   "mimetype": "text/x-python",
   "name": "python",
   "nbconvert_exporter": "python",
   "pygments_lexer": "ipython3",
   "version": "3.11.7"
  }
 },
 "nbformat": 4,
 "nbformat_minor": 5
}
